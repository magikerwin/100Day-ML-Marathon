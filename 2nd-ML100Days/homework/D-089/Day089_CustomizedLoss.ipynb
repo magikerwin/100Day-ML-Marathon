{
 "cells": [
  {
   "cell_type": "markdown",
   "metadata": {},
   "source": [
    "## 範例重點\n",
    "* 學習如何在 keras 中撰寫自定義的 loss function\n",
    "* 知道如何在訓練時使用自定義的 loss function"
   ]
  },
  {
   "cell_type": "code",
   "execution_count": 1,
   "metadata": {},
   "outputs": [],
   "source": [
    "import os\n",
    "from tensorflow import keras\n",
    "\n",
    "# 本範例不需使用 GPU, 將 GPU 設定為 \"無\"\n",
    "os.environ[\"CUDA_VISIBLE_DEVICES\"] = \"0\""
   ]
  },
  {
   "cell_type": "code",
   "execution_count": 2,
   "metadata": {},
   "outputs": [],
   "source": [
    "train, test = keras.datasets.cifar10.load_data()"
   ]
  },
  {
   "cell_type": "code",
   "execution_count": 3,
   "metadata": {},
   "outputs": [],
   "source": [
    "## 資料前處理\n",
    "def preproc_x(x, flatten=True):\n",
    "    x = x / 255.\n",
    "    if flatten:\n",
    "        x = x.reshape((len(x), -1))\n",
    "    return x\n",
    "\n",
    "def preproc_y(y, num_classes=10):\n",
    "    if y.shape[-1] == 1:\n",
    "        y = keras.utils.to_categorical(y, num_classes)\n",
    "    return y    "
   ]
  },
  {
   "cell_type": "code",
   "execution_count": 4,
   "metadata": {},
   "outputs": [],
   "source": [
    "x_train, y_train = train\n",
    "x_test, y_test = test\n",
    "\n",
    "# 資料前處理 - X 標準化\n",
    "x_train = preproc_x(x_train)\n",
    "x_test = preproc_x(x_test)\n",
    "\n",
    "# 資料前處理 -Y 轉成 onehot\n",
    "y_train = preproc_y(y_train)\n",
    "y_test = preproc_y(y_test)"
   ]
  },
  {
   "cell_type": "code",
   "execution_count": 5,
   "metadata": {},
   "outputs": [],
   "source": [
    "from tensorflow.keras.layers import BatchNormalization\n",
    "\n",
    "\"\"\"\n",
    "建立神經網路，並加入 BN layer\n",
    "\"\"\"\n",
    "def build_mlp(input_shape, output_units=10, num_neurons=[512, 256, 128]):\n",
    "    input_layer = keras.layers.Input(input_shape)\n",
    "    \n",
    "    for i, n_units in enumerate(num_neurons):\n",
    "        if i == 0:\n",
    "            x = keras.layers.Dense(units=n_units, \n",
    "                                   activation=\"relu\", \n",
    "                                   name=\"hidden_layer\"+str(i+1))(input_layer)\n",
    "            x = BatchNormalization()(x)\n",
    "        else:\n",
    "            x = keras.layers.Dense(units=n_units, \n",
    "                                   activation=\"relu\", \n",
    "                                   name=\"hidden_layer\"+str(i+1))(x)\n",
    "            x = BatchNormalization()(x)\n",
    "    \n",
    "    out = keras.layers.Dense(units=output_units, activation=\"softmax\", name=\"output\")(x)\n",
    "    \n",
    "    model = keras.models.Model(inputs=[input_layer], outputs=[out])\n",
    "    return model"
   ]
  },
  {
   "cell_type": "code",
   "execution_count": 6,
   "metadata": {},
   "outputs": [],
   "source": [
    "## 超參數設定\n",
    "LEARNING_RATE = 1e-3\n",
    "EPOCHS = 50\n",
    "BATCH_SIZE = 1024\n",
    "MOMENTUM = 0.95"
   ]
  },
  {
   "cell_type": "code",
   "execution_count": 7,
   "metadata": {},
   "outputs": [],
   "source": [
    "import tensorflow as tf\n",
    "\n",
    "\"\"\"\n",
    "# 撰寫自定義的 loss function: focal loss (https://blog.csdn.net/u014380165/article/details/77019084)\n",
    "\"\"\"\n",
    "def focal_loss(gamma=2., alpha=4.):\n",
    "    gamma = float(gamma)\n",
    "    alpha = float(alpha)\n",
    "    def focal_loss_fixed(y_true, y_pred):\n",
    "        \"\"\"Focal loss for multi-classification\n",
    "        FL(p_t)=-alpha(1-p_t)^{gamma}ln(p_t)\n",
    "        \"\"\"\n",
    "        epsilon = 1e-8\n",
    "        y_true = tf.convert_to_tensor(y_true, tf.float32)\n",
    "        y_pred = tf.convert_to_tensor(y_pred, tf.float32)\n",
    "\n",
    "        model_out = tf.add(y_pred, epsilon)\n",
    "        ce = tf.multiply(y_true, -tf.math.log(model_out))\n",
    "        weight = tf.multiply(y_true, tf.pow(tf.subtract(1., model_out), gamma))\n",
    "        fl = tf.multiply(alpha, tf.multiply(weight, ce))\n",
    "        reduced_fl = tf.reduce_max(fl, axis=1)\n",
    "        return tf.reduce_mean(reduced_fl)\n",
    "    return focal_loss_fixed"
   ]
  },
  {
   "cell_type": "code",
   "execution_count": 8,
   "metadata": {
    "scrolled": true
   },
   "outputs": [
    {
     "name": "stderr",
     "output_type": "stream",
     "text": [
      "WARNING: Logging before flag parsing goes to stderr.\n",
      "W0725 21:57:05.814792  4380 deprecation.py:323] From c:\\users\\qwerz\\miniconda3\\envs\\ml100\\lib\\site-packages\\tensorflow\\python\\ops\\math_grad.py:1205: add_dispatch_support.<locals>.wrapper (from tensorflow.python.ops.array_ops) is deprecated and will be removed in a future version.\n",
      "Instructions for updating:\n",
      "Use tf.where in 2.0, which has the same broadcast rule as np.where\n"
     ]
    },
    {
     "name": "stdout",
     "output_type": "stream",
     "text": [
      "Model: \"model\"\n",
      "_________________________________________________________________\n",
      "Layer (type)                 Output Shape              Param #   \n",
      "=================================================================\n",
      "input_1 (InputLayer)         [(None, 3072)]            0         \n",
      "_________________________________________________________________\n",
      "hidden_layer1 (Dense)        (None, 512)               1573376   \n",
      "_________________________________________________________________\n",
      "batch_normalization (BatchNo (None, 512)               2048      \n",
      "_________________________________________________________________\n",
      "hidden_layer2 (Dense)        (None, 256)               131328    \n",
      "_________________________________________________________________\n",
      "batch_normalization_1 (Batch (None, 256)               1024      \n",
      "_________________________________________________________________\n",
      "hidden_layer3 (Dense)        (None, 128)               32896     \n",
      "_________________________________________________________________\n",
      "batch_normalization_2 (Batch (None, 128)               512       \n",
      "_________________________________________________________________\n",
      "output (Dense)               (None, 10)                1290      \n",
      "=================================================================\n",
      "Total params: 1,742,474\n",
      "Trainable params: 1,740,682\n",
      "Non-trainable params: 1,792\n",
      "_________________________________________________________________\n",
      "Train on 50000 samples, validate on 10000 samples\n",
      "Epoch 1/50\n",
      "50000/50000 [==============================] - 3s 65us/sample - loss: 6.1072 - accuracy: 0.3269 - val_loss: 6.7113 - val_accuracy: 0.1990\n",
      "Epoch 2/50\n",
      "50000/50000 [==============================] - 2s 44us/sample - loss: 4.3831 - accuracy: 0.4425 - val_loss: 5.6356 - val_accuracy: 0.3092\n",
      "Epoch 3/50\n",
      "50000/50000 [==============================] - 2s 44us/sample - loss: 3.9728 - accuracy: 0.4814 - val_loss: 4.7996 - val_accuracy: 0.4015\n",
      "Epoch 4/50\n",
      "50000/50000 [==============================] - 2s 44us/sample - loss: 3.6910 - accuracy: 0.5113 - val_loss: 4.3985 - val_accuracy: 0.4264\n",
      "Epoch 5/50\n",
      "50000/50000 [==============================] - 2s 44us/sample - loss: 3.4787 - accuracy: 0.5329 - val_loss: 4.1173 - val_accuracy: 0.4602\n",
      "Epoch 6/50\n",
      "50000/50000 [==============================] - 2s 44us/sample - loss: 3.2948 - accuracy: 0.5522 - val_loss: 4.0119 - val_accuracy: 0.4678\n",
      "Epoch 7/50\n",
      "50000/50000 [==============================] - 2s 45us/sample - loss: 3.1332 - accuracy: 0.5672 - val_loss: 4.0238 - val_accuracy: 0.4626\n",
      "Epoch 8/50\n",
      "50000/50000 [==============================] - 2s 44us/sample - loss: 2.9794 - accuracy: 0.5835 - val_loss: 3.8280 - val_accuracy: 0.4922\n",
      "Epoch 9/50\n",
      "50000/50000 [==============================] - 2s 44us/sample - loss: 2.8298 - accuracy: 0.6003 - val_loss: 4.0676 - val_accuracy: 0.4651\n",
      "Epoch 10/50\n",
      "50000/50000 [==============================] - 2s 44us/sample - loss: 2.6930 - accuracy: 0.6153 - val_loss: 3.8444 - val_accuracy: 0.4901\n",
      "Epoch 11/50\n",
      "50000/50000 [==============================] - 2s 44us/sample - loss: 2.5601 - accuracy: 0.6298 - val_loss: 4.0109 - val_accuracy: 0.4783\n",
      "Epoch 12/50\n",
      "50000/50000 [==============================] - 2s 44us/sample - loss: 2.4233 - accuracy: 0.6467 - val_loss: 3.9224 - val_accuracy: 0.4810\n",
      "Epoch 13/50\n",
      "50000/50000 [==============================] - 2s 45us/sample - loss: 2.3003 - accuracy: 0.6603 - val_loss: 4.0795 - val_accuracy: 0.4748\n",
      "Epoch 14/50\n",
      "50000/50000 [==============================] - 2s 45us/sample - loss: 2.1729 - accuracy: 0.6748 - val_loss: 3.9124 - val_accuracy: 0.4885\n",
      "Epoch 15/50\n",
      "50000/50000 [==============================] - 2s 44us/sample - loss: 2.0514 - accuracy: 0.6891 - val_loss: 4.1558 - val_accuracy: 0.4729\n",
      "Epoch 16/50\n",
      "50000/50000 [==============================] - 2s 44us/sample - loss: 1.9477 - accuracy: 0.7020 - val_loss: 4.0470 - val_accuracy: 0.4793\n",
      "Epoch 17/50\n",
      "50000/50000 [==============================] - 2s 44us/sample - loss: 1.8356 - accuracy: 0.7158 - val_loss: 4.0308 - val_accuracy: 0.4783\n",
      "Epoch 18/50\n",
      "50000/50000 [==============================] - 2s 44us/sample - loss: 1.7277 - accuracy: 0.7265 - val_loss: 4.1148 - val_accuracy: 0.4802\n",
      "Epoch 19/50\n",
      "50000/50000 [==============================] - 2s 44us/sample - loss: 1.6115 - accuracy: 0.7424 - val_loss: 4.3291 - val_accuracy: 0.4756\n",
      "Epoch 20/50\n",
      "50000/50000 [==============================] - 2s 44us/sample - loss: 1.5132 - accuracy: 0.7570 - val_loss: 4.2776 - val_accuracy: 0.4785\n",
      "Epoch 21/50\n",
      "50000/50000 [==============================] - 2s 44us/sample - loss: 1.4044 - accuracy: 0.7695 - val_loss: 4.2276 - val_accuracy: 0.4898\n",
      "Epoch 22/50\n",
      "50000/50000 [==============================] - 2s 44us/sample - loss: 1.3104 - accuracy: 0.7837 - val_loss: 4.3965 - val_accuracy: 0.4829\n",
      "Epoch 23/50\n",
      "50000/50000 [==============================] - 2s 44us/sample - loss: 1.2189 - accuracy: 0.7955 - val_loss: 4.5490 - val_accuracy: 0.4686\n",
      "Epoch 24/50\n",
      "50000/50000 [==============================] - 2s 44us/sample - loss: 1.1340 - accuracy: 0.8077 - val_loss: 4.6202 - val_accuracy: 0.4803\n",
      "Epoch 25/50\n",
      "50000/50000 [==============================] - 2s 44us/sample - loss: 1.0468 - accuracy: 0.8224 - val_loss: 4.7073 - val_accuracy: 0.4680\n",
      "Epoch 26/50\n",
      "50000/50000 [==============================] - 2s 44us/sample - loss: 0.9674 - accuracy: 0.8322 - val_loss: 4.7099 - val_accuracy: 0.4801\n",
      "Epoch 27/50\n",
      "50000/50000 [==============================] - 2s 44us/sample - loss: 0.8880 - accuracy: 0.8447 - val_loss: 4.8172 - val_accuracy: 0.4699\n",
      "Epoch 28/50\n",
      "50000/50000 [==============================] - 2s 44us/sample - loss: 0.8127 - accuracy: 0.8570 - val_loss: 4.9150 - val_accuracy: 0.4761\n",
      "Epoch 29/50\n",
      "50000/50000 [==============================] - 2s 44us/sample - loss: 0.7481 - accuracy: 0.8690 - val_loss: 4.9020 - val_accuracy: 0.4815\n",
      "Epoch 30/50\n",
      "50000/50000 [==============================] - 2s 44us/sample - loss: 0.6753 - accuracy: 0.8804 - val_loss: 5.0275 - val_accuracy: 0.4764\n",
      "Epoch 31/50\n",
      "50000/50000 [==============================] - 2s 44us/sample - loss: 0.6229 - accuracy: 0.8883 - val_loss: 5.0897 - val_accuracy: 0.4791\n",
      "Epoch 32/50\n",
      "50000/50000 [==============================] - 2s 44us/sample - loss: 0.5597 - accuracy: 0.9013 - val_loss: 5.0783 - val_accuracy: 0.4763\n",
      "Epoch 33/50\n",
      "50000/50000 [==============================] - 2s 45us/sample - loss: 0.5100 - accuracy: 0.9109 - val_loss: 5.3228 - val_accuracy: 0.4705\n",
      "Epoch 34/50\n",
      "50000/50000 [==============================] - 2s 44us/sample - loss: 0.4733 - accuracy: 0.9164 - val_loss: 5.3609 - val_accuracy: 0.4769\n",
      "Epoch 35/50\n",
      "50000/50000 [==============================] - 2s 44us/sample - loss: 0.4204 - accuracy: 0.9270 - val_loss: 5.3461 - val_accuracy: 0.4823\n",
      "Epoch 36/50\n",
      "50000/50000 [==============================] - 2s 44us/sample - loss: 0.3792 - accuracy: 0.9339 - val_loss: 5.4169 - val_accuracy: 0.4829\n",
      "Epoch 37/50\n",
      "50000/50000 [==============================] - 2s 44us/sample - loss: 0.3435 - accuracy: 0.9424 - val_loss: 5.4080 - val_accuracy: 0.4869\n",
      "Epoch 38/50\n",
      "50000/50000 [==============================] - 2s 44us/sample - loss: 0.3092 - accuracy: 0.9488 - val_loss: 5.6390 - val_accuracy: 0.4757\n",
      "Epoch 39/50\n",
      "50000/50000 [==============================] - 2s 44us/sample - loss: 0.2814 - accuracy: 0.9542 - val_loss: 5.7645 - val_accuracy: 0.4786\n",
      "Epoch 40/50\n",
      "50000/50000 [==============================] - 2s 44us/sample - loss: 0.2497 - accuracy: 0.9609 - val_loss: 5.7797 - val_accuracy: 0.4750\n",
      "Epoch 41/50\n",
      "50000/50000 [==============================] - 2s 44us/sample - loss: 0.2201 - accuracy: 0.9682 - val_loss: 5.8283 - val_accuracy: 0.4814\n",
      "Epoch 42/50\n",
      "50000/50000 [==============================] - 2s 44us/sample - loss: 0.2069 - accuracy: 0.9695 - val_loss: 5.9544 - val_accuracy: 0.4724\n",
      "Epoch 43/50\n",
      "50000/50000 [==============================] - 2s 44us/sample - loss: 0.1842 - accuracy: 0.9737 - val_loss: 6.0387 - val_accuracy: 0.4771\n",
      "Epoch 44/50\n",
      "50000/50000 [==============================] - 2s 44us/sample - loss: 0.1640 - accuracy: 0.9781 - val_loss: 5.9944 - val_accuracy: 0.4802\n",
      "Epoch 45/50\n",
      "50000/50000 [==============================] - 2s 44us/sample - loss: 0.1520 - accuracy: 0.9807 - val_loss: 6.2630 - val_accuracy: 0.4776\n"
     ]
    },
    {
     "name": "stdout",
     "output_type": "stream",
     "text": [
      "Epoch 46/50\n",
      "50000/50000 [==============================] - 2s 44us/sample - loss: 0.1389 - accuracy: 0.9828 - val_loss: 6.0883 - val_accuracy: 0.4780\n",
      "Epoch 47/50\n",
      "50000/50000 [==============================] - 2s 44us/sample - loss: 0.1235 - accuracy: 0.9855 - val_loss: 6.2311 - val_accuracy: 0.4797\n",
      "Epoch 48/50\n",
      "50000/50000 [==============================] - 2s 45us/sample - loss: 0.1082 - accuracy: 0.9890 - val_loss: 6.2923 - val_accuracy: 0.4823\n",
      "Epoch 49/50\n",
      "50000/50000 [==============================] - 2s 44us/sample - loss: 0.1004 - accuracy: 0.9900 - val_loss: 6.2047 - val_accuracy: 0.4794\n",
      "Epoch 50/50\n",
      "50000/50000 [==============================] - 2s 44us/sample - loss: 0.0924 - accuracy: 0.9913 - val_loss: 6.3939 - val_accuracy: 0.4843\n"
     ]
    },
    {
     "data": {
      "text/plain": [
       "<tensorflow.python.keras.callbacks.History at 0x22f9bfe0978>"
      ]
     },
     "execution_count": 8,
     "metadata": {},
     "output_type": "execute_result"
    }
   ],
   "source": [
    "model = build_mlp(input_shape=x_train.shape[1:])\n",
    "model.summary()\n",
    "optimizer = keras.optimizers.SGD(lr=LEARNING_RATE, nesterov=True, momentum=MOMENTUM)\n",
    "\"\"\"\n",
    "# 在 compile 時，使用自定義的 loss function\n",
    "\"\"\"\n",
    "model.compile(loss=focal_loss(), metrics=[\"accuracy\"], optimizer=optimizer)\n",
    "\n",
    "model.fit(x_train, y_train, \n",
    "          epochs=EPOCHS, \n",
    "          batch_size=BATCH_SIZE, \n",
    "          validation_data=(x_test, y_test), \n",
    "          shuffle=True\n",
    "         )"
   ]
  },
  {
   "cell_type": "code",
   "execution_count": 10,
   "metadata": {},
   "outputs": [],
   "source": [
    "# Collect results\n",
    "train_loss = model.history.history[\"loss\"]\n",
    "valid_loss = model.history.history[\"val_loss\"]\n",
    "train_acc = model.history.history[\"accuracy\"]\n",
    "valid_acc = model.history.history[\"val_accuracy\"]"
   ]
  },
  {
   "cell_type": "code",
   "execution_count": 11,
   "metadata": {},
   "outputs": [
    {
     "data": {
      "image/png": "[encoded data removed]",
      "text/plain": [
       "<Figure size 432x288 with 1 Axes>"
      ]
     },
     "metadata": {
      "needs_background": "light"
     },
     "output_type": "display_data"
    },
    {
     "data": {
      "image/png": "[encoded data removed]",
      "text/plain": [
       "<Figure size 432x288 with 1 Axes>"
      ]
     },
     "metadata": {
      "needs_background": "light"
     },
     "output_type": "display_data"
    }
   ],
   "source": [
    "import matplotlib.pyplot as plt\n",
    "%matplotlib inline\n",
    "\n",
    "plt.plot(range(len(train_loss)), train_loss, label=\"train loss\")\n",
    "plt.plot(range(len(valid_loss)), valid_loss, label=\"valid loss\")\n",
    "plt.legend()\n",
    "plt.title(\"Loss\")\n",
    "plt.show()\n",
    "\n",
    "plt.plot(range(len(train_acc)), train_acc, label=\"train accuracy\")\n",
    "plt.plot(range(len(valid_acc)), valid_acc, label=\"valid accuracy\")\n",
    "plt.legend()\n",
    "plt.title(\"Accuracy\")\n",
    "plt.show()"
   ]
  },
  {
   "cell_type": "markdown",
   "metadata": {},
   "source": [
    "## Work\n",
    "1. 請自行定義一個 loss function, 為 0.3 * focal loss + 0.7 cross-entropy，訓練並比較結果\n"
   ]
  }
 ],
 "metadata": {
  "kernelspec": {
   "display_name": "Python 3",
   "language": "python",
   "name": "python3"
  },
  "language_info": {
   "codemirror_mode": {
    "name": "ipython",
    "version": 3
   },
   "file_extension": ".py",
   "mimetype": "text/x-python",
   "name": "python",
   "nbconvert_exporter": "python",
   "pygments_lexer": "ipython3",
   "version": "3.7.3"
  }
 },
 "nbformat": 4,
 "nbformat_minor": 2
}
