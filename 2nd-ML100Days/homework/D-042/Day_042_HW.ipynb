{
 "cells": [
  {
   "cell_type": "markdown",
   "metadata": {},
   "source": [
    "## [作業重點]\n",
    "目前你應該已經要很清楚資料集中，資料的型態是什麼樣子囉！包含特徵 (features) 與標籤 (labels)。因此要記得未來不管什麼專案，必須要把資料清理成相同的格式，才能送進模型訓練。\n",
    "今天的作業開始踏入決策樹這個非常重要的模型，請務必確保你理解模型中每個超參數的意思，並試著調整看看，對最終預測結果的影響為何"
   ]
  },
  {
   "cell_type": "markdown",
   "metadata": {},
   "source": [
    "## 作業\n",
    "\n",
    "1. 試著調整 DecisionTreeClassifier(...) 中的參數，並觀察是否會改變結果？\n",
    "2. 改用其他資料集 (boston, wine)，並與回歸模型的結果進行比較"
   ]
  },
  {
   "cell_type": "code",
   "execution_count": 1,
   "metadata": {},
   "outputs": [],
   "source": [
    "from sklearn import datasets, metrics\n",
    "\n",
    "# 如果是分類問題，請使用 DecisionTreeClassifier，若為回歸問題，請使用 DecisionTreeRegressor\n",
    "from sklearn.tree import DecisionTreeClassifier, DecisionTreeRegressor\n",
    "from sklearn.model_selection import train_test_split\n",
    "\n",
    "# 讀取鳶尾花資料集\n",
    "iris = datasets.load_iris()\n",
    "\n",
    "# 切分訓練集/測試集\n",
    "x_train, x_test, y_train, y_test = train_test_split(iris.data, iris.target, test_size=0.25, random_state=4)"
   ]
  },
  {
   "cell_type": "code",
   "execution_count": 2,
   "metadata": {},
   "outputs": [],
   "source": [
    "def train_and_evaluate(classifier, x_train, y_train, x_test, y_test, name='classifier'):\n",
    "    classifier.fit(x_train, y_train)\n",
    "    y_pred = classifier.predict(x_test)\n",
    "    acc = metrics.accuracy_score(y_test, y_pred)\n",
    "    return \"[%s] Acuuracy: %f \\n\" % (name, acc)"
   ]
  },
  {
   "cell_type": "code",
   "execution_count": 3,
   "metadata": {},
   "outputs": [
    {
     "name": "stdout",
     "output_type": "stream",
     "text": [
      "iris dataset:\n",
      "\n",
      "[max_depth=1, max_features=1] Acuuracy: 0.684211 \n",
      "\n",
      "[max_depth=2, max_features=1] Acuuracy: 0.736842 \n",
      "\n",
      "[max_depth=3, max_features=1] Acuuracy: 0.789474 \n",
      "\n",
      "[max_depth=1, max_features=2] Acuuracy: 0.684211 \n",
      "\n",
      "[max_depth=2, max_features=2] Acuuracy: 0.973684 \n",
      "\n",
      "[max_depth=3, max_features=2] Acuuracy: 0.973684 \n",
      "\n"
     ]
    }
   ],
   "source": [
    "print(\"iris dataset:\\n\")\n",
    "\n",
    "clf = DecisionTreeClassifier(criterion='gini', max_depth=1, max_features=1)\n",
    "print(train_and_evaluate(clf, x_train, y_train, x_test, y_test, 'max_depth=1, max_features=1'))\n",
    "\n",
    "clf = DecisionTreeClassifier(criterion='gini', max_depth=2, max_features=1)\n",
    "print(train_and_evaluate(clf, x_train, y_train, x_test, y_test, 'max_depth=2, max_features=1'))\n",
    "\n",
    "clf = DecisionTreeClassifier(criterion='gini', max_depth=3, max_features=1)\n",
    "print(train_and_evaluate(clf, x_train, y_train, x_test, y_test, 'max_depth=3, max_features=1'))\n",
    "\n",
    "clf = DecisionTreeClassifier(criterion='gini', max_depth=1, max_features=2)\n",
    "print(train_and_evaluate(clf, x_train, y_train, x_test, y_test, 'max_depth=1, max_features=2'))\n",
    "\n",
    "clf = DecisionTreeClassifier(criterion='gini', max_depth=2, max_features=2)\n",
    "print(train_and_evaluate(clf, x_train, y_train, x_test, y_test, 'max_depth=2, max_features=2'))\n",
    "\n",
    "clf = DecisionTreeClassifier(criterion='gini', max_depth=3, max_features=2)\n",
    "print(train_and_evaluate(clf, x_train, y_train, x_test, y_test, 'max_depth=3, max_features=2'))"
   ]
  },
  {
   "cell_type": "code",
   "execution_count": 4,
   "metadata": {},
   "outputs": [],
   "source": [
    "# 讀取酒類資料集\n",
    "wine = datasets.load_wine()\n",
    "\n",
    "# 切分訓練集/測試集\n",
    "x_train, x_test, y_train, y_test = train_test_split(wine.data, wine.target, test_size=0.25, random_state=4)"
   ]
  },
  {
   "cell_type": "code",
   "execution_count": 5,
   "metadata": {},
   "outputs": [
    {
     "name": "stdout",
     "output_type": "stream",
     "text": [
      "wine dataset:\n",
      "\n",
      "[max_depth=1, max_features=1] Acuuracy: 0.644444 \n",
      "\n",
      "[max_depth=2, max_features=1] Acuuracy: 0.644444 \n",
      "\n",
      "[max_depth=3, max_features=1] Acuuracy: 0.822222 \n",
      "\n",
      "[max_depth=1, max_features=2] Acuuracy: 0.577778 \n",
      "\n",
      "[max_depth=2, max_features=2] Acuuracy: 0.844444 \n",
      "\n",
      "[max_depth=3, max_features=2] Acuuracy: 0.866667 \n",
      "\n"
     ]
    }
   ],
   "source": [
    "print(\"wine dataset:\\n\")\n",
    "\n",
    "clf = DecisionTreeClassifier(criterion='gini', max_depth=1, max_features=1)\n",
    "print(train_and_evaluate(clf, x_train, y_train, x_test, y_test, 'max_depth=1, max_features=1'))\n",
    "\n",
    "clf = DecisionTreeClassifier(criterion='gini', max_depth=2, max_features=1)\n",
    "print(train_and_evaluate(clf, x_train, y_train, x_test, y_test, 'max_depth=2, max_features=1'))\n",
    "\n",
    "clf = DecisionTreeClassifier(criterion='gini', max_depth=3, max_features=1)\n",
    "print(train_and_evaluate(clf, x_train, y_train, x_test, y_test, 'max_depth=3, max_features=1'))\n",
    "\n",
    "clf = DecisionTreeClassifier(criterion='gini', max_depth=1, max_features=2)\n",
    "print(train_and_evaluate(clf, x_train, y_train, x_test, y_test, 'max_depth=1, max_features=2'))\n",
    "\n",
    "clf = DecisionTreeClassifier(criterion='gini', max_depth=2, max_features=2)\n",
    "print(train_and_evaluate(clf, x_train, y_train, x_test, y_test, 'max_depth=2, max_features=2'))\n",
    "\n",
    "clf = DecisionTreeClassifier(criterion='gini', max_depth=3, max_features=2)\n",
    "print(train_and_evaluate(clf, x_train, y_train, x_test, y_test, 'max_depth=3, max_features=2'))"
   ]
  },
  {
   "cell_type": "code",
   "execution_count": null,
   "metadata": {},
   "outputs": [],
   "source": []
  }
 ],
 "metadata": {
  "kernelspec": {
   "display_name": "Python 3",
   "language": "python",
   "name": "python3"
  },
  "language_info": {
   "codemirror_mode": {
    "name": "ipython",
    "version": 3
   },
   "file_extension": ".py",
   "mimetype": "text/x-python",
   "name": "python",
   "nbconvert_exporter": "python",
   "pygments_lexer": "ipython3",
   "version": "3.7.3"
  }
 },
 "nbformat": 4,
 "nbformat_minor": 2
}
