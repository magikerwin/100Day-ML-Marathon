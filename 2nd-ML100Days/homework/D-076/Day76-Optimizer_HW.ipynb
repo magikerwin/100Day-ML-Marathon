{
 "cells": [
  {
   "cell_type": "markdown",
   "metadata": {},
   "source": [
    "\n",
    "# 作業: \n",
    "    \n",
    "    (1)以, Adam, 為例, 調整 batch_size, epoch , 觀察accurancy, loss 的變化\n",
    "    \n",
    "    (2)以同一模型, 分別驗證 SGD, Adam, Rmsprop 的 accurancy"
   ]
  },
  {
   "cell_type": "code",
   "execution_count": 1,
   "metadata": {},
   "outputs": [],
   "source": [
    "from tensorflow import keras\n",
    "#from keras.datasets import cifar10\n",
    "from tensorflow.keras.datasets import mnist \n",
    "from tensorflow.keras.preprocessing.image import ImageDataGenerator\n",
    "from tensorflow.keras.models import Sequential, load_model\n",
    "from tensorflow.keras.layers import Dense, Dropout, Activation, Flatten\n",
    "from tensorflow.keras.layers import Conv2D, MaxPooling2D\n",
    "from tensorflow.keras import optimizers\n",
    "from tensorflow.keras.callbacks import EarlyStopping, ModelCheckpoint\n",
    "import numpy \n"
   ]
  },
  {
   "cell_type": "code",
   "execution_count": 2,
   "metadata": {},
   "outputs": [],
   "source": [
    "#    第一步：選擇模型, 順序模型是多個網絡層的線性堆疊\n",
    " \n",
    "model = Sequential()\n",
    "\n",
    "#   第二步：構建網絡層\n",
    "\n",
    "model.add(keras.layers.Flatten(input_shape=(28, 28)))\n",
    "\n",
    "model.add(Dense( 500))\n",
    "model.add(Activation('relu')) # 激活函數是relu   \n",
    "\n",
    "model.add(Dense( 500)) # 隱藏層節點500個   \n",
    "model.add(Activation('relu'))  \n",
    "\n",
    "model.add(Dense( 500)) # 隱藏層節點500個   \n",
    "model.add(Activation('relu'))  \n",
    "\n",
    "model.add(Dense( 500)) # 隱藏層節點500個   \n",
    "model.add(Activation('relu'))  \n",
    "\n",
    "model.add(Dense( 10)) # 輸出結果是10個類別，所以維度是10   \n",
    "model.add(Activation('softmax')) # 最後一層用softmax作為激活函數"
   ]
  },
  {
   "cell_type": "code",
   "execution_count": 3,
   "metadata": {},
   "outputs": [
    {
     "name": "stdout",
     "output_type": "stream",
     "text": [
      "Total Parameters：1149010\n"
     ]
    }
   ],
   "source": [
    "# 模型建立完成後，統計參數總量\n",
    "print(\"Total Parameters：%d\" % model.count_params())"
   ]
  },
  {
   "cell_type": "code",
   "execution_count": 4,
   "metadata": {},
   "outputs": [
    {
     "name": "stdout",
     "output_type": "stream",
     "text": [
      "Model: \"sequential\"\n",
      "_________________________________________________________________\n",
      "Layer (type)                 Output Shape              Param #   \n",
      "=================================================================\n",
      "flatten (Flatten)            (None, 784)               0         \n",
      "_________________________________________________________________\n",
      "dense (Dense)                (None, 500)               392500    \n",
      "_________________________________________________________________\n",
      "activation (Activation)      (None, 500)               0         \n",
      "_________________________________________________________________\n",
      "dense_1 (Dense)              (None, 500)               250500    \n",
      "_________________________________________________________________\n",
      "activation_1 (Activation)    (None, 500)               0         \n",
      "_________________________________________________________________\n",
      "dense_2 (Dense)              (None, 500)               250500    \n",
      "_________________________________________________________________\n",
      "activation_2 (Activation)    (None, 500)               0         \n",
      "_________________________________________________________________\n",
      "dense_3 (Dense)              (None, 500)               250500    \n",
      "_________________________________________________________________\n",
      "activation_3 (Activation)    (None, 500)               0         \n",
      "_________________________________________________________________\n",
      "dense_4 (Dense)              (None, 10)                5010      \n",
      "_________________________________________________________________\n",
      "activation_4 (Activation)    (None, 10)                0         \n",
      "=================================================================\n",
      "Total params: 1,149,010\n",
      "Trainable params: 1,149,010\n",
      "Non-trainable params: 0\n",
      "_________________________________________________________________\n"
     ]
    }
   ],
   "source": [
    "# 輸出模型摘要資訊\n",
    "model.summary()"
   ]
  },
  {
   "cell_type": "code",
   "execution_count": 5,
   "metadata": {},
   "outputs": [
    {
     "data": {
      "text/plain": [
       "'\\nRMSprop- Arguments\\nlr: float >= 0. Learning rate.\\nrho: float >= 0.\\nepsilon: float >= 0. Fuzz factor. If None, defaults to K.epsilon().\\ndecay: float >= 0. Learning rate decay over each update.\\n'"
      ]
     },
     "execution_count": 5,
     "metadata": {},
     "output_type": "execute_result"
    }
   ],
   "source": [
    " '''\n",
    " SGD(隨機梯度下降) - Arguments\n",
    "lr: float >= 0. Learning rate.\n",
    "momentum: float >= 0. Parameter that accelerates SGD in the relevant direction and dampens oscillations.\n",
    "decay: float >= 0. Learning rate decay over each update.\n",
    "nesterov: boolean. Whether to apply Nesterov momentum.\n",
    "'''\n",
    "\n",
    "'''\n",
    "RMSprop- Arguments\n",
    "lr: float >= 0. Learning rate.\n",
    "rho: float >= 0.\n",
    "epsilon: float >= 0. Fuzz factor. If None, defaults to K.epsilon().\n",
    "decay: float >= 0. Learning rate decay over each update.\n",
    "'''\n"
   ]
  },
  {
   "cell_type": "code",
   "execution_count": 7,
   "metadata": {},
   "outputs": [],
   "source": [
    "#  第四步：資料分割\n",
    "# 使用Keras自帶的mnist工具讀取數據（第一次需要聯網）\n",
    "(X_train, Y_train),(X_test, Y_test) = mnist.load_data()\n",
    "X_train, X_test = X_train / 255.0, X_test / 255.0"
   ]
  },
  {
   "cell_type": "markdown",
   "metadata": {},
   "source": [
    "## Adam"
   ]
  },
  {
   "cell_type": "code",
   "execution_count": 6,
   "metadata": {},
   "outputs": [],
   "source": [
    "# 第三步：編譯, \n",
    "model.compile(optimizer='adam',\n",
    "              loss='sparse_categorical_crossentropy',\n",
    "              metrics=['accuracy'])"
   ]
  },
  {
   "cell_type": "code",
   "execution_count": 8,
   "metadata": {},
   "outputs": [
    {
     "name": "stderr",
     "output_type": "stream",
     "text": [
      "WARNING: Logging before flag parsing goes to stderr.\n",
      "W0714 21:14:37.088376  6000 deprecation.py:323] From C:\\Users\\qwerz\\Miniconda3\\envs\\ML100\\lib\\site-packages\\tensorflow\\python\\ops\\math_grad.py:1250: add_dispatch_support.<locals>.wrapper (from tensorflow.python.ops.array_ops) is deprecated and will be removed in a future version.\n",
      "Instructions for updating:\n",
      "Use tf.where in 2.0, which has the same broadcast rule as np.where\n"
     ]
    },
    {
     "name": "stdout",
     "output_type": "stream",
     "text": [
      "Train on 42000 samples, validate on 18000 samples\n",
      "Epoch 1/20\n",
      "42000/42000 - 2s - loss: 0.2964 - accuracy: 0.9116 - val_loss: 0.1459 - val_accuracy: 0.9557\n",
      "Epoch 2/20\n",
      "42000/42000 - 1s - loss: 0.1002 - accuracy: 0.9680 - val_loss: 0.1551 - val_accuracy: 0.9539\n",
      "Epoch 3/20\n",
      "42000/42000 - 1s - loss: 0.0651 - accuracy: 0.9796 - val_loss: 0.1158 - val_accuracy: 0.9666\n",
      "Epoch 4/20\n",
      "42000/42000 - 1s - loss: 0.0495 - accuracy: 0.9842 - val_loss: 0.1153 - val_accuracy: 0.9698\n",
      "Epoch 5/20\n",
      "42000/42000 - 1s - loss: 0.0320 - accuracy: 0.9892 - val_loss: 0.1008 - val_accuracy: 0.9740\n",
      "Epoch 6/20\n",
      "42000/42000 - 1s - loss: 0.0248 - accuracy: 0.9921 - val_loss: 0.1218 - val_accuracy: 0.9713\n",
      "Epoch 7/20\n",
      "42000/42000 - 1s - loss: 0.0282 - accuracy: 0.9909 - val_loss: 0.1069 - val_accuracy: 0.9746\n",
      "Epoch 8/20\n",
      "42000/42000 - 1s - loss: 0.0217 - accuracy: 0.9925 - val_loss: 0.1265 - val_accuracy: 0.9732\n",
      "Epoch 9/20\n",
      "42000/42000 - 1s - loss: 0.0174 - accuracy: 0.9937 - val_loss: 0.1177 - val_accuracy: 0.9724\n",
      "Epoch 10/20\n",
      "42000/42000 - 1s - loss: 0.0146 - accuracy: 0.9951 - val_loss: 0.1297 - val_accuracy: 0.9705\n",
      "Epoch 11/20\n",
      "42000/42000 - 1s - loss: 0.0183 - accuracy: 0.9943 - val_loss: 0.1167 - val_accuracy: 0.9749\n",
      "Epoch 12/20\n",
      "42000/42000 - 1s - loss: 0.0155 - accuracy: 0.9949 - val_loss: 0.1087 - val_accuracy: 0.9762\n",
      "Epoch 13/20\n",
      "42000/42000 - 1s - loss: 0.0170 - accuracy: 0.9948 - val_loss: 0.1027 - val_accuracy: 0.9760\n",
      "Epoch 14/20\n",
      "42000/42000 - 1s - loss: 0.0120 - accuracy: 0.9960 - val_loss: 0.1252 - val_accuracy: 0.9753\n",
      "Epoch 15/20\n",
      "42000/42000 - 1s - loss: 0.0143 - accuracy: 0.9952 - val_loss: 0.1324 - val_accuracy: 0.9736\n",
      "Epoch 16/20\n",
      "42000/42000 - 1s - loss: 0.0081 - accuracy: 0.9977 - val_loss: 0.1375 - val_accuracy: 0.9753\n",
      "Epoch 17/20\n",
      "42000/42000 - 1s - loss: 0.0122 - accuracy: 0.9960 - val_loss: 0.1343 - val_accuracy: 0.9727\n",
      "Epoch 18/20\n",
      "42000/42000 - 1s - loss: 0.0115 - accuracy: 0.9966 - val_loss: 0.1618 - val_accuracy: 0.9695\n",
      "Epoch 19/20\n",
      "42000/42000 - 1s - loss: 0.0172 - accuracy: 0.9951 - val_loss: 0.1216 - val_accuracy: 0.9764\n",
      "Epoch 20/20\n",
      "42000/42000 - 1s - loss: 0.0157 - accuracy: 0.9952 - val_loss: 0.1227 - val_accuracy: 0.9750\n"
     ]
    }
   ],
   "source": [
    "# 第五步：訓練, 修正 model 參數\n",
    "\n",
    "batch_size = 256\n",
    "epochs = 20\n",
    "history = model.fit(X_train, Y_train, batch_size = batch_size, epochs=epochs, shuffle=True,verbose=2,validation_split=0.3 )"
   ]
  },
  {
   "cell_type": "code",
   "execution_count": 9,
   "metadata": {},
   "outputs": [
    {
     "name": "stdout",
     "output_type": "stream",
     "text": [
      " test set \n",
      "\n",
      " The test loss is %f  [0.0914800143960747, 0.9788]\n",
      "\n",
      " The accuracy of the model is 0.978800 \n"
     ]
    }
   ],
   "source": [
    "#    第六步：輸出\n",
    " \n",
    "print ( \" test set \" )\n",
    "scores = model.evaluate(X_test,Y_test,batch_size=200,verbose= 0)\n",
    "print ( \"\" )\n",
    "#print ( \" The test loss is %f \" % scores)\n",
    "print ( \" The test loss is %f \", scores)\n",
    "result = model.predict(X_test,batch_size=200,verbose= 0)\n",
    "\n",
    "result_max = numpy.argmax(result, axis = 1)\n",
    "\n",
    "result_bool = numpy.equal(result_max, Y_test)\n",
    "true_num = numpy.sum(result_bool)\n",
    "print ( \"\" )\n",
    "print ( \" The accuracy of the model is %f \" % (true_num/len(result_bool)))"
   ]
  },
  {
   "cell_type": "code",
   "execution_count": 10,
   "metadata": {},
   "outputs": [
    {
     "data": {
      "image/png": "[encoded data removed]",
      "text/plain": [
       "<Figure size 432x288 with 1 Axes>"
      ]
     },
     "metadata": {
      "needs_background": "light"
     },
     "output_type": "display_data"
    },
    {
     "data": {
      "image/png": "[encoded data removed]",
      "text/plain": [
       "<Figure size 432x288 with 1 Axes>"
      ]
     },
     "metadata": {
      "needs_background": "light"
     },
     "output_type": "display_data"
    }
   ],
   "source": [
    "import matplotlib.pyplot as plt\n",
    "\n",
    "%matplotlib inline\n",
    "\n",
    "# history = model.fit(x, y, validation_split=0.25, epochs=50, batch_size=16, verbose=1)\n",
    "\n",
    "# Plot training & validation accuracy values\n",
    "plt.plot(history.history['accuracy'])\n",
    "plt.plot(history.history['val_accuracy'])\n",
    "plt.title('Model accuracy')\n",
    "plt.ylabel('Accuracy')\n",
    "plt.xlabel('Epoch')\n",
    "plt.legend(['Train', 'Test'], loc='upper left')\n",
    "plt.show()\n",
    "\n",
    "# Plot training & validation loss values\n",
    "plt.plot(history.history['loss'])\n",
    "plt.plot(history.history['val_loss'])\n",
    "plt.title('Model loss')\n",
    "plt.ylabel('Loss')\n",
    "plt.xlabel('Epoch')\n",
    "plt.legend(['Train', 'Test'], loc='upper left')\n",
    "plt.show()"
   ]
  },
  {
   "cell_type": "code",
   "execution_count": null,
   "metadata": {},
   "outputs": [],
   "source": []
  },
  {
   "cell_type": "markdown",
   "metadata": {},
   "source": [
    "## SGD"
   ]
  },
  {
   "cell_type": "code",
   "execution_count": 12,
   "metadata": {},
   "outputs": [
    {
     "name": "stdout",
     "output_type": "stream",
     "text": [
      "Train on 42000 samples, validate on 18000 samples\n",
      "Epoch 1/20\n",
      "42000/42000 - 1s - loss: 0.0071 - accuracy: 0.9978 - val_loss: 0.1144 - val_accuracy: 0.9762\n",
      "Epoch 2/20\n",
      "42000/42000 - 1s - loss: 0.0052 - accuracy: 0.9985 - val_loss: 0.1108 - val_accuracy: 0.9773\n",
      "Epoch 3/20\n",
      "42000/42000 - 1s - loss: 0.0043 - accuracy: 0.9989 - val_loss: 0.1085 - val_accuracy: 0.9778\n",
      "Epoch 4/20\n",
      "42000/42000 - 1s - loss: 0.0036 - accuracy: 0.9991 - val_loss: 0.1070 - val_accuracy: 0.9783\n",
      "Epoch 5/20\n",
      "42000/42000 - 1s - loss: 0.0032 - accuracy: 0.9993 - val_loss: 0.1059 - val_accuracy: 0.9783\n",
      "Epoch 6/20\n",
      "42000/42000 - 1s - loss: 0.0029 - accuracy: 0.9993 - val_loss: 0.1051 - val_accuracy: 0.9784\n",
      "Epoch 7/20\n",
      "42000/42000 - 1s - loss: 0.0027 - accuracy: 0.9994 - val_loss: 0.1045 - val_accuracy: 0.9784\n",
      "Epoch 8/20\n",
      "42000/42000 - 1s - loss: 0.0025 - accuracy: 0.9995 - val_loss: 0.1041 - val_accuracy: 0.9785\n",
      "Epoch 9/20\n",
      "42000/42000 - 1s - loss: 0.0023 - accuracy: 0.9995 - val_loss: 0.1037 - val_accuracy: 0.9786\n",
      "Epoch 10/20\n",
      "42000/42000 - 1s - loss: 0.0021 - accuracy: 0.9996 - val_loss: 0.1035 - val_accuracy: 0.9786\n",
      "Epoch 11/20\n",
      "42000/42000 - 1s - loss: 0.0020 - accuracy: 0.9996 - val_loss: 0.1033 - val_accuracy: 0.9788\n",
      "Epoch 12/20\n",
      "42000/42000 - 1s - loss: 0.0019 - accuracy: 0.9996 - val_loss: 0.1031 - val_accuracy: 0.9789\n",
      "Epoch 13/20\n",
      "42000/42000 - 1s - loss: 0.0018 - accuracy: 0.9996 - val_loss: 0.1030 - val_accuracy: 0.9791\n",
      "Epoch 14/20\n",
      "42000/42000 - 1s - loss: 0.0017 - accuracy: 0.9997 - val_loss: 0.1030 - val_accuracy: 0.9791\n",
      "Epoch 15/20\n",
      "42000/42000 - 1s - loss: 0.0016 - accuracy: 0.9997 - val_loss: 0.1029 - val_accuracy: 0.9792\n",
      "Epoch 16/20\n",
      "42000/42000 - 1s - loss: 0.0015 - accuracy: 0.9998 - val_loss: 0.1028 - val_accuracy: 0.9792\n",
      "Epoch 17/20\n",
      "42000/42000 - 1s - loss: 0.0015 - accuracy: 0.9998 - val_loss: 0.1028 - val_accuracy: 0.9792\n",
      "Epoch 18/20\n",
      "42000/42000 - 1s - loss: 0.0014 - accuracy: 0.9998 - val_loss: 0.1028 - val_accuracy: 0.9792\n",
      "Epoch 19/20\n",
      "42000/42000 - 1s - loss: 0.0013 - accuracy: 0.9998 - val_loss: 0.1028 - val_accuracy: 0.9792\n",
      "Epoch 20/20\n",
      "42000/42000 - 1s - loss: 0.0013 - accuracy: 0.9998 - val_loss: 0.1028 - val_accuracy: 0.9793\n"
     ]
    }
   ],
   "source": [
    "# 第三步：編譯, \n",
    "model.compile(optimizer='sgd',\n",
    "              loss='sparse_categorical_crossentropy',\n",
    "              metrics=['accuracy'])\n",
    "\n",
    "# 第五步：訓練, 修正 model 參數\n",
    "batch_size = 256\n",
    "epochs = 20\n",
    "history = model.fit(X_train, Y_train, batch_size = batch_size, epochs=epochs, shuffle=True,verbose=2,validation_split=0.3 )"
   ]
  },
  {
   "cell_type": "code",
   "execution_count": 13,
   "metadata": {},
   "outputs": [
    {
     "name": "stdout",
     "output_type": "stream",
     "text": [
      " test set \n",
      "\n",
      " The test loss is %f  [0.07786136903545411, 0.9816]\n",
      "\n",
      " The accuracy of the model is 0.981600 \n"
     ]
    }
   ],
   "source": [
    "#    第六步：輸出\n",
    " \n",
    "print ( \" test set \" )\n",
    "scores = model.evaluate(X_test,Y_test,batch_size=200,verbose= 0)\n",
    "print ( \"\" )\n",
    "#print ( \" The test loss is %f \" % scores)\n",
    "print ( \" The test loss is %f \", scores)\n",
    "result = model.predict(X_test,batch_size=200,verbose= 0)\n",
    "\n",
    "result_max = numpy.argmax(result, axis = 1)\n",
    "\n",
    "result_bool = numpy.equal(result_max, Y_test)\n",
    "true_num = numpy.sum(result_bool)\n",
    "print ( \"\" )\n",
    "print ( \" The accuracy of the model is %f \" % (true_num/len(result_bool)))"
   ]
  },
  {
   "cell_type": "code",
   "execution_count": 14,
   "metadata": {},
   "outputs": [
    {
     "data": {
      "image/png": "[encoded data removed]",
      "text/plain": [
       "<Figure size 432x288 with 1 Axes>"
      ]
     },
     "metadata": {
      "needs_background": "light"
     },
     "output_type": "display_data"
    },
    {
     "data": {
      "image/png": "[encoded data removed]",
      "text/plain": [
       "<Figure size 432x288 with 1 Axes>"
      ]
     },
     "metadata": {
      "needs_background": "light"
     },
     "output_type": "display_data"
    }
   ],
   "source": [
    "import matplotlib.pyplot as plt\n",
    "\n",
    "%matplotlib inline\n",
    "\n",
    "# history = model.fit(x, y, validation_split=0.25, epochs=50, batch_size=16, verbose=1)\n",
    "\n",
    "# Plot training & validation accuracy values\n",
    "plt.plot(history.history['accuracy'])\n",
    "plt.plot(history.history['val_accuracy'])\n",
    "plt.title('Model accuracy')\n",
    "plt.ylabel('Accuracy')\n",
    "plt.xlabel('Epoch')\n",
    "plt.legend(['Train', 'Test'], loc='upper left')\n",
    "plt.show()\n",
    "\n",
    "# Plot training & validation loss values\n",
    "plt.plot(history.history['loss'])\n",
    "plt.plot(history.history['val_loss'])\n",
    "plt.title('Model loss')\n",
    "plt.ylabel('Loss')\n",
    "plt.xlabel('Epoch')\n",
    "plt.legend(['Train', 'Test'], loc='upper left')\n",
    "plt.show()"
   ]
  },
  {
   "cell_type": "code",
   "execution_count": null,
   "metadata": {},
   "outputs": [],
   "source": []
  },
  {
   "cell_type": "code",
   "execution_count": null,
   "metadata": {},
   "outputs": [],
   "source": []
  },
  {
   "cell_type": "markdown",
   "metadata": {},
   "source": [
    "## Rmsprop"
   ]
  },
  {
   "cell_type": "code",
   "execution_count": 16,
   "metadata": {},
   "outputs": [
    {
     "name": "stdout",
     "output_type": "stream",
     "text": [
      "Train on 42000 samples, validate on 18000 samples\n",
      "Epoch 1/20\n",
      "42000/42000 - 2s - loss: 0.0098 - accuracy: 0.9974 - val_loss: 0.1577 - val_accuracy: 0.9771\n",
      "Epoch 2/20\n",
      "42000/42000 - 1s - loss: 0.0058 - accuracy: 0.9985 - val_loss: 0.1639 - val_accuracy: 0.9788\n",
      "Epoch 3/20\n",
      "42000/42000 - 1s - loss: 0.0073 - accuracy: 0.9984 - val_loss: 0.1856 - val_accuracy: 0.9762\n",
      "Epoch 4/20\n",
      "42000/42000 - 1s - loss: 0.0059 - accuracy: 0.9985 - val_loss: 0.2180 - val_accuracy: 0.9756\n",
      "Epoch 5/20\n",
      "42000/42000 - 1s - loss: 0.0083 - accuracy: 0.9986 - val_loss: 0.1722 - val_accuracy: 0.9799\n",
      "Epoch 6/20\n",
      "42000/42000 - 1s - loss: 0.0051 - accuracy: 0.9990 - val_loss: 0.1822 - val_accuracy: 0.9783\n",
      "Epoch 7/20\n",
      "42000/42000 - 1s - loss: 0.0047 - accuracy: 0.9992 - val_loss: 0.2097 - val_accuracy: 0.9769\n",
      "Epoch 8/20\n",
      "42000/42000 - 1s - loss: 0.0085 - accuracy: 0.9986 - val_loss: 0.1822 - val_accuracy: 0.9800\n",
      "Epoch 9/20\n",
      "42000/42000 - 1s - loss: 0.0078 - accuracy: 0.9985 - val_loss: 0.1990 - val_accuracy: 0.9771\n",
      "Epoch 10/20\n",
      "42000/42000 - 1s - loss: 0.0050 - accuracy: 0.9988 - val_loss: 0.2165 - val_accuracy: 0.9773\n",
      "Epoch 11/20\n",
      "42000/42000 - 1s - loss: 0.0072 - accuracy: 0.9988 - val_loss: 0.2317 - val_accuracy: 0.9738\n",
      "Epoch 12/20\n",
      "42000/42000 - 1s - loss: 0.0053 - accuracy: 0.9989 - val_loss: 0.2527 - val_accuracy: 0.9752\n",
      "Epoch 13/20\n",
      "42000/42000 - 1s - loss: 0.0062 - accuracy: 0.9986 - val_loss: 0.2084 - val_accuracy: 0.9792\n",
      "Epoch 14/20\n",
      "42000/42000 - 1s - loss: 0.0048 - accuracy: 0.9989 - val_loss: 0.2229 - val_accuracy: 0.9777\n",
      "Epoch 15/20\n",
      "42000/42000 - 1s - loss: 0.0056 - accuracy: 0.9989 - val_loss: 0.2191 - val_accuracy: 0.9783\n",
      "Epoch 16/20\n",
      "42000/42000 - 1s - loss: 0.0070 - accuracy: 0.9988 - val_loss: 0.2203 - val_accuracy: 0.9772\n",
      "Epoch 17/20\n",
      "42000/42000 - 1s - loss: 0.0052 - accuracy: 0.9989 - val_loss: 0.2129 - val_accuracy: 0.9775\n",
      "Epoch 18/20\n",
      "42000/42000 - 1s - loss: 0.0060 - accuracy: 0.9990 - val_loss: 0.2202 - val_accuracy: 0.9779\n",
      "Epoch 19/20\n",
      "42000/42000 - 1s - loss: 0.0056 - accuracy: 0.9991 - val_loss: 0.2144 - val_accuracy: 0.9783\n",
      "Epoch 20/20\n",
      "42000/42000 - 1s - loss: 0.0045 - accuracy: 0.9990 - val_loss: 0.2675 - val_accuracy: 0.9744\n"
     ]
    }
   ],
   "source": [
    "# 第三步：編譯, \n",
    "model.compile(optimizer='rmsprop',\n",
    "              loss='sparse_categorical_crossentropy',\n",
    "              metrics=['accuracy'])\n",
    "\n",
    "# 第五步：訓練, 修正 model 參數\n",
    "batch_size = 256\n",
    "epochs = 20\n",
    "history = model.fit(X_train, Y_train, batch_size = batch_size, epochs=epochs, shuffle=True,verbose=2,validation_split=0.3 )"
   ]
  },
  {
   "cell_type": "code",
   "execution_count": 17,
   "metadata": {},
   "outputs": [
    {
     "name": "stdout",
     "output_type": "stream",
     "text": [
      " test set \n",
      "\n",
      " The test loss is %f  [0.2202382518678587, 0.9781]\n",
      "\n",
      " The accuracy of the model is 0.978100 \n"
     ]
    }
   ],
   "source": [
    "#    第六步：輸出\n",
    " \n",
    "print ( \" test set \" )\n",
    "scores = model.evaluate(X_test,Y_test,batch_size=200,verbose= 0)\n",
    "print ( \"\" )\n",
    "#print ( \" The test loss is %f \" % scores)\n",
    "print ( \" The test loss is %f \", scores)\n",
    "result = model.predict(X_test,batch_size=200,verbose= 0)\n",
    "\n",
    "result_max = numpy.argmax(result, axis = 1)\n",
    "\n",
    "result_bool = numpy.equal(result_max, Y_test)\n",
    "true_num = numpy.sum(result_bool)\n",
    "print ( \"\" )\n",
    "print ( \" The accuracy of the model is %f \" % (true_num/len(result_bool)))"
   ]
  },
  {
   "cell_type": "code",
   "execution_count": 18,
   "metadata": {},
   "outputs": [
    {
     "data": {
      "image/png": "[encoded data removed]",
      "text/plain": [
       "<Figure size 432x288 with 1 Axes>"
      ]
     },
     "metadata": {
      "needs_background": "light"
     },
     "output_type": "display_data"
    },
    {
     "data": {
      "image/png": "[encoded data removed]",
      "text/plain": [
       "<Figure size 432x288 with 1 Axes>"
      ]
     },
     "metadata": {
      "needs_background": "light"
     },
     "output_type": "display_data"
    }
   ],
   "source": [
    "import matplotlib.pyplot as plt\n",
    "\n",
    "%matplotlib inline\n",
    "\n",
    "# history = model.fit(x, y, validation_split=0.25, epochs=50, batch_size=16, verbose=1)\n",
    "\n",
    "# Plot training & validation accuracy values\n",
    "plt.plot(history.history['accuracy'])\n",
    "plt.plot(history.history['val_accuracy'])\n",
    "plt.title('Model accuracy')\n",
    "plt.ylabel('Accuracy')\n",
    "plt.xlabel('Epoch')\n",
    "plt.legend(['Train', 'Test'], loc='upper left')\n",
    "plt.show()\n",
    "\n",
    "# Plot training & validation loss values\n",
    "plt.plot(history.history['loss'])\n",
    "plt.plot(history.history['val_loss'])\n",
    "plt.title('Model loss')\n",
    "plt.ylabel('Loss')\n",
    "plt.xlabel('Epoch')\n",
    "plt.legend(['Train', 'Test'], loc='upper left')\n",
    "plt.show()"
   ]
  },
  {
   "cell_type": "code",
   "execution_count": null,
   "metadata": {},
   "outputs": [],
   "source": []
  }
 ],
 "metadata": {
  "kernelspec": {
   "display_name": "ML100",
   "language": "python",
   "name": "ml100"
  },
  "language_info": {
   "codemirror_mode": {
    "name": "ipython",
    "version": 3
   },
   "file_extension": ".py",
   "mimetype": "text/x-python",
   "name": "python",
   "nbconvert_exporter": "python",
   "pygments_lexer": "ipython3",
   "version": "3.7.3"
  }
 },
 "nbformat": 4,
 "nbformat_minor": 2
}
