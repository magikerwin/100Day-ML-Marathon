{
 "cells": [
  {
   "cell_type": "markdown",
   "metadata": {},
   "source": [
    "## 範例重點\n",
    "* 學會從 Keras 內建函式取得資料\n",
    "* 能夠建立簡易的深度學習模型\n",
    "* 觀察並了解 Overfit 現象"
   ]
  },
  {
   "cell_type": "code",
   "execution_count": 2,
   "metadata": {},
   "outputs": [],
   "source": [
    "import os\n",
    "from tensorflow import keras\n",
    "\n",
    "# 本範例不需使用 GPU, 將 GPU 設定為 \"無\"\n",
    "os.environ[\"CUDA_VISIBLE_DEVICES\"] = \"\""
   ]
  },
  {
   "cell_type": "code",
   "execution_count": 3,
   "metadata": {},
   "outputs": [],
   "source": [
    "# 從 Keras 的內建功能中，取得 train 與 test 資料集\n",
    "train, test = keras.datasets.cifar10.load_data()"
   ]
  },
  {
   "cell_type": "code",
   "execution_count": 4,
   "metadata": {},
   "outputs": [],
   "source": [
    "# 將 X 與 Y 獨立放進變數\n",
    "x_train, y_train = train\n",
    "x_test, y_test = test\n",
    "# 資料前處理 - 標準化\n",
    "x_train = x_train / 255.\n",
    "x_test = x_test / 255.\n",
    "\n",
    "# 將資料從圖形 (RGB) 轉為向量 (Single Vector)\n",
    "x_train = x_train.reshape((len(x_train), -1))\n",
    "x_test = x_test.reshape((len(x_test), -1))\n",
    "\n",
    "# 將目標轉為 one-hot encoding\n",
    "y_train = keras.utils.to_categorical(y_train, num_classes=10)\n",
    "y_test = keras.utils.to_categorical(y_test, num_classes=10)"
   ]
  },
  {
   "cell_type": "code",
   "execution_count": 5,
   "metadata": {},
   "outputs": [],
   "source": [
    "# 建立一個有三層隱藏層之神經網路\n",
    "def build_mlp():\n",
    "    input_layer = keras.layers.Input([x_train.shape[-1]])\n",
    "    x = keras.layers.Dense(units=512, activation=\"relu\")(input_layer)\n",
    "    x = keras.layers.Dense(units=256, activation=\"relu\")(x)\n",
    "    x = keras.layers.Dense(units=128, activation=\"relu\")(x)\n",
    "    out = keras.layers.Dense(units=10, activation=\"softmax\")(x)\n",
    "    \n",
    "    model = keras.models.Model(inputs=[input_layer], outputs=[out])\n",
    "    return model"
   ]
  },
  {
   "cell_type": "code",
   "execution_count": 6,
   "metadata": {},
   "outputs": [
    {
     "name": "stdout",
     "output_type": "stream",
     "text": [
      "Model: \"model\"\n",
      "_________________________________________________________________\n",
      "Layer (type)                 Output Shape              Param #   \n",
      "=================================================================\n",
      "input_1 (InputLayer)         [(None, 3072)]            0         \n",
      "_________________________________________________________________\n",
      "dense (Dense)                (None, 512)               1573376   \n",
      "_________________________________________________________________\n",
      "dense_1 (Dense)              (None, 256)               131328    \n",
      "_________________________________________________________________\n",
      "dense_2 (Dense)              (None, 128)               32896     \n",
      "_________________________________________________________________\n",
      "dense_3 (Dense)              (None, 10)                1290      \n",
      "=================================================================\n",
      "Total params: 1,738,890\n",
      "Trainable params: 1,738,890\n",
      "Non-trainable params: 0\n",
      "_________________________________________________________________\n"
     ]
    }
   ],
   "source": [
    "model = build_mlp()\n",
    "# 用 Keras 內建方法檢視模型各層參數量\n",
    "model.summary()\n",
    "\n",
    "optimizer = keras.optimizers.Adam(lr=0.001)\n",
    "model.compile(loss=\"categorical_crossentropy\", metrics=[\"accuracy\"], optimizer=optimizer)"
   ]
  },
  {
   "cell_type": "code",
   "execution_count": 7,
   "metadata": {},
   "outputs": [
    {
     "name": "stderr",
     "output_type": "stream",
     "text": [
      "WARNING: Logging before flag parsing goes to stderr.\n",
      "W0714 21:22:01.547576  8028 deprecation.py:323] From C:\\Users\\qwerz\\Miniconda3\\envs\\ML100\\lib\\site-packages\\tensorflow\\python\\ops\\math_grad.py:1250: add_dispatch_support.<locals>.wrapper (from tensorflow.python.ops.array_ops) is deprecated and will be removed in a future version.\n",
      "Instructions for updating:\n",
      "Use tf.where in 2.0, which has the same broadcast rule as np.where\n"
     ]
    },
    {
     "name": "stdout",
     "output_type": "stream",
     "text": [
      "Train on 50000 samples, validate on 10000 samples\n",
      "Epoch 1/100\n",
      "50000/50000 [==============================] - 3s 66us/sample - loss: 1.9202 - accuracy: 0.3072 - val_loss: 1.7668 - val_accuracy: 0.3613\n",
      "Epoch 2/100\n",
      "50000/50000 [==============================] - 3s 55us/sample - loss: 1.7085 - accuracy: 0.3888 - val_loss: 1.6283 - val_accuracy: 0.4219\n",
      "Epoch 3/100\n",
      "50000/50000 [==============================] - 3s 54us/sample - loss: 1.6098 - accuracy: 0.4262 - val_loss: 1.6157 - val_accuracy: 0.4211\n",
      "Epoch 4/100\n",
      "50000/50000 [==============================] - 3s 53us/sample - loss: 1.5529 - accuracy: 0.4458 - val_loss: 1.5353 - val_accuracy: 0.4520\n",
      "Epoch 5/100\n",
      "50000/50000 [==============================] - 3s 53us/sample - loss: 1.5014 - accuracy: 0.4657 - val_loss: 1.5185 - val_accuracy: 0.4673\n",
      "Epoch 6/100\n",
      "50000/50000 [==============================] - 3s 54us/sample - loss: 1.4745 - accuracy: 0.4726 - val_loss: 1.4877 - val_accuracy: 0.4750\n",
      "Epoch 7/100\n",
      "50000/50000 [==============================] - 3s 55us/sample - loss: 1.4325 - accuracy: 0.4893 - val_loss: 1.4951 - val_accuracy: 0.4634\n",
      "Epoch 8/100\n",
      "50000/50000 [==============================] - 3s 55us/sample - loss: 1.3989 - accuracy: 0.5015 - val_loss: 1.4944 - val_accuracy: 0.4654\n",
      "Epoch 9/100\n",
      "50000/50000 [==============================] - 3s 54us/sample - loss: 1.3728 - accuracy: 0.5121 - val_loss: 1.4295 - val_accuracy: 0.4913\n",
      "Epoch 10/100\n",
      "50000/50000 [==============================] - 3s 55us/sample - loss: 1.3484 - accuracy: 0.5181 - val_loss: 1.4539 - val_accuracy: 0.4853\n",
      "Epoch 11/100\n",
      "50000/50000 [==============================] - 3s 54us/sample - loss: 1.3291 - accuracy: 0.5255 - val_loss: 1.4271 - val_accuracy: 0.4977\n",
      "Epoch 12/100\n",
      "50000/50000 [==============================] - 3s 54us/sample - loss: 1.2998 - accuracy: 0.5370 - val_loss: 1.4099 - val_accuracy: 0.5065\n",
      "Epoch 13/100\n",
      "50000/50000 [==============================] - 3s 54us/sample - loss: 1.2786 - accuracy: 0.5458 - val_loss: 1.3899 - val_accuracy: 0.5147\n",
      "Epoch 14/100\n",
      "50000/50000 [==============================] - 3s 54us/sample - loss: 1.2571 - accuracy: 0.5519 - val_loss: 1.4883 - val_accuracy: 0.4690\n",
      "Epoch 15/100\n",
      "50000/50000 [==============================] - 3s 53us/sample - loss: 1.2304 - accuracy: 0.5614 - val_loss: 1.3827 - val_accuracy: 0.5120\n",
      "Epoch 16/100\n",
      "50000/50000 [==============================] - 3s 54us/sample - loss: 1.2160 - accuracy: 0.5674 - val_loss: 1.4062 - val_accuracy: 0.5070\n",
      "Epoch 17/100\n",
      "50000/50000 [==============================] - 3s 53us/sample - loss: 1.1975 - accuracy: 0.5738 - val_loss: 1.4690 - val_accuracy: 0.4799\n",
      "Epoch 18/100\n",
      "50000/50000 [==============================] - 3s 55us/sample - loss: 1.1809 - accuracy: 0.5782 - val_loss: 1.3884 - val_accuracy: 0.5148\n",
      "Epoch 19/100\n",
      "50000/50000 [==============================] - 3s 55us/sample - loss: 1.1538 - accuracy: 0.5881 - val_loss: 1.3769 - val_accuracy: 0.5191\n",
      "Epoch 20/100\n",
      "50000/50000 [==============================] - 3s 55us/sample - loss: 1.1324 - accuracy: 0.5969 - val_loss: 1.3760 - val_accuracy: 0.5192\n",
      "Epoch 21/100\n",
      "50000/50000 [==============================] - 3s 56us/sample - loss: 1.1155 - accuracy: 0.6025 - val_loss: 1.3629 - val_accuracy: 0.5281\n",
      "Epoch 22/100\n",
      "50000/50000 [==============================] - 3s 55us/sample - loss: 1.0984 - accuracy: 0.6086 - val_loss: 1.3966 - val_accuracy: 0.5204\n",
      "Epoch 23/100\n",
      "50000/50000 [==============================] - 3s 54us/sample - loss: 1.0861 - accuracy: 0.6115 - val_loss: 1.3686 - val_accuracy: 0.5302\n",
      "Epoch 24/100\n",
      "50000/50000 [==============================] - 3s 53us/sample - loss: 1.0618 - accuracy: 0.6196 - val_loss: 1.3770 - val_accuracy: 0.5239\n",
      "Epoch 25/100\n",
      "50000/50000 [==============================] - 3s 54us/sample - loss: 1.0356 - accuracy: 0.6300 - val_loss: 1.3706 - val_accuracy: 0.5311\n",
      "Epoch 26/100\n",
      "50000/50000 [==============================] - 3s 54us/sample - loss: 1.0233 - accuracy: 0.6374 - val_loss: 1.3874 - val_accuracy: 0.5264\n",
      "Epoch 27/100\n",
      "50000/50000 [==============================] - 3s 54us/sample - loss: 1.0036 - accuracy: 0.6411 - val_loss: 1.3792 - val_accuracy: 0.5266\n",
      "Epoch 28/100\n",
      "50000/50000 [==============================] - 3s 55us/sample - loss: 0.9890 - accuracy: 0.6480 - val_loss: 1.4108 - val_accuracy: 0.5286\n",
      "Epoch 29/100\n",
      "50000/50000 [==============================] - 3s 55us/sample - loss: 0.9652 - accuracy: 0.6562 - val_loss: 1.4296 - val_accuracy: 0.5190\n",
      "Epoch 30/100\n",
      "50000/50000 [==============================] - 3s 53us/sample - loss: 0.9572 - accuracy: 0.6580 - val_loss: 1.4083 - val_accuracy: 0.5287\n",
      "Epoch 31/100\n",
      "50000/50000 [==============================] - 3s 54us/sample - loss: 0.9350 - accuracy: 0.6653 - val_loss: 1.3947 - val_accuracy: 0.5361\n",
      "Epoch 32/100\n",
      "50000/50000 [==============================] - 3s 55us/sample - loss: 0.9110 - accuracy: 0.6746 - val_loss: 1.4285 - val_accuracy: 0.5313\n",
      "Epoch 33/100\n",
      "50000/50000 [==============================] - 3s 55us/sample - loss: 0.9064 - accuracy: 0.6772 - val_loss: 1.4503 - val_accuracy: 0.5275\n",
      "Epoch 34/100\n",
      "50000/50000 [==============================] - 3s 55us/sample - loss: 0.8900 - accuracy: 0.6810 - val_loss: 1.4576 - val_accuracy: 0.5219\n",
      "Epoch 35/100\n",
      "50000/50000 [==============================] - 3s 54us/sample - loss: 0.8831 - accuracy: 0.6831 - val_loss: 1.4747 - val_accuracy: 0.5289\n",
      "Epoch 36/100\n",
      "50000/50000 [==============================] - 3s 54us/sample - loss: 0.8550 - accuracy: 0.6953 - val_loss: 1.4685 - val_accuracy: 0.5253\n",
      "Epoch 37/100\n",
      "50000/50000 [==============================] - 3s 55us/sample - loss: 0.8396 - accuracy: 0.6997 - val_loss: 1.5093 - val_accuracy: 0.5231\n",
      "Epoch 38/100\n",
      "50000/50000 [==============================] - 3s 55us/sample - loss: 0.8308 - accuracy: 0.7039 - val_loss: 1.5461 - val_accuracy: 0.5251\n",
      "Epoch 39/100\n",
      "50000/50000 [==============================] - 3s 55us/sample - loss: 0.8033 - accuracy: 0.7132 - val_loss: 1.5195 - val_accuracy: 0.5272\n",
      "Epoch 40/100\n",
      "50000/50000 [==============================] - 3s 54us/sample - loss: 0.7933 - accuracy: 0.7166 - val_loss: 1.5180 - val_accuracy: 0.5260\n",
      "Epoch 41/100\n",
      "50000/50000 [==============================] - 3s 54us/sample - loss: 0.7674 - accuracy: 0.7256 - val_loss: 1.5874 - val_accuracy: 0.5231\n",
      "Epoch 42/100\n",
      "50000/50000 [==============================] - 3s 56us/sample - loss: 0.7632 - accuracy: 0.7275 - val_loss: 1.6242 - val_accuracy: 0.5246\n",
      "Epoch 43/100\n",
      "50000/50000 [==============================] - 3s 55us/sample - loss: 0.7638 - accuracy: 0.7257 - val_loss: 1.6245 - val_accuracy: 0.5182\n",
      "Epoch 44/100\n",
      "50000/50000 [==============================] - 3s 55us/sample - loss: 0.7447 - accuracy: 0.7338 - val_loss: 1.6610 - val_accuracy: 0.5121\n",
      "Epoch 45/100\n",
      "50000/50000 [==============================] - 3s 54us/sample - loss: 0.7152 - accuracy: 0.7448 - val_loss: 1.6708 - val_accuracy: 0.5195\n",
      "Epoch 46/100\n",
      "50000/50000 [==============================] - 3s 53us/sample - loss: 0.7078 - accuracy: 0.7485 - val_loss: 1.6583 - val_accuracy: 0.5286\n",
      "Epoch 47/100\n",
      "50000/50000 [==============================] - 3s 54us/sample - loss: 0.6909 - accuracy: 0.7551 - val_loss: 1.6578 - val_accuracy: 0.5270\n",
      "Epoch 48/100\n",
      "50000/50000 [==============================] - 3s 53us/sample - loss: 0.6950 - accuracy: 0.7518 - val_loss: 1.7219 - val_accuracy: 0.5149\n",
      "Epoch 49/100\n",
      "50000/50000 [==============================] - 3s 55us/sample - loss: 0.6723 - accuracy: 0.7588 - val_loss: 1.7191 - val_accuracy: 0.5186\n",
      "Epoch 50/100\n",
      "50000/50000 [==============================] - 3s 53us/sample - loss: 0.6560 - accuracy: 0.7654 - val_loss: 1.7341 - val_accuracy: 0.5164\n",
      "Epoch 51/100\n",
      "50000/50000 [==============================] - 3s 54us/sample - loss: 0.6425 - accuracy: 0.7712 - val_loss: 1.7735 - val_accuracy: 0.5159\n",
      "Epoch 52/100\n",
      "50000/50000 [==============================] - 3s 54us/sample - loss: 0.6381 - accuracy: 0.7713 - val_loss: 1.7827 - val_accuracy: 0.5189\n",
      "Epoch 53/100\n",
      "50000/50000 [==============================] - 3s 54us/sample - loss: 0.6210 - accuracy: 0.7777 - val_loss: 1.8139 - val_accuracy: 0.5130\n",
      "Epoch 54/100\n",
      "50000/50000 [==============================] - 3s 54us/sample - loss: 0.6020 - accuracy: 0.7839 - val_loss: 1.8431 - val_accuracy: 0.5169\n"
     ]
    },
    {
     "name": "stdout",
     "output_type": "stream",
     "text": [
      "Epoch 55/100\n",
      "50000/50000 [==============================] - 3s 53us/sample - loss: 0.5925 - accuracy: 0.7872 - val_loss: 1.9156 - val_accuracy: 0.5101\n",
      "Epoch 56/100\n",
      "50000/50000 [==============================] - 3s 53us/sample - loss: 0.5927 - accuracy: 0.7876 - val_loss: 1.9577 - val_accuracy: 0.5124\n",
      "Epoch 57/100\n",
      "50000/50000 [==============================] - 3s 54us/sample - loss: 0.5897 - accuracy: 0.7889 - val_loss: 1.9240 - val_accuracy: 0.5105\n",
      "Epoch 58/100\n",
      "50000/50000 [==============================] - 3s 57us/sample - loss: 0.5606 - accuracy: 0.7998 - val_loss: 1.9486 - val_accuracy: 0.5157\n",
      "Epoch 59/100\n",
      "50000/50000 [==============================] - 3s 55us/sample - loss: 0.5565 - accuracy: 0.8018 - val_loss: 1.8926 - val_accuracy: 0.5201\n",
      "Epoch 60/100\n",
      "50000/50000 [==============================] - 3s 55us/sample - loss: 0.5477 - accuracy: 0.8040 - val_loss: 1.9910 - val_accuracy: 0.5178\n",
      "Epoch 61/100\n",
      "50000/50000 [==============================] - 3s 56us/sample - loss: 0.5362 - accuracy: 0.8100 - val_loss: 2.0122 - val_accuracy: 0.5057\n",
      "Epoch 62/100\n",
      "50000/50000 [==============================] - 3s 58us/sample - loss: 0.5113 - accuracy: 0.8174 - val_loss: 2.0329 - val_accuracy: 0.5181\n",
      "Epoch 63/100\n",
      "50000/50000 [==============================] - 3s 54us/sample - loss: 0.5132 - accuracy: 0.8174 - val_loss: 2.0431 - val_accuracy: 0.5123\n",
      "Epoch 64/100\n",
      "50000/50000 [==============================] - 3s 54us/sample - loss: 0.4973 - accuracy: 0.8222 - val_loss: 2.1848 - val_accuracy: 0.5051\n",
      "Epoch 65/100\n",
      "50000/50000 [==============================] - 3s 55us/sample - loss: 0.4904 - accuracy: 0.8272 - val_loss: 2.1204 - val_accuracy: 0.5090\n",
      "Epoch 66/100\n",
      "50000/50000 [==============================] - 3s 54us/sample - loss: 0.4899 - accuracy: 0.8248 - val_loss: 2.1439 - val_accuracy: 0.5170\n",
      "Epoch 67/100\n",
      "50000/50000 [==============================] - 3s 55us/sample - loss: 0.4973 - accuracy: 0.8222 - val_loss: 2.1945 - val_accuracy: 0.5065\n",
      "Epoch 68/100\n",
      "50000/50000 [==============================] - 3s 59us/sample - loss: 0.4644 - accuracy: 0.8313 - val_loss: 2.2784 - val_accuracy: 0.4978\n",
      "Epoch 69/100\n",
      "50000/50000 [==============================] - 3s 59us/sample - loss: 0.4834 - accuracy: 0.8256 - val_loss: 2.2513 - val_accuracy: 0.5023\n",
      "Epoch 70/100\n",
      "50000/50000 [==============================] - 3s 56us/sample - loss: 0.4566 - accuracy: 0.8349 - val_loss: 2.2479 - val_accuracy: 0.5083\n",
      "Epoch 71/100\n",
      "50000/50000 [==============================] - 3s 55us/sample - loss: 0.4492 - accuracy: 0.8386 - val_loss: 2.2888 - val_accuracy: 0.5095\n",
      "Epoch 72/100\n",
      "50000/50000 [==============================] - 3s 54us/sample - loss: 0.4340 - accuracy: 0.8444 - val_loss: 2.2908 - val_accuracy: 0.5103\n",
      "Epoch 73/100\n",
      "50000/50000 [==============================] - 3s 54us/sample - loss: 0.4238 - accuracy: 0.8483 - val_loss: 2.3198 - val_accuracy: 0.5077\n",
      "Epoch 74/100\n",
      "50000/50000 [==============================] - 3s 55us/sample - loss: 0.4136 - accuracy: 0.8524 - val_loss: 2.3561 - val_accuracy: 0.5132\n",
      "Epoch 75/100\n",
      "50000/50000 [==============================] - 3s 55us/sample - loss: 0.4246 - accuracy: 0.8467 - val_loss: 2.4090 - val_accuracy: 0.5092\n",
      "Epoch 76/100\n",
      "50000/50000 [==============================] - 3s 55us/sample - loss: 0.4174 - accuracy: 0.8503 - val_loss: 2.4303 - val_accuracy: 0.5098\n",
      "Epoch 77/100\n",
      "50000/50000 [==============================] - 3s 55us/sample - loss: 0.4090 - accuracy: 0.8528 - val_loss: 2.5172 - val_accuracy: 0.5049\n",
      "Epoch 78/100\n",
      "50000/50000 [==============================] - 3s 54us/sample - loss: 0.3924 - accuracy: 0.8600 - val_loss: 2.4851 - val_accuracy: 0.5056\n",
      "Epoch 79/100\n",
      "50000/50000 [==============================] - 3s 54us/sample - loss: 0.3906 - accuracy: 0.8603 - val_loss: 2.5005 - val_accuracy: 0.5027\n",
      "Epoch 80/100\n",
      "50000/50000 [==============================] - 3s 55us/sample - loss: 0.4156 - accuracy: 0.8496 - val_loss: 2.4915 - val_accuracy: 0.5027\n",
      "Epoch 81/100\n",
      "50000/50000 [==============================] - 3s 55us/sample - loss: 0.3796 - accuracy: 0.8642 - val_loss: 2.5787 - val_accuracy: 0.4989\n",
      "Epoch 82/100\n",
      "50000/50000 [==============================] - 3s 55us/sample - loss: 0.3642 - accuracy: 0.8693 - val_loss: 2.5823 - val_accuracy: 0.5025\n",
      "Epoch 83/100\n",
      "50000/50000 [==============================] - 3s 56us/sample - loss: 0.3731 - accuracy: 0.8664 - val_loss: 2.5869 - val_accuracy: 0.5036\n",
      "Epoch 84/100\n",
      "50000/50000 [==============================] - 3s 53us/sample - loss: 0.3826 - accuracy: 0.8630 - val_loss: 2.6831 - val_accuracy: 0.5021\n",
      "Epoch 85/100\n",
      "50000/50000 [==============================] - 3s 54us/sample - loss: 0.3424 - accuracy: 0.8762 - val_loss: 2.6569 - val_accuracy: 0.5017\n",
      "Epoch 86/100\n",
      "50000/50000 [==============================] - 3s 56us/sample - loss: 0.3684 - accuracy: 0.8679 - val_loss: 2.6960 - val_accuracy: 0.5066\n",
      "Epoch 87/100\n",
      "50000/50000 [==============================] - 3s 55us/sample - loss: 0.3442 - accuracy: 0.8763 - val_loss: 2.6869 - val_accuracy: 0.4991\n",
      "Epoch 88/100\n",
      "50000/50000 [==============================] - 3s 54us/sample - loss: 0.3451 - accuracy: 0.8770 - val_loss: 2.6979 - val_accuracy: 0.5003\n",
      "Epoch 89/100\n",
      "50000/50000 [==============================] - 3s 54us/sample - loss: 0.3268 - accuracy: 0.8836 - val_loss: 2.6889 - val_accuracy: 0.5022\n",
      "Epoch 90/100\n",
      "50000/50000 [==============================] - 3s 54us/sample - loss: 0.3330 - accuracy: 0.8805 - val_loss: 2.8697 - val_accuracy: 0.4975\n",
      "Epoch 91/100\n",
      "50000/50000 [==============================] - 3s 55us/sample - loss: 0.3321 - accuracy: 0.8798 - val_loss: 2.8107 - val_accuracy: 0.5100\n",
      "Epoch 92/100\n",
      "50000/50000 [==============================] - 3s 54us/sample - loss: 0.3201 - accuracy: 0.8857 - val_loss: 2.8140 - val_accuracy: 0.5019\n",
      "Epoch 93/100\n",
      "50000/50000 [==============================] - 3s 54us/sample - loss: 0.3133 - accuracy: 0.8868 - val_loss: 2.8869 - val_accuracy: 0.5068\n",
      "Epoch 94/100\n",
      "50000/50000 [==============================] - 3s 54us/sample - loss: 0.3060 - accuracy: 0.8893 - val_loss: 2.8657 - val_accuracy: 0.5031\n",
      "Epoch 95/100\n",
      "50000/50000 [==============================] - 3s 55us/sample - loss: 0.3053 - accuracy: 0.8899 - val_loss: 2.9611 - val_accuracy: 0.4990\n",
      "Epoch 96/100\n",
      "50000/50000 [==============================] - 3s 55us/sample - loss: 0.3021 - accuracy: 0.8906 - val_loss: 2.9682 - val_accuracy: 0.4970\n",
      "Epoch 97/100\n",
      "50000/50000 [==============================] - 3s 54us/sample - loss: 0.3170 - accuracy: 0.8855 - val_loss: 2.8882 - val_accuracy: 0.5026\n",
      "Epoch 98/100\n",
      "50000/50000 [==============================] - 3s 55us/sample - loss: 0.3168 - accuracy: 0.8838 - val_loss: 3.0394 - val_accuracy: 0.5005\n",
      "Epoch 99/100\n",
      "50000/50000 [==============================] - 3s 54us/sample - loss: 0.2934 - accuracy: 0.8935 - val_loss: 2.9802 - val_accuracy: 0.4988\n",
      "Epoch 100/100\n",
      "50000/50000 [==============================] - 3s 54us/sample - loss: 0.2956 - accuracy: 0.8939 - val_loss: 3.0028 - val_accuracy: 0.5039\n"
     ]
    },
    {
     "data": {
      "text/plain": [
       "<tensorflow.python.keras.callbacks.History at 0x145c0503ef0>"
      ]
     },
     "execution_count": 7,
     "metadata": {},
     "output_type": "execute_result"
    }
   ],
   "source": [
    "# 訓練模型並檢視驗證集的結果\n",
    "model.fit(x_train, y_train, \n",
    "          epochs=100, \n",
    "          batch_size=256, \n",
    "          validation_data=(x_test, y_test), \n",
    "          shuffle=True)"
   ]
  },
  {
   "cell_type": "code",
   "execution_count": 9,
   "metadata": {},
   "outputs": [
    {
     "data": {
      "image/png": "[encoded data removed]",
      "text/plain": [
       "<Figure size 432x288 with 1 Axes>"
      ]
     },
     "metadata": {
      "needs_background": "light"
     },
     "output_type": "display_data"
    },
    {
     "data": {
      "image/png": "[encoded data removed]",
      "text/plain": [
       "<Figure size 432x288 with 1 Axes>"
      ]
     },
     "metadata": {
      "needs_background": "light"
     },
     "output_type": "display_data"
    }
   ],
   "source": [
    "# 以視覺畫方式檢視訓練過程\n",
    "import matplotlib.pyplot as plt\n",
    "train_loss = model.history.history[\"loss\"]\n",
    "valid_loss = model.history.history[\"val_loss\"]\n",
    "\n",
    "train_acc = model.history.history[\"accuracy\"]\n",
    "valid_acc = model.history.history[\"val_accuracy\"]\n",
    "\n",
    "plt.plot(range(len(train_loss)), train_loss, label=\"train loss\")\n",
    "plt.plot(range(len(valid_loss)), valid_loss, label=\"valid loss\")\n",
    "plt.legend()\n",
    "plt.title(\"Loss\")\n",
    "plt.show()\n",
    "\n",
    "plt.plot(range(len(train_acc)), train_acc, label=\"train accuracy\")\n",
    "plt.plot(range(len(valid_acc)), valid_acc, label=\"valid accuracy\")\n",
    "plt.legend()\n",
    "plt.title(\"Accuracy\")\n",
    "plt.show()"
   ]
  },
  {
   "cell_type": "markdown",
   "metadata": {},
   "source": [
    "## 作業\n",
    "1. 請將 Epoch 加到 500 個，並觀察 learning curve 的走勢\n",
    "2. 請將 Optimizer 換成 SGD，並觀察 learning curve 的走勢"
   ]
  }
 ],
 "metadata": {
  "kernelspec": {
   "display_name": "ML100",
   "language": "python",
   "name": "ml100"
  },
  "language_info": {
   "codemirror_mode": {
    "name": "ipython",
    "version": 3
   },
   "file_extension": ".py",
   "mimetype": "text/x-python",
   "name": "python",
   "nbconvert_exporter": "python",
   "pygments_lexer": "ipython3",
   "version": "3.7.3"
  }
 },
 "nbformat": 4,
 "nbformat_minor": 2
}
