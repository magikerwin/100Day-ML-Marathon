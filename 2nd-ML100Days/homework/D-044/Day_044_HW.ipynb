{
 "cells": [
  {
   "cell_type": "markdown",
   "metadata": {},
   "source": [
    "## [作業重點]\n",
    "確保你了解隨機森林模型中每個超參數的意義，並觀察調整超參數對結果的影響"
   ]
  },
  {
   "cell_type": "markdown",
   "metadata": {},
   "source": [
    "## 作業\n",
    "\n",
    "1. 試著調整 RandomForestClassifier(...) 中的參數，並觀察是否會改變結果？\n",
    "2. 改用其他資料集 (boston, wine)，並與回歸模型與決策樹的結果進行比較"
   ]
  },
  {
   "cell_type": "code",
   "execution_count": 1,
   "metadata": {},
   "outputs": [],
   "source": [
    "from sklearn import datasets, metrics\n",
    "from sklearn.ensemble import RandomForestClassifier\n",
    "from sklearn.model_selection import train_test_split"
   ]
  },
  {
   "cell_type": "code",
   "execution_count": 2,
   "metadata": {},
   "outputs": [],
   "source": [
    "def train_and_evaluate(classifier, dataset, name):\n",
    "    print(\"\\n[%s]---------------\" % name)\n",
    "    x_train, x_test, y_train, y_test = train_test_split(dataset.data, dataset.target, \n",
    "                                                        test_size=0.25, random_state=4)\n",
    "    classifier.fit(x_train, y_train)\n",
    "    y_pred = classifier.predict(x_test)\n",
    "    acc = metrics.accuracy_score(y_test, y_pred)\n",
    "    print(\"Accuracy: \", acc)\n",
    "    print(\"Feature importance:\")\n",
    "    for i in range(len(dataset.feature_names)):\n",
    "        print(\"%s = %f\" % (dataset.feature_names[i], classifier.feature_importances_[i]))"
   ]
  },
  {
   "cell_type": "code",
   "execution_count": 3,
   "metadata": {},
   "outputs": [
    {
     "name": "stdout",
     "output_type": "stream",
     "text": [
      "using iris dataset\n",
      "\n",
      "[n_estimators=15, max_depth=4]---------------\n",
      "Accuracy:  0.9736842105263158\n",
      "Feature importance:\n",
      "sepal length (cm) = 0.136336\n",
      "sepal width (cm) = 0.015468\n",
      "petal length (cm) = 0.576846\n",
      "petal width (cm) = 0.271349\n",
      "\n",
      "[n_estimators=10, max_depth=4]---------------\n",
      "Accuracy:  0.9473684210526315\n",
      "Feature importance:\n",
      "sepal length (cm) = 0.115788\n",
      "sepal width (cm) = 0.012937\n",
      "petal length (cm) = 0.443959\n",
      "petal width (cm) = 0.427315\n",
      "\n",
      "[n_estimators=5, max_depth=4]---------------\n",
      "Accuracy:  0.9736842105263158\n",
      "Feature importance:\n",
      "sepal length (cm) = 0.087989\n",
      "sepal width (cm) = 0.027836\n",
      "petal length (cm) = 0.572799\n",
      "petal width (cm) = 0.311375\n",
      "\n",
      "[n_estimators=1, max_depth=4]---------------\n",
      "Accuracy:  0.9736842105263158\n",
      "Feature importance:\n",
      "sepal length (cm) = 0.000000\n",
      "sepal width (cm) = 0.003863\n",
      "petal length (cm) = 0.973472\n",
      "petal width (cm) = 0.022665\n"
     ]
    }
   ],
   "source": [
    "iris = datasets.load_iris()\n",
    "print(\"using iris dataset\")\n",
    "\n",
    "clf = RandomForestClassifier(n_estimators=15, max_depth=4)\n",
    "train_and_evaluate(clf, iris, name='n_estimators=15, max_depth=4')\n",
    "\n",
    "clf = RandomForestClassifier(n_estimators=10, max_depth=4)\n",
    "train_and_evaluate(clf, iris, name='n_estimators=10, max_depth=4')\n",
    "\n",
    "clf = RandomForestClassifier(n_estimators=5, max_depth=4)\n",
    "train_and_evaluate(clf, iris, name='n_estimators=5, max_depth=4')\n",
    "\n",
    "clf = RandomForestClassifier(n_estimators=1, max_depth=4)\n",
    "train_and_evaluate(clf, iris, name='n_estimators=1, max_depth=4')"
   ]
  },
  {
   "cell_type": "code",
   "execution_count": 4,
   "metadata": {},
   "outputs": [
    {
     "name": "stdout",
     "output_type": "stream",
     "text": [
      "using wine dataset\n",
      "\n",
      "[n_estimators=15, max_depth=4]---------------\n",
      "Accuracy:  0.9777777777777777\n",
      "Feature importance:\n",
      "alcohol = 0.154988\n",
      "malic_acid = 0.005692\n",
      "ash = 0.018635\n",
      "alcalinity_of_ash = 0.014832\n",
      "magnesium = 0.045986\n",
      "total_phenols = 0.019336\n",
      "flavanoids = 0.140830\n",
      "nonflavanoid_phenols = 0.014005\n",
      "proanthocyanins = 0.015462\n",
      "color_intensity = 0.174138\n",
      "hue = 0.083785\n",
      "od280/od315_of_diluted_wines = 0.142421\n",
      "proline = 0.169889\n",
      "\n",
      "[n_estimators=10, max_depth=4]---------------\n",
      "Accuracy:  1.0\n",
      "Feature importance:\n",
      "alcohol = 0.190064\n",
      "malic_acid = 0.017011\n",
      "ash = 0.007177\n",
      "alcalinity_of_ash = 0.039475\n",
      "magnesium = 0.062697\n",
      "total_phenols = 0.011840\n",
      "flavanoids = 0.260605\n",
      "nonflavanoid_phenols = 0.006219\n",
      "proanthocyanins = 0.011712\n",
      "color_intensity = 0.122785\n",
      "hue = 0.040443\n",
      "od280/od315_of_diluted_wines = 0.099970\n",
      "proline = 0.130002\n",
      "\n",
      "[n_estimators=5, max_depth=4]---------------\n",
      "Accuracy:  0.9555555555555556\n",
      "Feature importance:\n",
      "alcohol = 0.079581\n",
      "malic_acid = 0.089065\n",
      "ash = 0.011574\n",
      "alcalinity_of_ash = 0.013102\n",
      "magnesium = 0.021260\n",
      "total_phenols = 0.025935\n",
      "flavanoids = 0.195807\n",
      "nonflavanoid_phenols = 0.012580\n",
      "proanthocyanins = 0.000000\n",
      "color_intensity = 0.290875\n",
      "hue = 0.083269\n",
      "od280/od315_of_diluted_wines = 0.115823\n",
      "proline = 0.061128\n",
      "\n",
      "[n_estimators=1, max_depth=4]---------------\n",
      "Accuracy:  0.9333333333333333\n",
      "Feature importance:\n",
      "alcohol = 0.362050\n",
      "malic_acid = 0.000000\n",
      "ash = 0.000000\n",
      "alcalinity_of_ash = 0.000000\n",
      "magnesium = 0.000000\n",
      "total_phenols = 0.000000\n",
      "flavanoids = 0.430976\n",
      "nonflavanoid_phenols = 0.000000\n",
      "proanthocyanins = 0.000000\n",
      "color_intensity = 0.000000\n",
      "hue = 0.000000\n",
      "od280/od315_of_diluted_wines = 0.019617\n",
      "proline = 0.187358\n"
     ]
    }
   ],
   "source": [
    "wine = datasets.load_wine()\n",
    "print(\"using wine dataset\")\n",
    "\n",
    "clf = RandomForestClassifier(n_estimators=15, max_depth=4)\n",
    "train_and_evaluate(clf, wine, name='n_estimators=15, max_depth=4')\n",
    "\n",
    "clf = RandomForestClassifier(n_estimators=10, max_depth=4)\n",
    "train_and_evaluate(clf, wine, name='n_estimators=10, max_depth=4')\n",
    "\n",
    "clf = RandomForestClassifier(n_estimators=5, max_depth=4)\n",
    "train_and_evaluate(clf, wine, name='n_estimators=5, max_depth=4')\n",
    "\n",
    "clf = RandomForestClassifier(n_estimators=1, max_depth=4)\n",
    "train_and_evaluate(clf, wine, name='n_estimators=1, max_depth=4')"
   ]
  },
  {
   "cell_type": "code",
   "execution_count": null,
   "metadata": {},
   "outputs": [],
   "source": []
  }
 ],
 "metadata": {
  "kernelspec": {
   "display_name": "Python 3",
   "language": "python",
   "name": "python3"
  },
  "language_info": {
   "codemirror_mode": {
    "name": "ipython",
    "version": 3
   },
   "file_extension": ".py",
   "mimetype": "text/x-python",
   "name": "python",
   "nbconvert_exporter": "python",
   "pygments_lexer": "ipython3",
   "version": "3.7.3"
  }
 },
 "nbformat": 4,
 "nbformat_minor": 2
}
