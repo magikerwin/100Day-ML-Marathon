{
 "cells": [
  {
   "cell_type": "markdown",
   "metadata": {},
   "source": [
    "## 範例重點\n",
    "* 學習如何在 keras 中加入自定義的 callbacks\n",
    "* 知道 callback function 可以動作的時機"
   ]
  },
  {
   "cell_type": "code",
   "execution_count": 1,
   "metadata": {},
   "outputs": [],
   "source": [
    "import os\n",
    "import tensorflow as tf\n",
    "from tensorflow import keras\n",
    "\n",
    "# 本範例不需使用 GPU, 將 GPU 設定為 \"無\"\n",
    "os.environ[\"CUDA_VISIBLE_DEVICES\"] = \"0\""
   ]
  },
  {
   "cell_type": "code",
   "execution_count": 2,
   "metadata": {},
   "outputs": [],
   "source": [
    "train, test = keras.datasets.cifar10.load_data()"
   ]
  },
  {
   "cell_type": "code",
   "execution_count": 3,
   "metadata": {},
   "outputs": [],
   "source": [
    "## 資料前處理\n",
    "def preproc_x(x, flatten=True):\n",
    "    x = x / 255.\n",
    "    if flatten:\n",
    "        x = x.reshape((len(x), -1))\n",
    "    return x\n",
    "\n",
    "def preproc_y(y, num_classes=10):\n",
    "    if y.shape[-1] == 1:\n",
    "        y = keras.utils.to_categorical(y, num_classes)\n",
    "    return y    "
   ]
  },
  {
   "cell_type": "code",
   "execution_count": 4,
   "metadata": {},
   "outputs": [],
   "source": [
    "x_train, y_train = train\n",
    "x_test, y_test = test\n",
    "\n",
    "# 資料前處理 - X 標準化\n",
    "x_train = preproc_x(x_train)\n",
    "x_test = preproc_x(x_test)\n",
    "\n",
    "# 資料前處理 -Y 轉成 onehot\n",
    "y_train = preproc_y(y_train)\n",
    "y_test = preproc_y(y_test)"
   ]
  },
  {
   "cell_type": "code",
   "execution_count": 5,
   "metadata": {},
   "outputs": [],
   "source": [
    "from tensorflow.keras.layers import BatchNormalization\n",
    "\n",
    "\"\"\"\n",
    "建立神經網路，並加入 BN layer\n",
    "\"\"\"\n",
    "def build_mlp(input_shape, output_units=10, num_neurons=[512, 256, 128]):\n",
    "    input_layer = keras.layers.Input(input_shape)\n",
    "    \n",
    "    for i, n_units in enumerate(num_neurons):\n",
    "        if i == 0:\n",
    "            x = keras.layers.Dense(units=n_units, \n",
    "                                   activation=\"relu\", \n",
    "                                   name=\"hidden_layer\"+str(i+1))(input_layer)\n",
    "            x = BatchNormalization()(x)\n",
    "        else:\n",
    "            x = keras.layers.Dense(units=n_units, \n",
    "                                   activation=\"relu\", \n",
    "                                   name=\"hidden_layer\"+str(i+1))(x)\n",
    "            x = BatchNormalization()(x)\n",
    "    \n",
    "    out = keras.layers.Dense(units=output_units, activation=\"softmax\", name=\"output\")(x)\n",
    "    \n",
    "    model = keras.models.Model(inputs=[input_layer], outputs=[out])\n",
    "    return model"
   ]
  },
  {
   "cell_type": "code",
   "execution_count": 6,
   "metadata": {},
   "outputs": [],
   "source": [
    "## 超參數設定\n",
    "LEARNING_RATE = 1e-3\n",
    "EPOCHS = 50\n",
    "BATCH_SIZE = 1024\n",
    "MOMENTUM = 0.95"
   ]
  },
  {
   "cell_type": "code",
   "execution_count": 7,
   "metadata": {},
   "outputs": [],
   "source": [
    "\"\"\"\n",
    "# 載入 Callbacks，撰寫一個 f1 score 的 callback function\n",
    "\"\"\"\n",
    "\n",
    "from tensorflow.keras.callbacks import Callback\n",
    "from sklearn.metrics import f1_score\n",
    "\n",
    "class f1sc(Callback):\n",
    "    def on_train_begin(self, epoch, logs = {}):\n",
    "        logs = logs or {}\n",
    "        record_items = [\"val_auc\", \"val_f1sc\", \"val_fp\", \"val_fn\", \"val_tp\", \"val_tn\"]\n",
    "        for i in record_items:\n",
    "            if i not in self.params['metrics']:\n",
    "                self.params['metrics'].append(i)\n",
    "    \n",
    "    def on_epoch_end(self, epoch, logs = {}, thres=0.5):\n",
    "        logs = logs or {}\n",
    "        #y_true = self.validation_data[1].argmax(axis = 1)\n",
    "        y_true = tf.argmax(y_test, axis=1)\n",
    "        #y_pred = self.model.predict(self.validation_data[0])\n",
    "        y_pred = self.model.predict(x_test)\n",
    "        y_pred = (y_pred[:, 1] >= thres) * 1\n",
    "        \n",
    "        logs[\"val_f1sc\"] = f1_score(y_true = y_true, y_pred = y_pred, average=\"weighted\")\n",
    "        \n",
    "log_f1sc = f1sc()"
   ]
  },
  {
   "cell_type": "code",
   "execution_count": 8,
   "metadata": {
    "scrolled": true
   },
   "outputs": [
    {
     "name": "stderr",
     "output_type": "stream",
     "text": [
      "WARNING: Logging before flag parsing goes to stderr.\n",
      "W0722 23:00:55.660489 11884 deprecation.py:323] From c:\\users\\qwerz\\miniconda3\\envs\\ml100\\lib\\site-packages\\tensorflow\\python\\ops\\math_grad.py:1250: add_dispatch_support.<locals>.wrapper (from tensorflow.python.ops.array_ops) is deprecated and will be removed in a future version.\n",
      "Instructions for updating:\n",
      "Use tf.where in 2.0, which has the same broadcast rule as np.where\n"
     ]
    },
    {
     "name": "stdout",
     "output_type": "stream",
     "text": [
      "Model: \"model\"\n",
      "_________________________________________________________________\n",
      "Layer (type)                 Output Shape              Param #   \n",
      "=================================================================\n",
      "input_1 (InputLayer)         [(None, 3072)]            0         \n",
      "_________________________________________________________________\n",
      "hidden_layer1 (Dense)        (None, 512)               1573376   \n",
      "_________________________________________________________________\n",
      "batch_normalization (BatchNo (None, 512)               2048      \n",
      "_________________________________________________________________\n",
      "hidden_layer2 (Dense)        (None, 256)               131328    \n",
      "_________________________________________________________________\n",
      "batch_normalization_1 (Batch (None, 256)               1024      \n",
      "_________________________________________________________________\n",
      "hidden_layer3 (Dense)        (None, 128)               32896     \n",
      "_________________________________________________________________\n",
      "batch_normalization_2 (Batch (None, 128)               512       \n",
      "_________________________________________________________________\n",
      "output (Dense)               (None, 10)                1290      \n",
      "=================================================================\n",
      "Total params: 1,742,474\n",
      "Trainable params: 1,740,682\n",
      "Non-trainable params: 1,792\n",
      "_________________________________________________________________\n",
      "Train on 50000 samples, validate on 10000 samples\n",
      "Epoch 1/50\n",
      "50000/50000 [==============================] - 4s 86us/sample - loss: 2.2182 - accuracy: 0.2696 - val_loss: 2.1262 - val_accuracy: 0.2204 - val_f1sc: 0.0182\n",
      "Epoch 2/50\n",
      " 5120/50000 [==>...........................] - ETA: 1s - loss: 1.8249 - accuracy: 0.3754"
     ]
    },
    {
     "name": "stderr",
     "output_type": "stream",
     "text": [
      "c:\\users\\qwerz\\miniconda3\\envs\\ml100\\lib\\site-packages\\sklearn\\metrics\\classification.py:1143: UndefinedMetricWarning: F-score is ill-defined and being set to 0.0 in labels with no predicted samples.\n",
      "  'precision', 'predicted', average, warn_for)\n"
     ]
    },
    {
     "name": "stdout",
     "output_type": "stream",
     "text": [
      "50000/50000 [==============================] - 3s 60us/sample - loss: 1.7540 - accuracy: 0.3893 - val_loss: 1.9922 - val_accuracy: 0.2642 - val_f1sc: 0.0182\n",
      "Epoch 3/50\n",
      "50000/50000 [==============================] - 3s 61us/sample - loss: 1.6260 - accuracy: 0.4314 - val_loss: 1.8553 - val_accuracy: 0.3450 - val_f1sc: 0.0190\n",
      "Epoch 4/50\n",
      "50000/50000 [==============================] - 3s 58us/sample - loss: 1.5509 - accuracy: 0.4578 - val_loss: 1.7356 - val_accuracy: 0.3957 - val_f1sc: 0.0239\n",
      "Epoch 5/50\n",
      "50000/50000 [==============================] - 3s 58us/sample - loss: 1.4935 - accuracy: 0.4776 - val_loss: 1.6527 - val_accuracy: 0.4242 - val_f1sc: 0.0354\n",
      "Epoch 6/50\n",
      "50000/50000 [==============================] - 3s 58us/sample - loss: 1.4464 - accuracy: 0.4936 - val_loss: 1.6011 - val_accuracy: 0.4389 - val_f1sc: 0.0399\n",
      "Epoch 7/50\n",
      "50000/50000 [==============================] - 3s 58us/sample - loss: 1.4079 - accuracy: 0.5090 - val_loss: 1.5600 - val_accuracy: 0.4520 - val_f1sc: 0.0566\n",
      "Epoch 8/50\n",
      "50000/50000 [==============================] - 3s 58us/sample - loss: 1.3721 - accuracy: 0.5219 - val_loss: 1.5377 - val_accuracy: 0.4576 - val_f1sc: 0.0623\n",
      "Epoch 9/50\n",
      "50000/50000 [==============================] - 3s 58us/sample - loss: 1.3403 - accuracy: 0.5335 - val_loss: 1.5147 - val_accuracy: 0.4670 - val_f1sc: 0.0634\n",
      "Epoch 10/50\n",
      "50000/50000 [==============================] - 3s 58us/sample - loss: 1.3099 - accuracy: 0.5435 - val_loss: 1.5031 - val_accuracy: 0.4678 - val_f1sc: 0.0661\n",
      "Epoch 11/50\n",
      "50000/50000 [==============================] - 3s 59us/sample - loss: 1.2819 - accuracy: 0.5539 - val_loss: 1.4918 - val_accuracy: 0.4716 - val_f1sc: 0.0730\n",
      "Epoch 12/50\n",
      "50000/50000 [==============================] - 3s 58us/sample - loss: 1.2559 - accuracy: 0.5630 - val_loss: 1.4839 - val_accuracy: 0.4772 - val_f1sc: 0.0691\n",
      "Epoch 13/50\n",
      "50000/50000 [==============================] - 3s 58us/sample - loss: 1.2295 - accuracy: 0.5738 - val_loss: 1.4801 - val_accuracy: 0.4781 - val_f1sc: 0.0757\n",
      "Epoch 14/50\n",
      "50000/50000 [==============================] - 3s 58us/sample - loss: 1.2040 - accuracy: 0.5828 - val_loss: 1.4691 - val_accuracy: 0.4864 - val_f1sc: 0.0713\n",
      "Epoch 15/50\n",
      "50000/50000 [==============================] - 3s 58us/sample - loss: 1.1804 - accuracy: 0.5921 - val_loss: 1.4771 - val_accuracy: 0.4814 - val_f1sc: 0.0751\n",
      "Epoch 16/50\n",
      "50000/50000 [==============================] - 3s 58us/sample - loss: 1.1560 - accuracy: 0.6006 - val_loss: 1.4731 - val_accuracy: 0.4824 - val_f1sc: 0.0739\n",
      "Epoch 17/50\n",
      "50000/50000 [==============================] - 3s 58us/sample - loss: 1.1329 - accuracy: 0.6103 - val_loss: 1.4649 - val_accuracy: 0.4840 - val_f1sc: 0.0720\n",
      "Epoch 18/50\n",
      "50000/50000 [==============================] - 3s 58us/sample - loss: 1.1108 - accuracy: 0.6174 - val_loss: 1.4702 - val_accuracy: 0.4829 - val_f1sc: 0.0762\n",
      "Epoch 19/50\n",
      "50000/50000 [==============================] - 3s 59us/sample - loss: 1.0890 - accuracy: 0.6266 - val_loss: 1.4891 - val_accuracy: 0.4790 - val_f1sc: 0.0768\n",
      "Epoch 20/50\n",
      "50000/50000 [==============================] - 3s 62us/sample - loss: 1.0662 - accuracy: 0.6352 - val_loss: 1.4687 - val_accuracy: 0.4896 - val_f1sc: 0.0698\n",
      "Epoch 21/50\n",
      "50000/50000 [==============================] - 3s 62us/sample - loss: 1.0435 - accuracy: 0.6447 - val_loss: 1.4635 - val_accuracy: 0.4877 - val_f1sc: 0.0766\n",
      "Epoch 22/50\n",
      "50000/50000 [==============================] - 3s 61us/sample - loss: 1.0229 - accuracy: 0.6506 - val_loss: 1.4766 - val_accuracy: 0.4824 - val_f1sc: 0.0770\n",
      "Epoch 23/50\n",
      "50000/50000 [==============================] - 3s 59us/sample - loss: 1.0023 - accuracy: 0.6589 - val_loss: 1.4700 - val_accuracy: 0.4889 - val_f1sc: 0.0770\n",
      "Epoch 24/50\n",
      "50000/50000 [==============================] - 3s 61us/sample - loss: 0.9801 - accuracy: 0.6684 - val_loss: 1.4707 - val_accuracy: 0.4895 - val_f1sc: 0.0775\n",
      "Epoch 25/50\n",
      "50000/50000 [==============================] - 3s 61us/sample - loss: 0.9604 - accuracy: 0.6759 - val_loss: 1.4752 - val_accuracy: 0.4914 - val_f1sc: 0.0751\n",
      "Epoch 26/50\n",
      "50000/50000 [==============================] - 3s 63us/sample - loss: 0.9384 - accuracy: 0.6857 - val_loss: 1.4809 - val_accuracy: 0.4877 - val_f1sc: 0.0792\n",
      "Epoch 27/50\n",
      "50000/50000 [==============================] - 3s 62us/sample - loss: 0.9192 - accuracy: 0.6920 - val_loss: 1.4899 - val_accuracy: 0.4873 - val_f1sc: 0.0756\n",
      "Epoch 28/50\n",
      "50000/50000 [==============================] - 3s 59us/sample - loss: 0.9001 - accuracy: 0.6990 - val_loss: 1.4775 - val_accuracy: 0.4950 - val_f1sc: 0.0761\n",
      "Epoch 29/50\n",
      "50000/50000 [==============================] - 3s 58us/sample - loss: 0.8797 - accuracy: 0.7078 - val_loss: 1.4895 - val_accuracy: 0.4904 - val_f1sc: 0.0732\n",
      "Epoch 30/50\n",
      "50000/50000 [==============================] - 3s 59us/sample - loss: 0.8609 - accuracy: 0.7161 - val_loss: 1.5173 - val_accuracy: 0.4876 - val_f1sc: 0.0739\n",
      "Epoch 31/50\n",
      "50000/50000 [==============================] - 3s 59us/sample - loss: 0.8393 - accuracy: 0.7246 - val_loss: 1.5112 - val_accuracy: 0.4925 - val_f1sc: 0.0770\n",
      "Epoch 32/50\n",
      "50000/50000 [==============================] - 3s 58us/sample - loss: 0.8206 - accuracy: 0.7335 - val_loss: 1.5097 - val_accuracy: 0.4924 - val_f1sc: 0.0754\n",
      "Epoch 33/50\n",
      "50000/50000 [==============================] - 3s 59us/sample - loss: 0.8017 - accuracy: 0.7380 - val_loss: 1.5114 - val_accuracy: 0.4949 - val_f1sc: 0.0740\n",
      "Epoch 34/50\n",
      "50000/50000 [==============================] - 3s 59us/sample - loss: 0.7807 - accuracy: 0.7476 - val_loss: 1.5214 - val_accuracy: 0.4887 - val_f1sc: 0.0766\n",
      "Epoch 35/50\n",
      "50000/50000 [==============================] - 3s 58us/sample - loss: 0.7630 - accuracy: 0.7528 - val_loss: 1.5271 - val_accuracy: 0.4944 - val_f1sc: 0.0730\n",
      "Epoch 36/50\n",
      "50000/50000 [==============================] - 3s 60us/sample - loss: 0.7444 - accuracy: 0.7613 - val_loss: 1.5420 - val_accuracy: 0.4902 - val_f1sc: 0.0776\n",
      "Epoch 37/50\n",
      "50000/50000 [==============================] - 3s 58us/sample - loss: 0.7263 - accuracy: 0.7702 - val_loss: 1.5599 - val_accuracy: 0.4869 - val_f1sc: 0.0771\n",
      "Epoch 38/50\n",
      "50000/50000 [==============================] - 3s 59us/sample - loss: 0.7071 - accuracy: 0.7781 - val_loss: 1.5550 - val_accuracy: 0.4865 - val_f1sc: 0.0771\n",
      "Epoch 39/50\n",
      "50000/50000 [==============================] - 3s 58us/sample - loss: 0.6891 - accuracy: 0.7845 - val_loss: 1.5579 - val_accuracy: 0.4936 - val_f1sc: 0.0776\n",
      "Epoch 40/50\n",
      "50000/50000 [==============================] - 3s 58us/sample - loss: 0.6696 - accuracy: 0.7923 - val_loss: 1.5892 - val_accuracy: 0.4890 - val_f1sc: 0.0758\n",
      "Epoch 41/50\n",
      "50000/50000 [==============================] - 3s 58us/sample - loss: 0.6519 - accuracy: 0.7997 - val_loss: 1.5958 - val_accuracy: 0.4892 - val_f1sc: 0.0769\n",
      "Epoch 42/50\n",
      "50000/50000 [==============================] - 3s 58us/sample - loss: 0.6350 - accuracy: 0.8053 - val_loss: 1.5846 - val_accuracy: 0.4909 - val_f1sc: 0.0766\n",
      "Epoch 43/50\n",
      "50000/50000 [==============================] - 3s 58us/sample - loss: 0.6175 - accuracy: 0.8109 - val_loss: 1.6108 - val_accuracy: 0.4902 - val_f1sc: 0.0792\n",
      "Epoch 44/50\n",
      "50000/50000 [==============================] - 3s 58us/sample - loss: 0.5995 - accuracy: 0.8193 - val_loss: 1.6399 - val_accuracy: 0.4829 - val_f1sc: 0.0753\n",
      "Epoch 45/50\n",
      "50000/50000 [==============================] - 3s 59us/sample - loss: 0.5835 - accuracy: 0.8266 - val_loss: 1.6354 - val_accuracy: 0.4897 - val_f1sc: 0.0772\n",
      "Epoch 46/50\n",
      "50000/50000 [==============================] - 3s 60us/sample - loss: 0.5650 - accuracy: 0.8316 - val_loss: 1.6513 - val_accuracy: 0.4850 - val_f1sc: 0.0762\n",
      "Epoch 47/50\n",
      "50000/50000 [==============================] - 3s 60us/sample - loss: 0.5498 - accuracy: 0.8376 - val_loss: 1.6440 - val_accuracy: 0.4897 - val_f1sc: 0.0790\n",
      "Epoch 48/50\n",
      "50000/50000 [==============================] - 3s 57us/sample - loss: 0.5314 - accuracy: 0.8457 - val_loss: 1.6722 - val_accuracy: 0.4834 - val_f1sc: 0.0752\n",
      "Epoch 49/50\n",
      "50000/50000 [==============================] - 3s 63us/sample - loss: 0.5145 - accuracy: 0.8527 - val_loss: 1.6903 - val_accuracy: 0.4826 - val_f1sc: 0.0764\n",
      "Epoch 50/50\n"
     ]
    },
    {
     "name": "stdout",
     "output_type": "stream",
     "text": [
      "50000/50000 [==============================] - 3s 60us/sample - loss: 0.4981 - accuracy: 0.8594 - val_loss: 1.6880 - val_accuracy: 0.4845 - val_f1sc: 0.0769\n"
     ]
    },
    {
     "data": {
      "text/plain": [
       "<tensorflow.python.keras.callbacks.History at 0x132118647f0>"
      ]
     },
     "execution_count": 8,
     "metadata": {},
     "output_type": "execute_result"
    }
   ],
   "source": [
    "model = build_mlp(input_shape=x_train.shape[1:])\n",
    "model.summary()\n",
    "optimizer = keras.optimizers.SGD(lr=LEARNING_RATE, nesterov=True, momentum=MOMENTUM)\n",
    "model.compile(loss=\"categorical_crossentropy\", metrics=[\"accuracy\"], optimizer=optimizer)\n",
    "\n",
    "model.fit(x_train, y_train, \n",
    "          epochs=EPOCHS, \n",
    "          batch_size=BATCH_SIZE, \n",
    "          validation_data=(x_test, y_test), \n",
    "          shuffle=True,\n",
    "          callbacks=[log_f1sc]\n",
    "         )"
   ]
  },
  {
   "cell_type": "code",
   "execution_count": 9,
   "metadata": {},
   "outputs": [],
   "source": [
    "# Collect results\n",
    "train_loss = model.history.history[\"loss\"]\n",
    "valid_loss = model.history.history[\"val_loss\"]\n",
    "train_acc = model.history.history[\"accuracy\"]\n",
    "valid_acc = model.history.history[\"val_accuracy\"]\n",
    "\n",
    "# 在訓練後，將 f1sc 紀錄調出\n",
    "valid_f1sc = model.history.history['val_f1sc']"
   ]
  },
  {
   "cell_type": "code",
   "execution_count": 10,
   "metadata": {},
   "outputs": [
    {
     "data": {
      "image/png": "[encoded data removed]",
      "text/plain": [
       "<Figure size 432x288 with 1 Axes>"
      ]
     },
     "metadata": {
      "needs_background": "light"
     },
     "output_type": "display_data"
    },
    {
     "data": {
      "image/png": "[encoded data removed]",
      "text/plain": [
       "<Figure size 432x288 with 1 Axes>"
      ]
     },
     "metadata": {
      "needs_background": "light"
     },
     "output_type": "display_data"
    },
    {
     "data": {
      "image/png": "[encoded data removed]",
      "text/plain": [
       "<Figure size 432x288 with 1 Axes>"
      ]
     },
     "metadata": {
      "needs_background": "light"
     },
     "output_type": "display_data"
    }
   ],
   "source": [
    "import matplotlib.pyplot as plt\n",
    "%matplotlib inline\n",
    "\n",
    "plt.plot(range(len(train_loss)), train_loss, label=\"train loss\")\n",
    "plt.plot(range(len(valid_loss)), valid_loss, label=\"valid loss\")\n",
    "plt.legend()\n",
    "plt.title(\"Loss\")\n",
    "plt.show()\n",
    "\n",
    "plt.plot(range(len(train_acc)), train_acc, label=\"train accuracy\")\n",
    "plt.plot(range(len(valid_acc)), valid_acc, label=\"valid accuracy\")\n",
    "plt.legend()\n",
    "plt.title(\"Accuracy\")\n",
    "plt.show()\n",
    "\n",
    "plt.plot(range(len(valid_f1sc)), valid_f1sc, label=\"valid f1-score\")\n",
    "plt.legend()\n",
    "plt.title(\"F1-score\")\n",
    "plt.show()\n"
   ]
  },
  {
   "cell_type": "markdown",
   "metadata": {},
   "source": [
    "## Work\n",
    "1. 請嘗試寫一個 callback 用來記錄各類別在訓練過程中，對驗證集的 True Positive 與 True Negative"
   ]
  }
 ],
 "metadata": {
  "kernelspec": {
   "display_name": "Python 3",
   "language": "python",
   "name": "python3"
  },
  "language_info": {
   "codemirror_mode": {
    "name": "ipython",
    "version": 3
   },
   "file_extension": ".py",
   "mimetype": "text/x-python",
   "name": "python",
   "nbconvert_exporter": "python",
   "pygments_lexer": "ipython3",
   "version": "3.7.3"
  }
 },
 "nbformat": 4,
 "nbformat_minor": 2
}
