{
 "cells": [
  {
   "cell_type": "markdown",
   "metadata": {},
   "source": [
    "## Work\n",
    "1. 請嘗試寫一個 callback 用來記錄各類別在訓練過程中，對驗證集的 True Positive 與 True Negative"
   ]
  },
  {
   "cell_type": "code",
   "execution_count": 1,
   "metadata": {},
   "outputs": [],
   "source": [
    "import os\n",
    "import tensorflow as tf\n",
    "from tensorflow import keras\n",
    "\n",
    "# Disable GPU\n",
    "os.environ[\"CUDA_VISIBLE_DEVICES\"] = \"0\""
   ]
  },
  {
   "cell_type": "code",
   "execution_count": 2,
   "metadata": {},
   "outputs": [],
   "source": [
    "train, test = keras.datasets.cifar10.load_data()"
   ]
  },
  {
   "cell_type": "code",
   "execution_count": 3,
   "metadata": {},
   "outputs": [],
   "source": [
    "## 資料前處理\n",
    "def preproc_x(x, flatten=True):\n",
    "    x = x / 255.\n",
    "    if flatten:\n",
    "        x = x.reshape((len(x), -1))\n",
    "    return x\n",
    "\n",
    "def preproc_y(y, num_classes=10):\n",
    "    if y.shape[-1] == 1:\n",
    "        y = keras.utils.to_categorical(y, num_classes)\n",
    "    return y    "
   ]
  },
  {
   "cell_type": "code",
   "execution_count": 4,
   "metadata": {},
   "outputs": [],
   "source": [
    "x_train, y_train = train\n",
    "x_test, y_test = test\n",
    "\n",
    "# Preproc the inputs\n",
    "x_train = preproc_x(x_train)\n",
    "x_test = preproc_x(x_test)\n",
    "\n",
    "# Preprc the outputs\n",
    "y_train = preproc_y(y_train)\n",
    "y_test = preproc_y(y_test)"
   ]
  },
  {
   "cell_type": "code",
   "execution_count": 5,
   "metadata": {},
   "outputs": [],
   "source": [
    "from tensorflow.keras.layers import BatchNormalization\n",
    "\n",
    "\"\"\"\n",
    "建立神經網路，並加入 BN layer\n",
    "\"\"\"\n",
    "def build_mlp(input_shape, output_units=10, num_neurons=[512, 256, 128]):\n",
    "    input_layer = keras.layers.Input(input_shape)\n",
    "    \n",
    "    for i, n_units in enumerate(num_neurons):\n",
    "        if i == 0:\n",
    "            x = keras.layers.Dense(units=n_units, \n",
    "                                   activation=\"relu\", \n",
    "                                   name=\"hidden_layer\"+str(i+1))(input_layer)\n",
    "            x = BatchNormalization()(x)\n",
    "        else:\n",
    "            x = keras.layers.Dense(units=n_units, \n",
    "                                   activation=\"relu\", \n",
    "                                   name=\"hidden_layer\"+str(i+1))(x)\n",
    "            x = BatchNormalization()(x)\n",
    "    \n",
    "    out = keras.layers.Dense(units=output_units, activation=\"softmax\", name=\"output\")(x)\n",
    "    \n",
    "    model = keras.models.Model(inputs=[input_layer], outputs=[out])\n",
    "    return model"
   ]
  },
  {
   "cell_type": "code",
   "execution_count": 6,
   "metadata": {},
   "outputs": [],
   "source": [
    "## 超參數設定\n",
    "LEARNING_RATE = 1e-3\n",
    "EPOCHS = 25\n",
    "BATCH_SIZE = 1024\n",
    "MOMENTUM = 0.95"
   ]
  },
  {
   "cell_type": "code",
   "execution_count": 120,
   "metadata": {},
   "outputs": [],
   "source": [
    "# 載入 Callbacks\n",
    "from tensorflow.keras.callbacks import Callback\n",
    "\n",
    "# Record_fp_tp\n",
    "class Record_tp_tn(Callback):\n",
    "    \"\"\"Code Here\n",
    "    撰寫一個紀錄 ture positive 與 true negative 數量的 callbacks    \n",
    "    \"\"\"\n",
    "    def on_train_begin(self, epoch, logs = {}):\n",
    "        logs = logs or {}\n",
    "        record_items = [\"val_tp\", \"val_tn\"]\n",
    "        for i in record_items:\n",
    "            if i not in self.params['metrics']:\n",
    "                self.params['metrics'].append(i)\n",
    "    \n",
    "    def on_epoch_end(self, epoch, logs = {}, thres=0.5):\n",
    "        logs = logs or {}\n",
    "        #y_true = np.argmax(y_test, axis=1)\n",
    "        #y_pred = np.argmax(self.model.predict(x_test), axis=1)\n",
    "        y_true = y_test\n",
    "        y_pred = self.model.predict(x_test)\n",
    "        y_pred = (y_pred >= thres) * 1\n",
    "        self.y_true = y_true\n",
    "        self.y_pred = y_pred\n",
    "        logs[\"val_tp\"] = np.sum((y_true == y_pred) * y_true)\n",
    "        logs[\"val_tn\"] = np.sum((y_true == y_pred) * (1-y_true)) / 10\n",
    "        \n",
    "rec_tptn = Record_tp_tn()"
   ]
  },
  {
   "cell_type": "code",
   "execution_count": 121,
   "metadata": {
    "scrolled": true
   },
   "outputs": [
    {
     "name": "stdout",
     "output_type": "stream",
     "text": [
      "Model: \"model_17\"\n",
      "_________________________________________________________________\n",
      "Layer (type)                 Output Shape              Param #   \n",
      "=================================================================\n",
      "input_18 (InputLayer)        [(None, 3072)]            0         \n",
      "_________________________________________________________________\n",
      "hidden_layer1 (Dense)        (None, 512)               1573376   \n",
      "_________________________________________________________________\n",
      "batch_normalization_51 (Batc (None, 512)               2048      \n",
      "_________________________________________________________________\n",
      "hidden_layer2 (Dense)        (None, 256)               131328    \n",
      "_________________________________________________________________\n",
      "batch_normalization_52 (Batc (None, 256)               1024      \n",
      "_________________________________________________________________\n",
      "hidden_layer3 (Dense)        (None, 128)               32896     \n",
      "_________________________________________________________________\n",
      "batch_normalization_53 (Batc (None, 128)               512       \n",
      "_________________________________________________________________\n",
      "output (Dense)               (None, 10)                1290      \n",
      "=================================================================\n",
      "Total params: 1,742,474\n",
      "Trainable params: 1,740,682\n",
      "Non-trainable params: 1,792\n",
      "_________________________________________________________________\n",
      "Train on 50000 samples, validate on 10000 samples\n",
      "Epoch 1/25\n",
      "50000/50000 [==============================] - 4s 78us/sample - loss: 2.2211 - accuracy: 0.2683 - val_loss: 2.1787 - val_accuracy: 0.1953 - val_tp: 1.0000 - val_tn: 8999.9000\n",
      "Epoch 2/25\n",
      "50000/50000 [==============================] - 3s 58us/sample - loss: 1.7469 - accuracy: 0.3913 - val_loss: 2.0195 - val_accuracy: 0.2505 - val_tp: 210.0000 - val_tn: 8991.1000\n",
      "Epoch 3/25\n",
      "50000/50000 [==============================] - 3s 58us/sample - loss: 1.6239 - accuracy: 0.4336 - val_loss: 1.8759 - val_accuracy: 0.3262 - val_tp: 425.0000 - val_tn: 8980.0000\n",
      "Epoch 4/25\n",
      "50000/50000 [==============================] - 3s 59us/sample - loss: 1.5504 - accuracy: 0.4596 - val_loss: 1.7342 - val_accuracy: 0.3943 - val_tp: 768.0000 - val_tn: 8972.7000\n",
      "Epoch 5/25\n",
      "50000/50000 [==============================] - 3s 57us/sample - loss: 1.4991 - accuracy: 0.4749 - val_loss: 1.6634 - val_accuracy: 0.4137 - val_tp: 1140.0000 - val_tn: 8957.9000\n",
      "Epoch 6/25\n",
      "50000/50000 [==============================] - 3s 58us/sample - loss: 1.4562 - accuracy: 0.4931 - val_loss: 1.6044 - val_accuracy: 0.4368 - val_tp: 1687.0000 - val_tn: 8933.1000\n",
      "Epoch 7/25\n",
      "50000/50000 [==============================] - 3s 58us/sample - loss: 1.4169 - accuracy: 0.5069 - val_loss: 1.5443 - val_accuracy: 0.4602 - val_tp: 2120.0000 - val_tn: 8909.2000\n",
      "Epoch 8/25\n",
      "50000/50000 [==============================] - 3s 58us/sample - loss: 1.3824 - accuracy: 0.5181 - val_loss: 1.5518 - val_accuracy: 0.4483 - val_tp: 2122.0000 - val_tn: 8903.4000\n",
      "Epoch 9/25\n",
      "50000/50000 [==============================] - 3s 59us/sample - loss: 1.3520 - accuracy: 0.5292 - val_loss: 1.5124 - val_accuracy: 0.4690 - val_tp: 2526.0000 - val_tn: 8887.6000\n",
      "Epoch 10/25\n",
      "50000/50000 [==============================] - 3s 58us/sample - loss: 1.3215 - accuracy: 0.5408 - val_loss: 1.4939 - val_accuracy: 0.4793 - val_tp: 2706.0000 - val_tn: 8873.0000\n",
      "Epoch 11/25\n",
      "50000/50000 [==============================] - 3s 58us/sample - loss: 1.2922 - accuracy: 0.5515 - val_loss: 1.4822 - val_accuracy: 0.4777 - val_tp: 2863.0000 - val_tn: 8864.3000\n",
      "Epoch 12/25\n",
      "50000/50000 [==============================] - 3s 59us/sample - loss: 1.2667 - accuracy: 0.5619 - val_loss: 1.4752 - val_accuracy: 0.4836 - val_tp: 2834.0000 - val_tn: 8869.7000\n",
      "Epoch 13/25\n",
      "50000/50000 [==============================] - 3s 60us/sample - loss: 1.2397 - accuracy: 0.5706 - val_loss: 1.4763 - val_accuracy: 0.4832 - val_tp: 2966.0000 - val_tn: 8855.2000\n",
      "Epoch 14/25\n",
      "50000/50000 [==============================] - 3s 58us/sample - loss: 1.2141 - accuracy: 0.5807 - val_loss: 1.4634 - val_accuracy: 0.4791 - val_tp: 2980.0000 - val_tn: 8847.5000\n",
      "Epoch 15/25\n",
      "50000/50000 [==============================] - 3s 61us/sample - loss: 1.1913 - accuracy: 0.5891 - val_loss: 1.4630 - val_accuracy: 0.4884 - val_tp: 3102.0000 - val_tn: 8838.4000\n",
      "Epoch 16/25\n",
      "50000/50000 [==============================] - 3s 58us/sample - loss: 1.1681 - accuracy: 0.5983 - val_loss: 1.4569 - val_accuracy: 0.4853 - val_tp: 3204.0000 - val_tn: 8839.5000\n",
      "Epoch 17/25\n",
      "50000/50000 [==============================] - 3s 57us/sample - loss: 1.1461 - accuracy: 0.6064 - val_loss: 1.4798 - val_accuracy: 0.4832 - val_tp: 3268.0000 - val_tn: 8819.8000\n",
      "Epoch 18/25\n",
      "50000/50000 [==============================] - 3s 57us/sample - loss: 1.1244 - accuracy: 0.6146 - val_loss: 1.4606 - val_accuracy: 0.4898 - val_tp: 3247.0000 - val_tn: 8830.1000\n",
      "Epoch 19/25\n",
      "50000/50000 [==============================] - 3s 58us/sample - loss: 1.1002 - accuracy: 0.6271 - val_loss: 1.4532 - val_accuracy: 0.4926 - val_tp: 3391.0000 - val_tn: 8820.6000\n",
      "Epoch 20/25\n",
      "50000/50000 [==============================] - 3s 57us/sample - loss: 1.0784 - accuracy: 0.6338 - val_loss: 1.4586 - val_accuracy: 0.4850 - val_tp: 3350.0000 - val_tn: 8816.2000\n",
      "Epoch 21/25\n",
      "50000/50000 [==============================] - 3s 59us/sample - loss: 1.0582 - accuracy: 0.6413 - val_loss: 1.4620 - val_accuracy: 0.4884 - val_tp: 3407.0000 - val_tn: 8810.3000\n",
      "Epoch 22/25\n",
      "50000/50000 [==============================] - 3s 57us/sample - loss: 1.0379 - accuracy: 0.6486 - val_loss: 1.4663 - val_accuracy: 0.4857 - val_tp: 3373.0000 - val_tn: 8809.2000\n",
      "Epoch 23/25\n",
      "50000/50000 [==============================] - 3s 57us/sample - loss: 1.0163 - accuracy: 0.6572 - val_loss: 1.4672 - val_accuracy: 0.4919 - val_tp: 3418.0000 - val_tn: 8802.5000\n",
      "Epoch 24/25\n",
      "50000/50000 [==============================] - 3s 57us/sample - loss: 0.9961 - accuracy: 0.6643 - val_loss: 1.4656 - val_accuracy: 0.4908 - val_tp: 3549.0000 - val_tn: 8796.7000\n",
      "Epoch 25/25\n",
      "50000/50000 [==============================] - 3s 57us/sample - loss: 0.9753 - accuracy: 0.6730 - val_loss: 1.4703 - val_accuracy: 0.4950 - val_tp: 3558.0000 - val_tn: 8798.7000\n"
     ]
    },
    {
     "data": {
      "text/plain": [
       "<tensorflow.python.keras.callbacks.History at 0x27766732d68>"
      ]
     },
     "execution_count": 121,
     "metadata": {},
     "output_type": "execute_result"
    }
   ],
   "source": [
    "model = build_mlp(input_shape=x_train.shape[1:])\n",
    "model.summary()\n",
    "optimizer = keras.optimizers.SGD(lr=LEARNING_RATE, nesterov=True, momentum=MOMENTUM)\n",
    "model.compile(loss=\"categorical_crossentropy\", metrics=[\"accuracy\"], optimizer=optimizer)\n",
    "\n",
    "\"\"\"Code Here\n",
    "將 callbacks 放入模型訓練流程中\n",
    "\"\"\"\n",
    "model.fit(x_train, y_train, \n",
    "          epochs=EPOCHS, \n",
    "          batch_size=BATCH_SIZE, \n",
    "          validation_data=(x_test, y_test), \n",
    "          shuffle=True,\n",
    "          callbacks=[rec_tptn]\n",
    "         )"
   ]
  },
  {
   "cell_type": "code",
   "execution_count": 124,
   "metadata": {},
   "outputs": [],
   "source": [
    "# Collect results\n",
    "train_loss = model.history.history[\"loss\"]\n",
    "valid_loss = model.history.history[\"val_loss\"]\n",
    "train_acc = model.history.history[\"accuracy\"]\n",
    "valid_acc = model.history.history[\"val_accuracy\"]\n",
    "\n",
    "\"\"\"Code Here\n",
    "將 tp/tn 從訓練完的模型中取出\n",
    "\"\"\"\n",
    "valid_tp = model.history.history[\"val_tp\"]\n",
    "valid_tn = model.history.history[\"val_tn\"]"
   ]
  },
  {
   "cell_type": "code",
   "execution_count": 125,
   "metadata": {},
   "outputs": [
    {
     "data": {
      "image/png": "[encoded data removed]",
      "text/plain": [
       "<Figure size 432x288 with 1 Axes>"
      ]
     },
     "metadata": {
      "needs_background": "light"
     },
     "output_type": "display_data"
    },
    {
     "data": {
      "image/png": "[encoded data removed]",
      "text/plain": [
       "<Figure size 432x288 with 1 Axes>"
      ]
     },
     "metadata": {
      "needs_background": "light"
     },
     "output_type": "display_data"
    },
    {
     "data": {
      "image/png": "[encoded data removed]",
      "text/plain": [
       "<Figure size 432x288 with 1 Axes>"
      ]
     },
     "metadata": {
      "needs_background": "light"
     },
     "output_type": "display_data"
    }
   ],
   "source": [
    "import matplotlib.pyplot as plt\n",
    "%matplotlib inline\n",
    "\n",
    "plt.plot(range(len(train_loss)), train_loss, label=\"train loss\")\n",
    "plt.plot(range(len(valid_loss)), valid_loss, label=\"valid loss\")\n",
    "plt.legend()\n",
    "plt.title(\"Loss\")\n",
    "plt.show()\n",
    "\n",
    "plt.plot(range(len(train_acc)), train_acc, label=\"train accuracy\")\n",
    "plt.plot(range(len(valid_acc)), valid_acc, label=\"valid accuracy\")\n",
    "plt.legend()\n",
    "plt.title(\"Accuracy\")\n",
    "plt.show()\n",
    "\n",
    "plt.plot(range(len(valid_tp)), valid_tp, label=\"valid tp\", color=\"navy\")\n",
    "plt.plot(range(len(valid_tn)), valid_tn, label=\"valid tn\", color=\"red\")\n",
    "plt.legend()\n",
    "plt.title(\"True positives and True Negatives\")\n",
    "plt.show()\n"
   ]
  },
  {
   "cell_type": "code",
   "execution_count": null,
   "metadata": {},
   "outputs": [],
   "source": []
  }
 ],
 "metadata": {
  "kernelspec": {
   "display_name": "Python 3",
   "language": "python",
   "name": "python3"
  },
  "language_info": {
   "codemirror_mode": {
    "name": "ipython",
    "version": 3
   },
   "file_extension": ".py",
   "mimetype": "text/x-python",
   "name": "python",
   "nbconvert_exporter": "python",
   "pygments_lexer": "ipython3",
   "version": "3.7.3"
  }
 },
 "nbformat": 4,
 "nbformat_minor": 2
}
