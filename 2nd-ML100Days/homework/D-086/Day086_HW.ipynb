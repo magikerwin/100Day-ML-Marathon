{
 "cells": [
  {
   "cell_type": "markdown",
   "metadata": {},
   "source": [
    "## Work\n",
    "1. 試比較 save_best_only 與否的差異\n",
    "2. 請僅存入將 save_weights_only 設定為 True, 並嘗試 reset ipynb 並將模型與權重重新建回並預測 x_test"
   ]
  },
  {
   "cell_type": "code",
   "execution_count": 1,
   "metadata": {},
   "outputs": [],
   "source": [
    "import os\n",
    "from tensorflow import keras\n",
    "\n",
    "# Disable GPU\n",
    "os.environ[\"CUDA_VISIBLE_DEVICES\"] = \"0\""
   ]
  },
  {
   "cell_type": "code",
   "execution_count": 2,
   "metadata": {},
   "outputs": [],
   "source": [
    "train, test = keras.datasets.cifar10.load_data()"
   ]
  },
  {
   "cell_type": "code",
   "execution_count": 3,
   "metadata": {},
   "outputs": [],
   "source": [
    "## 資料前處理\n",
    "def preproc_x(x, flatten=True):\n",
    "    x = x / 255.\n",
    "    if flatten:\n",
    "        x = x.reshape((len(x), -1))\n",
    "    return x\n",
    "\n",
    "def preproc_y(y, num_classes=10):\n",
    "    if y.shape[-1] == 1:\n",
    "        y = keras.utils.to_categorical(y, num_classes)\n",
    "    return y    "
   ]
  },
  {
   "cell_type": "code",
   "execution_count": 4,
   "metadata": {},
   "outputs": [],
   "source": [
    "x_train, y_train = train\n",
    "x_test, y_test = test\n",
    "\n",
    "# Preproc the inputs\n",
    "x_train = preproc_x(x_train)\n",
    "x_test = preproc_x(x_test)\n",
    "\n",
    "# Preprc the outputs\n",
    "y_train = preproc_y(y_train)\n",
    "y_test = preproc_y(y_test)"
   ]
  },
  {
   "cell_type": "code",
   "execution_count": 5,
   "metadata": {},
   "outputs": [],
   "source": [
    "from tensorflow.keras.layers import BatchNormalization\n",
    "\n",
    "\"\"\"\n",
    "建立神經網路，並加入 BN layer\n",
    "\"\"\"\n",
    "def build_mlp(input_shape, output_units=10, num_neurons=[512, 256, 128]):\n",
    "    input_layer = keras.layers.Input(input_shape)\n",
    "    \n",
    "    for i, n_units in enumerate(num_neurons):\n",
    "        if i == 0:\n",
    "            x = keras.layers.Dense(units=n_units, \n",
    "                                   activation=\"relu\", \n",
    "                                   name=\"hidden_layer\"+str(i+1))(input_layer)\n",
    "            x = BatchNormalization()(x)\n",
    "        else:\n",
    "            x = keras.layers.Dense(units=n_units, \n",
    "                                   activation=\"relu\", \n",
    "                                   name=\"hidden_layer\"+str(i+1))(x)\n",
    "            x = BatchNormalization()(x)\n",
    "    \n",
    "    out = keras.layers.Dense(units=output_units, activation=\"softmax\", name=\"output\")(x)\n",
    "    \n",
    "    model = keras.models.Model(inputs=[input_layer], outputs=[out])\n",
    "    return model"
   ]
  },
  {
   "cell_type": "code",
   "execution_count": 6,
   "metadata": {},
   "outputs": [],
   "source": [
    "## 超參數設定\n",
    "LEARNING_RATE = 1e-3\n",
    "EPOCHS = 50\n",
    "BATCH_SIZE = 1024\n",
    "MOMENTUM = 0.95"
   ]
  },
  {
   "cell_type": "code",
   "execution_count": 7,
   "metadata": {},
   "outputs": [
    {
     "name": "stderr",
     "output_type": "stream",
     "text": [
      "WARNING: Logging before flag parsing goes to stderr.\n",
      "W0722 21:17:24.931358  9608 deprecation.py:323] From c:\\users\\qwerz\\miniconda3\\envs\\ml100\\lib\\site-packages\\tensorflow\\python\\ops\\math_grad.py:1250: add_dispatch_support.<locals>.wrapper (from tensorflow.python.ops.array_ops) is deprecated and will be removed in a future version.\n",
      "Instructions for updating:\n",
      "Use tf.where in 2.0, which has the same broadcast rule as np.where\n"
     ]
    },
    {
     "name": "stdout",
     "output_type": "stream",
     "text": [
      "Model: \"model\"\n",
      "_________________________________________________________________\n",
      "Layer (type)                 Output Shape              Param #   \n",
      "=================================================================\n",
      "input_1 (InputLayer)         [(None, 3072)]            0         \n",
      "_________________________________________________________________\n",
      "hidden_layer1 (Dense)        (None, 512)               1573376   \n",
      "_________________________________________________________________\n",
      "batch_normalization (BatchNo (None, 512)               2048      \n",
      "_________________________________________________________________\n",
      "hidden_layer2 (Dense)        (None, 256)               131328    \n",
      "_________________________________________________________________\n",
      "batch_normalization_1 (Batch (None, 256)               1024      \n",
      "_________________________________________________________________\n",
      "hidden_layer3 (Dense)        (None, 128)               32896     \n",
      "_________________________________________________________________\n",
      "batch_normalization_2 (Batch (None, 128)               512       \n",
      "_________________________________________________________________\n",
      "output (Dense)               (None, 10)                1290      \n",
      "=================================================================\n",
      "Total params: 1,742,474\n",
      "Trainable params: 1,740,682\n",
      "Non-trainable params: 1,792\n",
      "_________________________________________________________________\n",
      "Train on 50000 samples, validate on 10000 samples\n",
      "Epoch 1/50\n",
      "50000/50000 [==============================] - 3s 68us/sample - loss: 2.1995 - accuracy: 0.2655 - val_loss: 2.1125 - val_accuracy: 0.2018\n",
      "Epoch 2/50\n",
      "50000/50000 [==============================] - 2s 45us/sample - loss: 1.7492 - accuracy: 0.3906 - val_loss: 1.9730 - val_accuracy: 0.3000\n",
      "Epoch 3/50\n",
      "50000/50000 [==============================] - 2s 47us/sample - loss: 1.6214 - accuracy: 0.4318 - val_loss: 1.8310 - val_accuracy: 0.3700\n",
      "Epoch 4/50\n",
      "50000/50000 [==============================] - 2s 47us/sample - loss: 1.5456 - accuracy: 0.4585 - val_loss: 1.7301 - val_accuracy: 0.3987\n",
      "Epoch 5/50\n",
      "50000/50000 [==============================] - 2s 48us/sample - loss: 1.4904 - accuracy: 0.4785 - val_loss: 1.6638 - val_accuracy: 0.4176\n",
      "Epoch 6/50\n",
      "50000/50000 [==============================] - 2s 48us/sample - loss: 1.4450 - accuracy: 0.4928 - val_loss: 1.5988 - val_accuracy: 0.4362\n",
      "Epoch 7/50\n",
      "50000/50000 [==============================] - 2s 48us/sample - loss: 1.4039 - accuracy: 0.5093 - val_loss: 1.5528 - val_accuracy: 0.4551\n",
      "Epoch 8/50\n",
      "50000/50000 [==============================] - 2s 46us/sample - loss: 1.3689 - accuracy: 0.5217 - val_loss: 1.5233 - val_accuracy: 0.4593\n",
      "Epoch 9/50\n",
      "50000/50000 [==============================] - 2s 46us/sample - loss: 1.3362 - accuracy: 0.5334 - val_loss: 1.5121 - val_accuracy: 0.4662\n",
      "Epoch 10/50\n",
      "50000/50000 [==============================] - 2s 46us/sample - loss: 1.3064 - accuracy: 0.5437 - val_loss: 1.4930 - val_accuracy: 0.4697\n",
      "Epoch 11/50\n",
      "50000/50000 [==============================] - 2s 46us/sample - loss: 1.2775 - accuracy: 0.5547 - val_loss: 1.4893 - val_accuracy: 0.4743\n",
      "Epoch 12/50\n",
      "50000/50000 [==============================] - 2s 44us/sample - loss: 1.2498 - accuracy: 0.5653 - val_loss: 1.4914 - val_accuracy: 0.4716\n",
      "Epoch 13/50\n",
      "50000/50000 [==============================] - 2s 45us/sample - loss: 1.2262 - accuracy: 0.5748 - val_loss: 1.4800 - val_accuracy: 0.4802\n",
      "Epoch 14/50\n",
      "50000/50000 [==============================] - 2s 45us/sample - loss: 1.1981 - accuracy: 0.5860 - val_loss: 1.4640 - val_accuracy: 0.4828\n",
      "Epoch 15/50\n",
      "50000/50000 [==============================] - 2s 44us/sample - loss: 1.1758 - accuracy: 0.5948 - val_loss: 1.4759 - val_accuracy: 0.4792\n",
      "Epoch 16/50\n",
      "50000/50000 [==============================] - 2s 46us/sample - loss: 1.1522 - accuracy: 0.6034 - val_loss: 1.4633 - val_accuracy: 0.4868\n",
      "Epoch 17/50\n",
      "50000/50000 [==============================] - 2s 45us/sample - loss: 1.1296 - accuracy: 0.6097 - val_loss: 1.4651 - val_accuracy: 0.4865\n",
      "Epoch 18/50\n",
      "50000/50000 [==============================] - 2s 46us/sample - loss: 1.1080 - accuracy: 0.6210 - val_loss: 1.4590 - val_accuracy: 0.4884\n",
      "Epoch 19/50\n",
      "50000/50000 [==============================] - 2s 46us/sample - loss: 1.0848 - accuracy: 0.6274 - val_loss: 1.4569 - val_accuracy: 0.4881\n",
      "Epoch 20/50\n",
      "50000/50000 [==============================] - 2s 45us/sample - loss: 1.0626 - accuracy: 0.6356 - val_loss: 1.4587 - val_accuracy: 0.4855\n",
      "Epoch 21/50\n",
      "50000/50000 [==============================] - 2s 44us/sample - loss: 1.0408 - accuracy: 0.6457 - val_loss: 1.4668 - val_accuracy: 0.4910\n",
      "Epoch 22/50\n",
      "50000/50000 [==============================] - 2s 46us/sample - loss: 1.0172 - accuracy: 0.6557 - val_loss: 1.4662 - val_accuracy: 0.4909\n",
      "Epoch 23/50\n",
      "50000/50000 [==============================] - 2s 45us/sample - loss: 0.9990 - accuracy: 0.6617 - val_loss: 1.4589 - val_accuracy: 0.4927\n",
      "Epoch 24/50\n",
      "50000/50000 [==============================] - 2s 45us/sample - loss: 0.9765 - accuracy: 0.6700 - val_loss: 1.4635 - val_accuracy: 0.4979\n",
      "Epoch 25/50\n",
      "50000/50000 [==============================] - 2s 44us/sample - loss: 0.9551 - accuracy: 0.6771 - val_loss: 1.4839 - val_accuracy: 0.4867\n",
      "Epoch 26/50\n",
      "50000/50000 [==============================] - 2s 46us/sample - loss: 0.9348 - accuracy: 0.6866 - val_loss: 1.4638 - val_accuracy: 0.4958\n",
      "Epoch 27/50\n",
      "50000/50000 [==============================] - 2s 45us/sample - loss: 0.9134 - accuracy: 0.6944 - val_loss: 1.4822 - val_accuracy: 0.4934\n",
      "Epoch 28/50\n",
      "50000/50000 [==============================] - 2s 45us/sample - loss: 0.8933 - accuracy: 0.7032 - val_loss: 1.4802 - val_accuracy: 0.4987\n",
      "Epoch 29/50\n",
      "50000/50000 [==============================] - 2s 45us/sample - loss: 0.8726 - accuracy: 0.7097 - val_loss: 1.4810 - val_accuracy: 0.4951\n",
      "Epoch 30/50\n",
      "50000/50000 [==============================] - 2s 45us/sample - loss: 0.8553 - accuracy: 0.7183 - val_loss: 1.4947 - val_accuracy: 0.4924\n",
      "Epoch 31/50\n",
      "50000/50000 [==============================] - 2s 44us/sample - loss: 0.8326 - accuracy: 0.7276 - val_loss: 1.5001 - val_accuracy: 0.4917\n",
      "Epoch 32/50\n",
      "50000/50000 [==============================] - 2s 45us/sample - loss: 0.8137 - accuracy: 0.7336 - val_loss: 1.4965 - val_accuracy: 0.4979\n",
      "Epoch 33/50\n",
      "50000/50000 [==============================] - 2s 45us/sample - loss: 0.7969 - accuracy: 0.7413 - val_loss: 1.5137 - val_accuracy: 0.4875\n",
      "Epoch 34/50\n",
      "50000/50000 [==============================] - 2s 45us/sample - loss: 0.7741 - accuracy: 0.7500 - val_loss: 1.5219 - val_accuracy: 0.4933\n",
      "Epoch 35/50\n",
      "50000/50000 [==============================] - 2s 44us/sample - loss: 0.7557 - accuracy: 0.7582 - val_loss: 1.5229 - val_accuracy: 0.4937\n",
      "Epoch 36/50\n",
      "50000/50000 [==============================] - 2s 45us/sample - loss: 0.7357 - accuracy: 0.7645 - val_loss: 1.5313 - val_accuracy: 0.4889\n",
      "Epoch 37/50\n",
      "50000/50000 [==============================] - 2s 45us/sample - loss: 0.7164 - accuracy: 0.7729 - val_loss: 1.5496 - val_accuracy: 0.4941\n",
      "Epoch 38/50\n",
      "50000/50000 [==============================] - 2s 45us/sample - loss: 0.6996 - accuracy: 0.7806 - val_loss: 1.5466 - val_accuracy: 0.4956\n",
      "Epoch 39/50\n",
      "50000/50000 [==============================] - 2s 45us/sample - loss: 0.6797 - accuracy: 0.7889 - val_loss: 1.5602 - val_accuracy: 0.4868\n",
      "Epoch 40/50\n",
      "50000/50000 [==============================] - 2s 45us/sample - loss: 0.6609 - accuracy: 0.7953 - val_loss: 1.5534 - val_accuracy: 0.4958\n",
      "Epoch 41/50\n",
      "50000/50000 [==============================] - 2s 45us/sample - loss: 0.6443 - accuracy: 0.8011 - val_loss: 1.5845 - val_accuracy: 0.4927\n",
      "Epoch 42/50\n",
      "50000/50000 [==============================] - 2s 44us/sample - loss: 0.6240 - accuracy: 0.8097 - val_loss: 1.5997 - val_accuracy: 0.4826\n",
      "Epoch 43/50\n",
      "50000/50000 [==============================] - 2s 45us/sample - loss: 0.6065 - accuracy: 0.8154 - val_loss: 1.6000 - val_accuracy: 0.4920\n",
      "Epoch 44/50\n",
      "50000/50000 [==============================] - 2s 45us/sample - loss: 0.5889 - accuracy: 0.8224 - val_loss: 1.6215 - val_accuracy: 0.4867\n",
      "Epoch 45/50\n",
      "50000/50000 [==============================] - 2s 46us/sample - loss: 0.5698 - accuracy: 0.8312 - val_loss: 1.6370 - val_accuracy: 0.4918\n"
     ]
    },
    {
     "name": "stdout",
     "output_type": "stream",
     "text": [
      "Epoch 46/50\n",
      "50000/50000 [==============================] - 2s 44us/sample - loss: 0.5530 - accuracy: 0.8378 - val_loss: 1.6359 - val_accuracy: 0.4843\n",
      "Epoch 47/50\n",
      "50000/50000 [==============================] - 2s 45us/sample - loss: 0.5386 - accuracy: 0.8441 - val_loss: 1.6597 - val_accuracy: 0.4858\n",
      "Epoch 48/50\n",
      "50000/50000 [==============================] - 2s 45us/sample - loss: 0.5196 - accuracy: 0.8503 - val_loss: 1.6577 - val_accuracy: 0.4813\n",
      "Epoch 49/50\n",
      "50000/50000 [==============================] - 2s 45us/sample - loss: 0.5045 - accuracy: 0.8571 - val_loss: 1.6670 - val_accuracy: 0.4896\n",
      "Epoch 50/50\n",
      "50000/50000 [==============================] - 2s 45us/sample - loss: 0.4880 - accuracy: 0.8619 - val_loss: 1.6884 - val_accuracy: 0.4816\n"
     ]
    },
    {
     "data": {
      "text/plain": [
       "<tensorflow.python.keras.callbacks.History at 0x226e9866940>"
      ]
     },
     "execution_count": 7,
     "metadata": {},
     "output_type": "execute_result"
    }
   ],
   "source": [
    "# 載入 Callbacks\n",
    "\"\"\"Code Here\n",
    "設定 callbacks: model checkpoint\n",
    "\"\"\"\n",
    "from tensorflow.keras.callbacks import ModelCheckpoint\n",
    "\n",
    "model_ckpt = ModelCheckpoint(filepath=\"./tmp.h5\", \n",
    "                             monitor=\"val_loss\", \n",
    "                             save_best_only=True)\n",
    "\n",
    "results = {}\n",
    "\"\"\"Code Here\n",
    "撰寫你的訓練流程並將結果用 dictionary 紀錄\n",
    "\"\"\"\n",
    "model = build_mlp(input_shape=x_train.shape[1:])\n",
    "model.summary()\n",
    "optimizer = keras.optimizers.SGD(lr=LEARNING_RATE, nesterov=True, momentum=MOMENTUM)\n",
    "model.compile(loss=\"categorical_crossentropy\", metrics=[\"accuracy\"], optimizer=optimizer)\n",
    "\n",
    "model.fit(x_train, y_train, \n",
    "          epochs=EPOCHS, \n",
    "          batch_size=BATCH_SIZE, \n",
    "          validation_data=(x_test, y_test), \n",
    "          shuffle=True,\n",
    "          callbacks=[model_ckpt]\n",
    "         )"
   ]
  },
  {
   "cell_type": "code",
   "execution_count": 8,
   "metadata": {},
   "outputs": [
    {
     "name": "stdout",
     "output_type": "stream",
     "text": [
      "10000/10000 [==============================] - 1s 83us/sample - loss: 1.4569 - accuracy: 0.4881\n"
     ]
    }
   ],
   "source": [
    "# Collect results\n",
    "train_loss = model.history.history[\"loss\"]\n",
    "valid_loss = model.history.history[\"val_loss\"]\n",
    "train_acc = model.history.history[\"accuracy\"]\n",
    "valid_acc = model.history.history[\"val_accuracy\"]\n",
    "\n",
    "# Load back\n",
    "model = keras.models.load_model(\"./tmp.h5\")\n",
    "loss_loadback, acc_loadback = model.evaluate(x_test, y_test)"
   ]
  },
  {
   "cell_type": "code",
   "execution_count": 9,
   "metadata": {
    "scrolled": true
   },
   "outputs": [
    {
     "data": {
      "image/png": "[encoded data removed]",
      "text/plain": [
       "<Figure size 432x288 with 1 Axes>"
      ]
     },
     "metadata": {
      "needs_background": "light"
     },
     "output_type": "display_data"
    },
    {
     "data": {
      "image/png": "[encoded data removed]",
      "text/plain": [
       "<Figure size 432x288 with 1 Axes>"
      ]
     },
     "metadata": {
      "needs_background": "light"
     },
     "output_type": "display_data"
    }
   ],
   "source": [
    "import matplotlib.pyplot as plt\n",
    "%matplotlib inline\n",
    "\"\"\"Code Here\n",
    "將結果繪出\n",
    "\"\"\"\n",
    "plt.plot(range(len(train_loss)), train_loss, label=\"train loss\")\n",
    "plt.plot(range(len(valid_loss)), valid_loss, label=\"valid loss\")\n",
    "plt.hlines(y=loss_loadback, xmin=0, xmax=len(train_loss), colors='r', linestyles='--')\n",
    "plt.legend()\n",
    "plt.title(\"Loss\")\n",
    "plt.show()\n",
    "\n",
    "plt.plot(range(len(train_acc)), train_acc, label=\"train accuracy\")\n",
    "plt.plot(range(len(valid_acc)), valid_acc, label=\"valid accuracy\")\n",
    "plt.hlines(y=acc_loadback, xmin=0, xmax=len(train_loss), colors='r', linestyles='--')\n",
    "plt.legend()\n",
    "plt.title(\"Accuracy\")\n",
    "plt.show()"
   ]
  },
  {
   "cell_type": "code",
   "execution_count": null,
   "metadata": {},
   "outputs": [],
   "source": []
  }
 ],
 "metadata": {
  "kernelspec": {
   "display_name": "Python 3",
   "language": "python",
   "name": "python3"
  },
  "language_info": {
   "codemirror_mode": {
    "name": "ipython",
    "version": 3
   },
   "file_extension": ".py",
   "mimetype": "text/x-python",
   "name": "python",
   "nbconvert_exporter": "python",
   "pygments_lexer": "ipython3",
   "version": "3.7.3"
  }
 },
 "nbformat": 4,
 "nbformat_minor": 2
}
