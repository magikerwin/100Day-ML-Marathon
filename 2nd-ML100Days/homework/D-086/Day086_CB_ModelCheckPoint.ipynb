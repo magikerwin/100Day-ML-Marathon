{
 "cells": [
  {
   "cell_type": "markdown",
   "metadata": {},
   "source": [
    "## 範例重點\n",
    "* 學習如何在 keras 中加入 model checkpoint\n",
    "* 知道如何設定監控目標\n",
    "* 比較使用最佳與非最佳參數時的 performance"
   ]
  },
  {
   "cell_type": "code",
   "execution_count": 2,
   "metadata": {},
   "outputs": [],
   "source": [
    "import os\n",
    "from tensorflow import keras\n",
    "\n",
    "# 本範例不需使用 GPU, 將 GPU 設定為 \"無\"\n",
    "os.environ[\"CUDA_VISIBLE_DEVICES\"] = \"0\""
   ]
  },
  {
   "cell_type": "code",
   "execution_count": 3,
   "metadata": {},
   "outputs": [],
   "source": [
    "train, test = keras.datasets.cifar10.load_data()"
   ]
  },
  {
   "cell_type": "code",
   "execution_count": 4,
   "metadata": {},
   "outputs": [],
   "source": [
    "## 資料前處理\n",
    "def preproc_x(x, flatten=True):\n",
    "    x = x / 255.\n",
    "    if flatten:\n",
    "        x = x.reshape((len(x), -1))\n",
    "    return x\n",
    "\n",
    "def preproc_y(y, num_classes=10):\n",
    "    if y.shape[-1] == 1:\n",
    "        y = keras.utils.to_categorical(y, num_classes)\n",
    "    return y    "
   ]
  },
  {
   "cell_type": "code",
   "execution_count": 5,
   "metadata": {},
   "outputs": [],
   "source": [
    "x_train, y_train = train\n",
    "x_test, y_test = test\n",
    "\n",
    "# 資料前處理 - X 標準化\n",
    "x_train = preproc_x(x_train)\n",
    "x_test = preproc_x(x_test)\n",
    "\n",
    "# 資料前處理 -Y 轉成 onehot\n",
    "y_train = preproc_y(y_train)\n",
    "y_test = preproc_y(y_test)"
   ]
  },
  {
   "cell_type": "code",
   "execution_count": 7,
   "metadata": {},
   "outputs": [],
   "source": [
    "from tensorflow.keras.layers import BatchNormalization\n",
    "\n",
    "\"\"\"\n",
    "建立神經網路，並加入 BN layer\n",
    "\"\"\"\n",
    "def build_mlp(input_shape, output_units=10, num_neurons=[512, 256, 128]):\n",
    "    input_layer = keras.layers.Input(input_shape)\n",
    "    \n",
    "    for i, n_units in enumerate(num_neurons):\n",
    "        if i == 0:\n",
    "            x = keras.layers.Dense(units=n_units, \n",
    "                                   activation=\"relu\", \n",
    "                                   name=\"hidden_layer\"+str(i+1))(input_layer)\n",
    "            x = BatchNormalization()(x)\n",
    "        else:\n",
    "            x = keras.layers.Dense(units=n_units, \n",
    "                                   activation=\"relu\", \n",
    "                                   name=\"hidden_layer\"+str(i+1))(x)\n",
    "            x = BatchNormalization()(x)\n",
    "    \n",
    "    out = keras.layers.Dense(units=output_units, activation=\"softmax\", name=\"output\")(x)\n",
    "    \n",
    "    model = keras.models.Model(inputs=[input_layer], outputs=[out])\n",
    "    return model"
   ]
  },
  {
   "cell_type": "code",
   "execution_count": 8,
   "metadata": {},
   "outputs": [],
   "source": [
    "## 超參數設定\n",
    "LEARNING_RATE = 1e-3\n",
    "EPOCHS = 50\n",
    "BATCH_SIZE = 1024\n",
    "MOMENTUM = 0.95"
   ]
  },
  {
   "cell_type": "code",
   "execution_count": 9,
   "metadata": {},
   "outputs": [],
   "source": [
    "\"\"\"\n",
    "# 載入 Callbacks, 並將監控目標設為 validation loss, 且只存最佳參數時的模型\n",
    "\"\"\"\n",
    "from tensorflow.keras.callbacks import ModelCheckpoint\n",
    "\n",
    "model_ckpt = ModelCheckpoint(filepath=\"./tmp.h5\", \n",
    "                             monitor=\"val_loss\", \n",
    "                             save_best_only=True)"
   ]
  },
  {
   "cell_type": "code",
   "execution_count": 10,
   "metadata": {
    "scrolled": true
   },
   "outputs": [
    {
     "name": "stderr",
     "output_type": "stream",
     "text": [
      "WARNING: Logging before flag parsing goes to stderr.\n",
      "W0722 21:09:46.703742 10720 deprecation.py:323] From c:\\users\\qwerz\\miniconda3\\envs\\ml100\\lib\\site-packages\\tensorflow\\python\\ops\\math_grad.py:1250: add_dispatch_support.<locals>.wrapper (from tensorflow.python.ops.array_ops) is deprecated and will be removed in a future version.\n",
      "Instructions for updating:\n",
      "Use tf.where in 2.0, which has the same broadcast rule as np.where\n"
     ]
    },
    {
     "name": "stdout",
     "output_type": "stream",
     "text": [
      "Model: \"model\"\n",
      "_________________________________________________________________\n",
      "Layer (type)                 Output Shape              Param #   \n",
      "=================================================================\n",
      "input_1 (InputLayer)         [(None, 3072)]            0         \n",
      "_________________________________________________________________\n",
      "hidden_layer1 (Dense)        (None, 512)               1573376   \n",
      "_________________________________________________________________\n",
      "batch_normalization (BatchNo (None, 512)               2048      \n",
      "_________________________________________________________________\n",
      "hidden_layer2 (Dense)        (None, 256)               131328    \n",
      "_________________________________________________________________\n",
      "batch_normalization_1 (Batch (None, 256)               1024      \n",
      "_________________________________________________________________\n",
      "hidden_layer3 (Dense)        (None, 128)               32896     \n",
      "_________________________________________________________________\n",
      "batch_normalization_2 (Batch (None, 128)               512       \n",
      "_________________________________________________________________\n",
      "output (Dense)               (None, 10)                1290      \n",
      "=================================================================\n",
      "Total params: 1,742,474\n",
      "Trainable params: 1,740,682\n",
      "Non-trainable params: 1,792\n",
      "_________________________________________________________________\n",
      "Train on 50000 samples, validate on 10000 samples\n",
      "Epoch 1/50\n",
      "50000/50000 [==============================] - 4s 73us/sample - loss: 2.2444 - accuracy: 0.2678 - val_loss: 2.1651 - val_accuracy: 0.1716\n",
      "Epoch 2/50\n",
      "50000/50000 [==============================] - 2s 47us/sample - loss: 1.7422 - accuracy: 0.3936 - val_loss: 1.9704 - val_accuracy: 0.2826\n",
      "Epoch 3/50\n",
      "50000/50000 [==============================] - 2s 46us/sample - loss: 1.6102 - accuracy: 0.4361 - val_loss: 1.8238 - val_accuracy: 0.3645\n",
      "Epoch 4/50\n",
      "50000/50000 [==============================] - 3s 54us/sample - loss: 1.5343 - accuracy: 0.4637 - val_loss: 1.7228 - val_accuracy: 0.3960\n",
      "Epoch 5/50\n",
      "50000/50000 [==============================] - 2s 45us/sample - loss: 1.4804 - accuracy: 0.4840 - val_loss: 1.6554 - val_accuracy: 0.4170\n",
      "Epoch 6/50\n",
      "50000/50000 [==============================] - 3s 53us/sample - loss: 1.4356 - accuracy: 0.4991 - val_loss: 1.5914 - val_accuracy: 0.4357\n",
      "Epoch 7/50\n",
      "50000/50000 [==============================] - 2s 46us/sample - loss: 1.3946 - accuracy: 0.5135 - val_loss: 1.5532 - val_accuracy: 0.4535\n",
      "Epoch 8/50\n",
      "50000/50000 [==============================] - 2s 46us/sample - loss: 1.3616 - accuracy: 0.5287 - val_loss: 1.5219 - val_accuracy: 0.4601\n",
      "Epoch 9/50\n",
      "50000/50000 [==============================] - 2s 46us/sample - loss: 1.3281 - accuracy: 0.5382 - val_loss: 1.5016 - val_accuracy: 0.4674\n",
      "Epoch 10/50\n",
      "50000/50000 [==============================] - 2s 47us/sample - loss: 1.2992 - accuracy: 0.5477 - val_loss: 1.4787 - val_accuracy: 0.4742\n",
      "Epoch 11/50\n",
      "50000/50000 [==============================] - 2s 45us/sample - loss: 1.2728 - accuracy: 0.5595 - val_loss: 1.4720 - val_accuracy: 0.4745\n",
      "Epoch 12/50\n",
      "50000/50000 [==============================] - 2s 45us/sample - loss: 1.2454 - accuracy: 0.5684 - val_loss: 1.4894 - val_accuracy: 0.4759\n",
      "Epoch 13/50\n",
      "50000/50000 [==============================] - 2s 46us/sample - loss: 1.2198 - accuracy: 0.5785 - val_loss: 1.4694 - val_accuracy: 0.4812\n",
      "Epoch 14/50\n",
      "50000/50000 [==============================] - 2s 45us/sample - loss: 1.1945 - accuracy: 0.5885 - val_loss: 1.4515 - val_accuracy: 0.4876\n",
      "Epoch 15/50\n",
      "50000/50000 [==============================] - 2s 44us/sample - loss: 1.1701 - accuracy: 0.5978 - val_loss: 1.4547 - val_accuracy: 0.4859\n",
      "Epoch 16/50\n",
      "50000/50000 [==============================] - 2s 44us/sample - loss: 1.1461 - accuracy: 0.6062 - val_loss: 1.4566 - val_accuracy: 0.4916\n",
      "Epoch 17/50\n",
      "50000/50000 [==============================] - 2s 44us/sample - loss: 1.1227 - accuracy: 0.6149 - val_loss: 1.4584 - val_accuracy: 0.4893\n",
      "Epoch 18/50\n",
      "50000/50000 [==============================] - 2s 46us/sample - loss: 1.1013 - accuracy: 0.6243 - val_loss: 1.4497 - val_accuracy: 0.4935\n",
      "Epoch 19/50\n",
      "50000/50000 [==============================] - 2s 45us/sample - loss: 1.0804 - accuracy: 0.6325 - val_loss: 1.4447 - val_accuracy: 0.4914\n",
      "Epoch 20/50\n",
      "50000/50000 [==============================] - 2s 43us/sample - loss: 1.0577 - accuracy: 0.6377 - val_loss: 1.4455 - val_accuracy: 0.4949\n",
      "Epoch 21/50\n",
      "50000/50000 [==============================] - 2s 45us/sample - loss: 1.0369 - accuracy: 0.6482 - val_loss: 1.4445 - val_accuracy: 0.4947\n",
      "Epoch 22/50\n",
      "50000/50000 [==============================] - 2s 45us/sample - loss: 1.0156 - accuracy: 0.6566 - val_loss: 1.4431 - val_accuracy: 0.4974\n",
      "Epoch 23/50\n",
      "50000/50000 [==============================] - 2s 44us/sample - loss: 0.9920 - accuracy: 0.6654 - val_loss: 1.4557 - val_accuracy: 0.4941\n",
      "Epoch 24/50\n",
      "50000/50000 [==============================] - 2s 45us/sample - loss: 0.9721 - accuracy: 0.6728 - val_loss: 1.4669 - val_accuracy: 0.4944\n",
      "Epoch 25/50\n",
      "50000/50000 [==============================] - 2s 45us/sample - loss: 0.9532 - accuracy: 0.6789 - val_loss: 1.4861 - val_accuracy: 0.4945\n",
      "Epoch 26/50\n",
      "50000/50000 [==============================] - 2s 45us/sample - loss: 0.9309 - accuracy: 0.6884 - val_loss: 1.4695 - val_accuracy: 0.4963\n",
      "Epoch 27/50\n",
      "50000/50000 [==============================] - 2s 44us/sample - loss: 0.9121 - accuracy: 0.6943 - val_loss: 1.4712 - val_accuracy: 0.4934\n",
      "Epoch 28/50\n",
      "50000/50000 [==============================] - 2s 45us/sample - loss: 0.8930 - accuracy: 0.7023 - val_loss: 1.4673 - val_accuracy: 0.5004\n",
      "Epoch 29/50\n",
      "50000/50000 [==============================] - 2s 45us/sample - loss: 0.8721 - accuracy: 0.7119 - val_loss: 1.4727 - val_accuracy: 0.5006\n",
      "Epoch 30/50\n",
      "50000/50000 [==============================] - 2s 45us/sample - loss: 0.8522 - accuracy: 0.7189 - val_loss: 1.4975 - val_accuracy: 0.4961\n",
      "Epoch 31/50\n",
      "50000/50000 [==============================] - 2s 44us/sample - loss: 0.8321 - accuracy: 0.7271 - val_loss: 1.4792 - val_accuracy: 0.4976\n",
      "Epoch 32/50\n",
      "50000/50000 [==============================] - 2s 45us/sample - loss: 0.8130 - accuracy: 0.7357 - val_loss: 1.4976 - val_accuracy: 0.4987\n",
      "Epoch 33/50\n",
      "50000/50000 [==============================] - 2s 46us/sample - loss: 0.7938 - accuracy: 0.7418 - val_loss: 1.5143 - val_accuracy: 0.4960\n",
      "Epoch 34/50\n",
      "50000/50000 [==============================] - 2s 45us/sample - loss: 0.7756 - accuracy: 0.7498 - val_loss: 1.5083 - val_accuracy: 0.4938\n",
      "Epoch 35/50\n",
      "50000/50000 [==============================] - 2s 46us/sample - loss: 0.7568 - accuracy: 0.7575 - val_loss: 1.5142 - val_accuracy: 0.4934\n",
      "Epoch 36/50\n",
      "50000/50000 [==============================] - 2s 45us/sample - loss: 0.7372 - accuracy: 0.7658 - val_loss: 1.5150 - val_accuracy: 0.4983\n",
      "Epoch 37/50\n",
      "50000/50000 [==============================] - 2s 45us/sample - loss: 0.7182 - accuracy: 0.7726 - val_loss: 1.5407 - val_accuracy: 0.4957\n",
      "Epoch 38/50\n",
      "50000/50000 [==============================] - 2s 44us/sample - loss: 0.6986 - accuracy: 0.7807 - val_loss: 1.5405 - val_accuracy: 0.4920\n",
      "Epoch 39/50\n",
      "50000/50000 [==============================] - 2s 43us/sample - loss: 0.6800 - accuracy: 0.7872 - val_loss: 1.5488 - val_accuracy: 0.4931\n",
      "Epoch 40/50\n",
      "50000/50000 [==============================] - 2s 44us/sample - loss: 0.6612 - accuracy: 0.7953 - val_loss: 1.5527 - val_accuracy: 0.4951\n",
      "Epoch 41/50\n",
      "50000/50000 [==============================] - 2s 45us/sample - loss: 0.6431 - accuracy: 0.8026 - val_loss: 1.5891 - val_accuracy: 0.4900\n",
      "Epoch 42/50\n",
      "50000/50000 [==============================] - 2s 44us/sample - loss: 0.6249 - accuracy: 0.8104 - val_loss: 1.5673 - val_accuracy: 0.4950\n",
      "Epoch 43/50\n",
      "50000/50000 [==============================] - 2s 44us/sample - loss: 0.6079 - accuracy: 0.8160 - val_loss: 1.6080 - val_accuracy: 0.4892\n",
      "Epoch 44/50\n",
      "50000/50000 [==============================] - 2s 44us/sample - loss: 0.5906 - accuracy: 0.8226 - val_loss: 1.6301 - val_accuracy: 0.4861\n",
      "Epoch 45/50\n",
      "50000/50000 [==============================] - 2s 44us/sample - loss: 0.5723 - accuracy: 0.8297 - val_loss: 1.6103 - val_accuracy: 0.4932\n"
     ]
    },
    {
     "name": "stdout",
     "output_type": "stream",
     "text": [
      "Epoch 46/50\n",
      "50000/50000 [==============================] - 2s 44us/sample - loss: 0.5545 - accuracy: 0.8363 - val_loss: 1.6345 - val_accuracy: 0.4865\n",
      "Epoch 47/50\n",
      "50000/50000 [==============================] - 2s 44us/sample - loss: 0.5381 - accuracy: 0.8434 - val_loss: 1.6373 - val_accuracy: 0.4871\n",
      "Epoch 48/50\n",
      "50000/50000 [==============================] - 2s 44us/sample - loss: 0.5219 - accuracy: 0.8492 - val_loss: 1.6700 - val_accuracy: 0.4852\n",
      "Epoch 49/50\n",
      "50000/50000 [==============================] - 2s 44us/sample - loss: 0.5055 - accuracy: 0.8554 - val_loss: 1.6588 - val_accuracy: 0.4951\n",
      "Epoch 50/50\n",
      "50000/50000 [==============================] - 2s 44us/sample - loss: 0.4877 - accuracy: 0.8636 - val_loss: 1.7130 - val_accuracy: 0.4844\n"
     ]
    },
    {
     "ename": "KeyError",
     "evalue": "'acc'",
     "output_type": "error",
     "traceback": [
      "\u001b[1;31m---------------------------------------------------------------------------\u001b[0m",
      "\u001b[1;31mKeyError\u001b[0m                                  Traceback (most recent call last)",
      "\u001b[1;32m<ipython-input-10-413ffff97479>\u001b[0m in \u001b[0;36m<module>\u001b[1;34m\u001b[0m\n\u001b[0;32m     15\u001b[0m \u001b[0mtrain_loss\u001b[0m \u001b[1;33m=\u001b[0m \u001b[0mmodel\u001b[0m\u001b[1;33m.\u001b[0m\u001b[0mhistory\u001b[0m\u001b[1;33m.\u001b[0m\u001b[0mhistory\u001b[0m\u001b[1;33m[\u001b[0m\u001b[1;34m\"loss\"\u001b[0m\u001b[1;33m]\u001b[0m\u001b[1;33m\u001b[0m\u001b[1;33m\u001b[0m\u001b[0m\n\u001b[0;32m     16\u001b[0m \u001b[0mvalid_loss\u001b[0m \u001b[1;33m=\u001b[0m \u001b[0mmodel\u001b[0m\u001b[1;33m.\u001b[0m\u001b[0mhistory\u001b[0m\u001b[1;33m.\u001b[0m\u001b[0mhistory\u001b[0m\u001b[1;33m[\u001b[0m\u001b[1;34m\"val_loss\"\u001b[0m\u001b[1;33m]\u001b[0m\u001b[1;33m\u001b[0m\u001b[1;33m\u001b[0m\u001b[0m\n\u001b[1;32m---> 17\u001b[1;33m \u001b[0mtrain_acc\u001b[0m \u001b[1;33m=\u001b[0m \u001b[0mmodel\u001b[0m\u001b[1;33m.\u001b[0m\u001b[0mhistory\u001b[0m\u001b[1;33m.\u001b[0m\u001b[0mhistory\u001b[0m\u001b[1;33m[\u001b[0m\u001b[1;34m\"acc\"\u001b[0m\u001b[1;33m]\u001b[0m\u001b[1;33m\u001b[0m\u001b[1;33m\u001b[0m\u001b[0m\n\u001b[0m\u001b[0;32m     18\u001b[0m \u001b[0mvalid_acc\u001b[0m \u001b[1;33m=\u001b[0m \u001b[0mmodel\u001b[0m\u001b[1;33m.\u001b[0m\u001b[0mhistory\u001b[0m\u001b[1;33m.\u001b[0m\u001b[0mhistory\u001b[0m\u001b[1;33m[\u001b[0m\u001b[1;34m\"val_acc\"\u001b[0m\u001b[1;33m]\u001b[0m\u001b[1;33m\u001b[0m\u001b[1;33m\u001b[0m\u001b[0m\n\u001b[0;32m     19\u001b[0m \u001b[1;33m\u001b[0m\u001b[0m\n",
      "\u001b[1;31mKeyError\u001b[0m: 'acc'"
     ]
    }
   ],
   "source": [
    "model = build_mlp(input_shape=x_train.shape[1:])\n",
    "model.summary()\n",
    "optimizer = keras.optimizers.SGD(lr=LEARNING_RATE, nesterov=True, momentum=MOMENTUM)\n",
    "model.compile(loss=\"categorical_crossentropy\", metrics=[\"accuracy\"], optimizer=optimizer)\n",
    "\n",
    "model.fit(x_train, y_train, \n",
    "          epochs=EPOCHS, \n",
    "          batch_size=BATCH_SIZE, \n",
    "          validation_data=(x_test, y_test), \n",
    "          shuffle=True,\n",
    "          callbacks=[model_ckpt]\n",
    "         )"
   ]
  },
  {
   "cell_type": "code",
   "execution_count": 11,
   "metadata": {},
   "outputs": [
    {
     "name": "stdout",
     "output_type": "stream",
     "text": [
      "10000/10000 [==============================] - 1s 89us/sample - loss: 1.4431 - accuracy: 0.4974\n"
     ]
    }
   ],
   "source": [
    "# Collect results\n",
    "train_loss = model.history.history[\"loss\"]\n",
    "valid_loss = model.history.history[\"val_loss\"]\n",
    "train_acc = model.history.history[\"accuracy\"]\n",
    "valid_acc = model.history.history[\"val_accuracy\"]\n",
    "\n",
    "# Load back\n",
    "model = keras.models.load_model(\"./tmp.h5\")\n",
    "loss_loadback, acc_loadback = model.evaluate(x_test, y_test)"
   ]
  },
  {
   "cell_type": "code",
   "execution_count": 12,
   "metadata": {},
   "outputs": [
    {
     "data": {
      "image/png": "[encoded data removed]",
      "text/plain": [
       "<Figure size 432x288 with 1 Axes>"
      ]
     },
     "metadata": {
      "needs_background": "light"
     },
     "output_type": "display_data"
    },
    {
     "data": {
      "image/png": "[encoded data removed]",
      "text/plain": [
       "<Figure size 432x288 with 1 Axes>"
      ]
     },
     "metadata": {
      "needs_background": "light"
     },
     "output_type": "display_data"
    }
   ],
   "source": [
    "import matplotlib.pyplot as plt\n",
    "%matplotlib inline\n",
    "\n",
    "plt.plot(range(len(train_loss)), train_loss, label=\"train loss\")\n",
    "plt.plot(range(len(valid_loss)), valid_loss, label=\"valid loss\")\n",
    "plt.hlines(y=loss_loadback, xmin=0, xmax=len(train_loss), colors='r', linestyles='--')\n",
    "plt.legend()\n",
    "plt.title(\"Loss\")\n",
    "plt.show()\n",
    "\n",
    "plt.plot(range(len(train_acc)), train_acc, label=\"train accuracy\")\n",
    "plt.plot(range(len(valid_acc)), valid_acc, label=\"valid accuracy\")\n",
    "plt.hlines(y=acc_loadback, xmin=0, xmax=len(train_loss), colors='r', linestyles='--')\n",
    "plt.legend()\n",
    "plt.title(\"Accuracy\")\n",
    "plt.show()"
   ]
  },
  {
   "cell_type": "markdown",
   "metadata": {},
   "source": [
    "## Work\n",
    "1. 試比較 save_best_only 與否的差異\n",
    "2. 請僅存入將 save_weights_only 設定為 True, 並嘗試 reset ipynb 並將模型與權重重新建回並預測 x_test"
   ]
  }
 ],
 "metadata": {
  "kernelspec": {
   "display_name": "Python 3",
   "language": "python",
   "name": "python3"
  },
  "language_info": {
   "codemirror_mode": {
    "name": "ipython",
    "version": 3
   },
   "file_extension": ".py",
   "mimetype": "text/x-python",
   "name": "python",
   "nbconvert_exporter": "python",
   "pygments_lexer": "ipython3",
   "version": "3.7.3"
  }
 },
 "nbformat": 4,
 "nbformat_minor": 2
}
