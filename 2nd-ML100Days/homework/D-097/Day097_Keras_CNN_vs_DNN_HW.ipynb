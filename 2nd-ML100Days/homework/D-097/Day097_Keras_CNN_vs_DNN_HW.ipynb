{
 "cells": [
  {
   "cell_type": "markdown",
   "metadata": {},
   "source": [
    "# ANS:\n",
    "## 1.  學習率越大，收斂越快但也較多震盪。\n",
    "    使用較少參數量，比較不會有overfitting，但太少可能underfitting\n",
    "    (CNN可用少參數量，達到較好的結果)\n",
    "## 2.  CNN只需要相對較少的參數量(共享權重)，在圖像特偵擷取上是比較有效率的方式\n",
    "    參數量比較，(DNN: 1,841,162, CNN: 1,250,858)\n",
    "    "
   ]
  },
  {
   "cell_type": "code",
   "execution_count": null,
   "metadata": {},
   "outputs": [],
   "source": []
  }
 ],
 "metadata": {
  "kernelspec": {
   "display_name": "Python 3",
   "language": "python",
   "name": "python3"
  },
  "language_info": {
   "codemirror_mode": {
    "name": "ipython",
    "version": 3
   },
   "file_extension": ".py",
   "mimetype": "text/x-python",
   "name": "python",
   "nbconvert_exporter": "python",
   "pygments_lexer": "ipython3",
   "version": "3.7.3"
  }
 },
 "nbformat": 4,
 "nbformat_minor": 2
}
