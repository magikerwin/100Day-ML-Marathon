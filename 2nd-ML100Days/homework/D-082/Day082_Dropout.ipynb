{
 "cells": [
  {
   "cell_type": "markdown",
   "metadata": {},
   "source": [
    "## 範例重點\n",
    "* 知道如何在 keras 中加入 dropout\n",
    "* 了解 dropout 中 ratio 的意義與對訓練的影響"
   ]
  },
  {
   "cell_type": "code",
   "execution_count": 1,
   "metadata": {},
   "outputs": [],
   "source": [
    "import os\n",
    "from tensorflow import keras\n",
    "\n",
    "# 本範例不需使用 GPU, 將 GPU 設定為 \"無\"\n",
    "os.environ[\"CUDA_VISIBLE_DEVICES\"] = \"\""
   ]
  },
  {
   "cell_type": "code",
   "execution_count": 2,
   "metadata": {},
   "outputs": [],
   "source": [
    "train, test = keras.datasets.cifar10.load_data()"
   ]
  },
  {
   "cell_type": "code",
   "execution_count": 3,
   "metadata": {},
   "outputs": [],
   "source": [
    "## 資料前處理\n",
    "def preproc_x(x, flatten=True):\n",
    "    x = x / 255.\n",
    "    if flatten:\n",
    "        x = x.reshape((len(x), -1))\n",
    "    return x\n",
    "\n",
    "def preproc_y(y, num_classes=10):\n",
    "    if y.shape[-1] == 1:\n",
    "        y = keras.utils.to_categorical(y, num_classes)\n",
    "    return y    "
   ]
  },
  {
   "cell_type": "code",
   "execution_count": 4,
   "metadata": {},
   "outputs": [],
   "source": [
    "x_train, y_train = train\n",
    "x_test, y_test = test\n",
    "\n",
    "# 資料前處理 - X 標準化\n",
    "x_train = preproc_x(x_train)\n",
    "x_test = preproc_x(x_test)\n",
    "\n",
    "# 資料前處理 -Y 轉成 onehot\n",
    "y_train = preproc_y(y_train)\n",
    "y_test = preproc_y(y_test)"
   ]
  },
  {
   "cell_type": "code",
   "execution_count": 6,
   "metadata": {},
   "outputs": [],
   "source": [
    "from tensorflow.keras.layers import Dropout\n",
    "\n",
    "\"\"\"\n",
    "建立神經網路，並加入 dropout layer\n",
    "\"\"\"\n",
    "#def build_mlp(input_shape, output_units=10, num_neurons=[512, 256, 128], drp_ratio=0.2):\n",
    "def build_mlp(input_shape, output_units=10, num_neurons=[256, 128, 64], drp_ratio=0.2):\n",
    "    input_layer = keras.layers.Input(input_shape)\n",
    "    \n",
    "    for i, n_units in enumerate(num_neurons):\n",
    "        if i == 0:\n",
    "            x = keras.layers.Dense(units=n_units, \n",
    "                                   activation=\"relu\", \n",
    "                                   name=\"hidden_layer\"+str(i+1))(input_layer)\n",
    "            x = Dropout(drp_ratio)(x)\n",
    "        else:\n",
    "            x = keras.layers.Dense(units=n_units, \n",
    "                                   activation=\"relu\", \n",
    "                                   name=\"hidden_layer\"+str(i+1))(x)\n",
    "            x = Dropout(drp_ratio)(x)\n",
    "    \n",
    "    out = keras.layers.Dense(units=output_units, activation=\"softmax\", name=\"output\")(x)\n",
    "    \n",
    "    model = keras.models.Model(inputs=[input_layer], outputs=[out])\n",
    "    return model"
   ]
  },
  {
   "cell_type": "code",
   "execution_count": 7,
   "metadata": {},
   "outputs": [],
   "source": [
    "## 超參數設定\n",
    "LEARNING_RATE = 1e-3\n",
    "EPOCHS = 30 # 50\n",
    "BATCH_SIZE = 256\n",
    "MOMENTUM = 0.95\n",
    "Dropout_EXP = 0.25"
   ]
  },
  {
   "cell_type": "code",
   "execution_count": 8,
   "metadata": {
    "scrolled": true
   },
   "outputs": [
    {
     "name": "stderr",
     "output_type": "stream",
     "text": [
      "WARNING: Logging before flag parsing goes to stderr.\n",
      "W0720 15:35:55.583786   984 deprecation.py:323] From c:\\users\\qwerz\\miniconda3\\envs\\ml100\\lib\\site-packages\\tensorflow\\python\\ops\\math_grad.py:1250: add_dispatch_support.<locals>.wrapper (from tensorflow.python.ops.array_ops) is deprecated and will be removed in a future version.\n",
      "Instructions for updating:\n",
      "Use tf.where in 2.0, which has the same broadcast rule as np.where\n"
     ]
    },
    {
     "name": "stdout",
     "output_type": "stream",
     "text": [
      "Model: \"model\"\n",
      "_________________________________________________________________\n",
      "Layer (type)                 Output Shape              Param #   \n",
      "=================================================================\n",
      "input_1 (InputLayer)         [(None, 3072)]            0         \n",
      "_________________________________________________________________\n",
      "hidden_layer1 (Dense)        (None, 256)               786688    \n",
      "_________________________________________________________________\n",
      "dropout (Dropout)            (None, 256)               0         \n",
      "_________________________________________________________________\n",
      "hidden_layer2 (Dense)        (None, 128)               32896     \n",
      "_________________________________________________________________\n",
      "dropout_1 (Dropout)          (None, 128)               0         \n",
      "_________________________________________________________________\n",
      "hidden_layer3 (Dense)        (None, 64)                8256      \n",
      "_________________________________________________________________\n",
      "dropout_2 (Dropout)          (None, 64)                0         \n",
      "_________________________________________________________________\n",
      "output (Dense)               (None, 10)                650       \n",
      "=================================================================\n",
      "Total params: 828,490\n",
      "Trainable params: 828,490\n",
      "Non-trainable params: 0\n",
      "_________________________________________________________________\n",
      "Train on 50000 samples, validate on 10000 samples\n",
      "Epoch 1/30\n",
      "50000/50000 [==============================] - 4s 88us/sample - loss: 2.2280 - accuracy: 0.1685 - val_loss: 2.0708 - val_accuracy: 0.2606\n",
      "Epoch 2/30\n",
      "50000/50000 [==============================] - 3s 60us/sample - loss: 2.0716 - accuracy: 0.2347 - val_loss: 1.9499 - val_accuracy: 0.3090\n",
      "Epoch 3/30\n",
      "50000/50000 [==============================] - 3s 59us/sample - loss: 1.9881 - accuracy: 0.2725 - val_loss: 1.8832 - val_accuracy: 0.3373\n",
      "Epoch 4/30\n",
      "50000/50000 [==============================] - 3s 60us/sample - loss: 1.9379 - accuracy: 0.2918 - val_loss: 1.8317 - val_accuracy: 0.3539\n",
      "Epoch 5/30\n",
      "50000/50000 [==============================] - 3s 58us/sample - loss: 1.9012 - accuracy: 0.3107 - val_loss: 1.7935 - val_accuracy: 0.3661\n",
      "Epoch 6/30\n",
      "50000/50000 [==============================] - 3s 59us/sample - loss: 1.8644 - accuracy: 0.3245 - val_loss: 1.7591 - val_accuracy: 0.3774\n",
      "Epoch 7/30\n",
      "50000/50000 [==============================] - 3s 62us/sample - loss: 1.8395 - accuracy: 0.3357 - val_loss: 1.7308 - val_accuracy: 0.3868\n",
      "Epoch 8/30\n",
      "50000/50000 [==============================] - 3s 61us/sample - loss: 1.8104 - accuracy: 0.3484 - val_loss: 1.7042 - val_accuracy: 0.3937\n",
      "Epoch 9/30\n",
      "50000/50000 [==============================] - 3s 59us/sample - loss: 1.7921 - accuracy: 0.3541 - val_loss: 1.6771 - val_accuracy: 0.4126\n",
      "Epoch 10/30\n",
      "50000/50000 [==============================] - 3s 59us/sample - loss: 1.7698 - accuracy: 0.3624 - val_loss: 1.6654 - val_accuracy: 0.4172\n",
      "Epoch 11/30\n",
      "50000/50000 [==============================] - 3s 59us/sample - loss: 1.7492 - accuracy: 0.3713 - val_loss: 1.6387 - val_accuracy: 0.4244\n",
      "Epoch 12/30\n",
      "50000/50000 [==============================] - 3s 59us/sample - loss: 1.7288 - accuracy: 0.3787 - val_loss: 1.6238 - val_accuracy: 0.4290\n",
      "Epoch 13/30\n",
      "50000/50000 [==============================] - 3s 59us/sample - loss: 1.7165 - accuracy: 0.3855 - val_loss: 1.6042 - val_accuracy: 0.4358\n",
      "Epoch 14/30\n",
      "50000/50000 [==============================] - 3s 60us/sample - loss: 1.7043 - accuracy: 0.3897 - val_loss: 1.5924 - val_accuracy: 0.4415\n",
      "Epoch 15/30\n",
      "50000/50000 [==============================] - 3s 58us/sample - loss: 1.6892 - accuracy: 0.3950 - val_loss: 1.5787 - val_accuracy: 0.4454\n",
      "Epoch 16/30\n",
      "50000/50000 [==============================] - 3s 57us/sample - loss: 1.6718 - accuracy: 0.4012 - val_loss: 1.5662 - val_accuracy: 0.4462\n",
      "Epoch 17/30\n",
      "50000/50000 [==============================] - 3s 59us/sample - loss: 1.6598 - accuracy: 0.4069 - val_loss: 1.5612 - val_accuracy: 0.4552\n",
      "Epoch 18/30\n",
      "50000/50000 [==============================] - 3s 59us/sample - loss: 1.6478 - accuracy: 0.4115 - val_loss: 1.5377 - val_accuracy: 0.4595\n",
      "Epoch 19/30\n",
      "50000/50000 [==============================] - 3s 60us/sample - loss: 1.6356 - accuracy: 0.4167 - val_loss: 1.5349 - val_accuracy: 0.4619\n",
      "Epoch 20/30\n",
      "50000/50000 [==============================] - 3s 60us/sample - loss: 1.6256 - accuracy: 0.4191 - val_loss: 1.5235 - val_accuracy: 0.4661\n",
      "Epoch 21/30\n",
      "50000/50000 [==============================] - 3s 60us/sample - loss: 1.6146 - accuracy: 0.4247 - val_loss: 1.5119 - val_accuracy: 0.4682\n",
      "Epoch 22/30\n",
      "50000/50000 [==============================] - 3s 60us/sample - loss: 1.6071 - accuracy: 0.4262 - val_loss: 1.5127 - val_accuracy: 0.4668\n",
      "Epoch 23/30\n",
      "50000/50000 [==============================] - 3s 59us/sample - loss: 1.5957 - accuracy: 0.4319 - val_loss: 1.5057 - val_accuracy: 0.4687\n",
      "Epoch 24/30\n",
      "50000/50000 [==============================] - 3s 58us/sample - loss: 1.5901 - accuracy: 0.4349 - val_loss: 1.4875 - val_accuracy: 0.4772\n",
      "Epoch 25/30\n",
      "50000/50000 [==============================] - 3s 58us/sample - loss: 1.5804 - accuracy: 0.4347 - val_loss: 1.4822 - val_accuracy: 0.4745\n",
      "Epoch 26/30\n",
      "50000/50000 [==============================] - 3s 59us/sample - loss: 1.5692 - accuracy: 0.4399 - val_loss: 1.4803 - val_accuracy: 0.4771\n",
      "Epoch 27/30\n",
      "50000/50000 [==============================] - 3s 58us/sample - loss: 1.5602 - accuracy: 0.4428 - val_loss: 1.4743 - val_accuracy: 0.4783\n",
      "Epoch 28/30\n",
      "50000/50000 [==============================] - 3s 58us/sample - loss: 1.5527 - accuracy: 0.4482 - val_loss: 1.4626 - val_accuracy: 0.4805\n",
      "Epoch 29/30\n",
      "50000/50000 [==============================] - 3s 58us/sample - loss: 1.5439 - accuracy: 0.4499 - val_loss: 1.4574 - val_accuracy: 0.4910\n",
      "Epoch 30/30\n",
      "50000/50000 [==============================] - 3s 59us/sample - loss: 1.5403 - accuracy: 0.4500 - val_loss: 1.4685 - val_accuracy: 0.4782\n"
     ]
    },
    {
     "ename": "KeyError",
     "evalue": "'acc'",
     "output_type": "error",
     "traceback": [
      "\u001b[1;31m---------------------------------------------------------------------------\u001b[0m",
      "\u001b[1;31mKeyError\u001b[0m                                  Traceback (most recent call last)",
      "\u001b[1;32m<ipython-input-8-e5c9b9d72f21>\u001b[0m in \u001b[0;36m<module>\u001b[1;34m\u001b[0m\n\u001b[0;32m     13\u001b[0m \u001b[0mtrain_loss\u001b[0m \u001b[1;33m=\u001b[0m \u001b[0mmodel\u001b[0m\u001b[1;33m.\u001b[0m\u001b[0mhistory\u001b[0m\u001b[1;33m.\u001b[0m\u001b[0mhistory\u001b[0m\u001b[1;33m[\u001b[0m\u001b[1;34m\"loss\"\u001b[0m\u001b[1;33m]\u001b[0m\u001b[1;33m\u001b[0m\u001b[1;33m\u001b[0m\u001b[0m\n\u001b[0;32m     14\u001b[0m \u001b[0mvalid_loss\u001b[0m \u001b[1;33m=\u001b[0m \u001b[0mmodel\u001b[0m\u001b[1;33m.\u001b[0m\u001b[0mhistory\u001b[0m\u001b[1;33m.\u001b[0m\u001b[0mhistory\u001b[0m\u001b[1;33m[\u001b[0m\u001b[1;34m\"val_loss\"\u001b[0m\u001b[1;33m]\u001b[0m\u001b[1;33m\u001b[0m\u001b[1;33m\u001b[0m\u001b[0m\n\u001b[1;32m---> 15\u001b[1;33m \u001b[0mtrain_acc\u001b[0m \u001b[1;33m=\u001b[0m \u001b[0mmodel\u001b[0m\u001b[1;33m.\u001b[0m\u001b[0mhistory\u001b[0m\u001b[1;33m.\u001b[0m\u001b[0mhistory\u001b[0m\u001b[1;33m[\u001b[0m\u001b[1;34m\"acc\"\u001b[0m\u001b[1;33m]\u001b[0m\u001b[1;33m\u001b[0m\u001b[1;33m\u001b[0m\u001b[0m\n\u001b[0m\u001b[0;32m     16\u001b[0m \u001b[0mvalid_acc\u001b[0m \u001b[1;33m=\u001b[0m \u001b[0mmodel\u001b[0m\u001b[1;33m.\u001b[0m\u001b[0mhistory\u001b[0m\u001b[1;33m.\u001b[0m\u001b[0mhistory\u001b[0m\u001b[1;33m[\u001b[0m\u001b[1;34m\"val_acc\"\u001b[0m\u001b[1;33m]\u001b[0m\u001b[1;33m\u001b[0m\u001b[1;33m\u001b[0m\u001b[0m\n",
      "\u001b[1;31mKeyError\u001b[0m: 'acc'"
     ]
    }
   ],
   "source": [
    "model = build_mlp(input_shape=x_train.shape[1:], drp_ratio=Dropout_EXP)\n",
    "model.summary()\n",
    "optimizer = keras.optimizers.SGD(lr=LEARNING_RATE, nesterov=True, momentum=MOMENTUM)\n",
    "model.compile(loss=\"categorical_crossentropy\", metrics=[\"accuracy\"], optimizer=optimizer)\n",
    "\n",
    "model.fit(x_train, y_train, \n",
    "          epochs=EPOCHS, \n",
    "          batch_size=BATCH_SIZE, \n",
    "          validation_data=(x_test, y_test), \n",
    "          shuffle=True)"
   ]
  },
  {
   "cell_type": "code",
   "execution_count": 10,
   "metadata": {},
   "outputs": [],
   "source": [
    "# Collect results\n",
    "train_loss = model.history.history[\"loss\"]\n",
    "valid_loss = model.history.history[\"val_loss\"]\n",
    "train_acc = model.history.history[\"accuracy\"]\n",
    "valid_acc = model.history.history[\"val_accuracy\"]"
   ]
  },
  {
   "cell_type": "code",
   "execution_count": 11,
   "metadata": {},
   "outputs": [
    {
     "data": {
      "image/png": "[encoded data removed]",
      "text/plain": [
       "<Figure size 432x288 with 1 Axes>"
      ]
     },
     "metadata": {
      "needs_background": "light"
     },
     "output_type": "display_data"
    },
    {
     "data": {
      "image/png": "[encoded data removed]",
      "text/plain": [
       "<Figure size 432x288 with 1 Axes>"
      ]
     },
     "metadata": {
      "needs_background": "light"
     },
     "output_type": "display_data"
    }
   ],
   "source": [
    "import matplotlib.pyplot as plt\n",
    "%matplotlib inline\n",
    "\n",
    "plt.plot(range(len(train_loss)), train_loss, label=\"train loss\")\n",
    "plt.plot(range(len(valid_loss)), valid_loss, label=\"valid loss\")\n",
    "plt.legend()\n",
    "plt.title(\"Loss\")\n",
    "plt.show()\n",
    "\n",
    "plt.plot(range(len(train_acc)), train_acc, label=\"train accuracy\")\n",
    "plt.plot(range(len(valid_acc)), valid_acc, label=\"valid accuracy\")\n",
    "plt.legend()\n",
    "plt.title(\"Accuracy\")\n",
    "plt.show()"
   ]
  },
  {
   "cell_type": "markdown",
   "metadata": {},
   "source": [
    "## Work\n",
    "1. 請比較使用不同層數以及不同 Dropout rate 對訓練的效果\n",
    "2. 將 optimizer 改成使用 Adam 並加上適當的 dropout rate 檢視結果"
   ]
  }
 ],
 "metadata": {
  "kernelspec": {
   "display_name": "Python 3",
   "language": "python",
   "name": "python3"
  },
  "language_info": {
   "codemirror_mode": {
    "name": "ipython",
    "version": 3
   },
   "file_extension": ".py",
   "mimetype": "text/x-python",
   "name": "python",
   "nbconvert_exporter": "python",
   "pygments_lexer": "ipython3",
   "version": "3.7.3"
  }
 },
 "nbformat": 4,
 "nbformat_minor": 2
}
