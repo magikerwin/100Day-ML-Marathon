{
 "cells": [
  {
   "cell_type": "markdown",
   "metadata": {},
   "source": [
    "## Work\n",
    "1. 請比較使用不同層數以及不同 Dropout rate 對訓練的效果\n",
    "2. 將 optimizer 改成使用 Adam 並加上適當的 dropout rate 檢視結果"
   ]
  },
  {
   "cell_type": "code",
   "execution_count": 1,
   "metadata": {},
   "outputs": [],
   "source": [
    "import os\n",
    "from tensorflow import keras\n",
    "import itertools\n",
    "# Disable GPU\n",
    "os.environ[\"CUDA_VISIBLE_DEVICES\"] = \"0\""
   ]
  },
  {
   "cell_type": "code",
   "execution_count": 2,
   "metadata": {},
   "outputs": [],
   "source": [
    "train, test = keras.datasets.cifar10.load_data()"
   ]
  },
  {
   "cell_type": "code",
   "execution_count": 3,
   "metadata": {},
   "outputs": [],
   "source": [
    "## 資料前處理\n",
    "def preproc_x(x, flatten=True):\n",
    "    x = x / 255.\n",
    "    if flatten:\n",
    "        x = x.reshape((len(x), -1))\n",
    "    return x\n",
    "\n",
    "def preproc_y(y, num_classes=10):\n",
    "    if y.shape[-1] == 1:\n",
    "        y = keras.utils.to_categorical(y, num_classes)\n",
    "    return y    "
   ]
  },
  {
   "cell_type": "code",
   "execution_count": 4,
   "metadata": {},
   "outputs": [],
   "source": [
    "x_train, y_train = train\n",
    "x_test, y_test = test\n",
    "\n",
    "# Preproc the inputs\n",
    "x_train = preproc_x(x_train)\n",
    "x_test = preproc_x(x_test)\n",
    "\n",
    "# Preprc the outputs\n",
    "y_train = preproc_y(y_train)\n",
    "y_test = preproc_y(y_test)"
   ]
  },
  {
   "cell_type": "code",
   "execution_count": 5,
   "metadata": {},
   "outputs": [],
   "source": [
    "from tensorflow.keras.layers import Dropout\n",
    "\n",
    "\"\"\"\n",
    "建立神經網路，並加入 dropout layer\n",
    "\"\"\"\n",
    "#def build_mlp(input_shape, output_units=10, num_neurons=[512, 256, 128], drp_ratio=0.2):\n",
    "def build_mlp(input_shape, output_units=10, num_neurons=[256, 128, 64], drp_ratio=0.2):\n",
    "    input_layer = keras.layers.Input(input_shape)\n",
    "    \n",
    "    for i, n_units in enumerate(num_neurons):\n",
    "        if i == 0:\n",
    "            x = keras.layers.Dense(units=n_units, \n",
    "                                   activation=\"relu\", \n",
    "                                   name=\"hidden_layer\"+str(i+1))(input_layer)\n",
    "            x = Dropout(drp_ratio)(x)\n",
    "        else:\n",
    "            x = keras.layers.Dense(units=n_units, \n",
    "                                   activation=\"relu\", \n",
    "                                   name=\"hidden_layer\"+str(i+1))(x)\n",
    "            x = Dropout(drp_ratio)(x)\n",
    "    \n",
    "    out = keras.layers.Dense(units=output_units, activation=\"softmax\", name=\"output\")(x)\n",
    "    \n",
    "    model = keras.models.Model(inputs=[input_layer], outputs=[out])\n",
    "    return model"
   ]
  },
  {
   "cell_type": "code",
   "execution_count": 6,
   "metadata": {},
   "outputs": [],
   "source": [
    "## 超參數設定\n",
    "LEARNING_RATE = 1e-3\n",
    "EPOCHS = 30 # 50\n",
    "BATCH_SIZE = 256\n",
    "MOMENTUM = 0.95\n",
    "Dropout_EXP = 0.25"
   ]
  },
  {
   "cell_type": "code",
   "execution_count": 7,
   "metadata": {},
   "outputs": [
    {
     "name": "stderr",
     "output_type": "stream",
     "text": [
      "WARNING: Logging before flag parsing goes to stderr.\n",
      "W0720 15:39:11.348288  8212 deprecation.py:323] From c:\\users\\qwerz\\miniconda3\\envs\\ml100\\lib\\site-packages\\tensorflow\\python\\ops\\math_grad.py:1250: add_dispatch_support.<locals>.wrapper (from tensorflow.python.ops.array_ops) is deprecated and will be removed in a future version.\n",
      "Instructions for updating:\n",
      "Use tf.where in 2.0, which has the same broadcast rule as np.where\n"
     ]
    },
    {
     "name": "stdout",
     "output_type": "stream",
     "text": [
      "Model: \"model\"\n",
      "_________________________________________________________________\n",
      "Layer (type)                 Output Shape              Param #   \n",
      "=================================================================\n",
      "input_1 (InputLayer)         [(None, 3072)]            0         \n",
      "_________________________________________________________________\n",
      "hidden_layer1 (Dense)        (None, 256)               786688    \n",
      "_________________________________________________________________\n",
      "dropout (Dropout)            (None, 256)               0         \n",
      "_________________________________________________________________\n",
      "hidden_layer2 (Dense)        (None, 128)               32896     \n",
      "_________________________________________________________________\n",
      "dropout_1 (Dropout)          (None, 128)               0         \n",
      "_________________________________________________________________\n",
      "hidden_layer3 (Dense)        (None, 64)                8256      \n",
      "_________________________________________________________________\n",
      "dropout_2 (Dropout)          (None, 64)                0         \n",
      "_________________________________________________________________\n",
      "output (Dense)               (None, 10)                650       \n",
      "=================================================================\n",
      "Total params: 828,490\n",
      "Trainable params: 828,490\n",
      "Non-trainable params: 0\n",
      "_________________________________________________________________\n",
      "Train on 50000 samples, validate on 10000 samples\n",
      "Epoch 1/30\n",
      "50000/50000 [==============================] - 4s 75us/sample - loss: 2.1201 - accuracy: 0.2063 - val_loss: 1.8960 - val_accuracy: 0.3285\n",
      "Epoch 2/30\n",
      "50000/50000 [==============================] - 3s 60us/sample - loss: 1.9379 - accuracy: 0.2916 - val_loss: 1.8171 - val_accuracy: 0.3520\n",
      "Epoch 3/30\n",
      "50000/50000 [==============================] - 3s 60us/sample - loss: 1.8878 - accuracy: 0.3117 - val_loss: 1.7793 - val_accuracy: 0.3650\n",
      "Epoch 4/30\n",
      "50000/50000 [==============================] - 3s 59us/sample - loss: 1.8445 - accuracy: 0.3287 - val_loss: 1.7484 - val_accuracy: 0.3823\n",
      "Epoch 5/30\n",
      "50000/50000 [==============================] - 3s 60us/sample - loss: 1.8223 - accuracy: 0.3348 - val_loss: 1.6939 - val_accuracy: 0.3908\n",
      "Epoch 6/30\n",
      "50000/50000 [==============================] - 3s 60us/sample - loss: 1.7990 - accuracy: 0.3438 - val_loss: 1.7047 - val_accuracy: 0.3944\n",
      "Epoch 7/30\n",
      "50000/50000 [==============================] - 3s 58us/sample - loss: 1.7883 - accuracy: 0.3483 - val_loss: 1.6826 - val_accuracy: 0.4055\n",
      "Epoch 8/30\n",
      "50000/50000 [==============================] - 3s 65us/sample - loss: 1.7763 - accuracy: 0.3520 - val_loss: 1.6742 - val_accuracy: 0.4036\n",
      "Epoch 9/30\n",
      "50000/50000 [==============================] - 3s 59us/sample - loss: 1.7653 - accuracy: 0.3610 - val_loss: 1.6782 - val_accuracy: 0.4016\n",
      "Epoch 10/30\n",
      "50000/50000 [==============================] - 3s 59us/sample - loss: 1.7539 - accuracy: 0.3639 - val_loss: 1.6860 - val_accuracy: 0.4158\n",
      "Epoch 11/30\n",
      "50000/50000 [==============================] - 3s 63us/sample - loss: 1.7394 - accuracy: 0.3685 - val_loss: 1.6601 - val_accuracy: 0.4198\n",
      "Epoch 12/30\n",
      "50000/50000 [==============================] - 3s 59us/sample - loss: 1.7472 - accuracy: 0.3667 - val_loss: 1.6766 - val_accuracy: 0.4095\n",
      "Epoch 13/30\n",
      "50000/50000 [==============================] - 3s 69us/sample - loss: 1.7310 - accuracy: 0.3729 - val_loss: 1.6208 - val_accuracy: 0.4237\n",
      "Epoch 14/30\n",
      "50000/50000 [==============================] - 4s 73us/sample - loss: 1.7238 - accuracy: 0.3735 - val_loss: 1.6570 - val_accuracy: 0.4088\n",
      "Epoch 15/30\n",
      "50000/50000 [==============================] - 3s 61us/sample - loss: 1.7214 - accuracy: 0.3753 - val_loss: 1.6081 - val_accuracy: 0.4335\n",
      "Epoch 16/30\n",
      "50000/50000 [==============================] - 3s 60us/sample - loss: 1.7116 - accuracy: 0.3787 - val_loss: 1.6285 - val_accuracy: 0.4300\n",
      "Epoch 17/30\n",
      "50000/50000 [==============================] - 3s 60us/sample - loss: 1.7118 - accuracy: 0.3810 - val_loss: 1.6282 - val_accuracy: 0.4285\n",
      "Epoch 18/30\n",
      "50000/50000 [==============================] - 3s 59us/sample - loss: 1.7028 - accuracy: 0.3840 - val_loss: 1.6034 - val_accuracy: 0.4341\n",
      "Epoch 19/30\n",
      "50000/50000 [==============================] - 3s 60us/sample - loss: 1.7019 - accuracy: 0.3814 - val_loss: 1.5753 - val_accuracy: 0.4420\n",
      "Epoch 20/30\n",
      "50000/50000 [==============================] - 3s 58us/sample - loss: 1.6957 - accuracy: 0.3877 - val_loss: 1.6186 - val_accuracy: 0.4315\n",
      "Epoch 21/30\n",
      "50000/50000 [==============================] - 3s 60us/sample - loss: 1.6922 - accuracy: 0.3862 - val_loss: 1.6199 - val_accuracy: 0.4155\n",
      "Epoch 22/30\n",
      "50000/50000 [==============================] - 3s 59us/sample - loss: 1.6786 - accuracy: 0.3937 - val_loss: 1.5839 - val_accuracy: 0.4442\n",
      "Epoch 23/30\n",
      "50000/50000 [==============================] - 3s 58us/sample - loss: 1.6842 - accuracy: 0.3914 - val_loss: 1.6001 - val_accuracy: 0.4308\n",
      "Epoch 24/30\n",
      "50000/50000 [==============================] - 3s 58us/sample - loss: 1.6824 - accuracy: 0.3905 - val_loss: 1.5831 - val_accuracy: 0.4370\n",
      "Epoch 25/30\n",
      "50000/50000 [==============================] - 3s 59us/sample - loss: 1.6758 - accuracy: 0.3940 - val_loss: 1.6314 - val_accuracy: 0.4146\n",
      "Epoch 26/30\n",
      "50000/50000 [==============================] - 3s 59us/sample - loss: 1.6785 - accuracy: 0.3937 - val_loss: 1.6013 - val_accuracy: 0.4320\n",
      "Epoch 27/30\n",
      "50000/50000 [==============================] - 3s 58us/sample - loss: 1.6707 - accuracy: 0.3964 - val_loss: 1.5813 - val_accuracy: 0.4440\n",
      "Epoch 28/30\n",
      "50000/50000 [==============================] - 3s 59us/sample - loss: 1.6659 - accuracy: 0.3978 - val_loss: 1.5858 - val_accuracy: 0.4340\n",
      "Epoch 29/30\n",
      "50000/50000 [==============================] - 3s 60us/sample - loss: 1.6646 - accuracy: 0.3961 - val_loss: 1.6049 - val_accuracy: 0.4270\n",
      "Epoch 30/30\n",
      "50000/50000 [==============================] - 3s 62us/sample - loss: 1.6728 - accuracy: 0.3946 - val_loss: 1.5819 - val_accuracy: 0.4395\n"
     ]
    },
    {
     "data": {
      "text/plain": [
       "<tensorflow.python.keras.callbacks.History at 0x1fb22776a58>"
      ]
     },
     "execution_count": 7,
     "metadata": {},
     "output_type": "execute_result"
    }
   ],
   "source": [
    "model = build_mlp(input_shape=x_train.shape[1:], drp_ratio=Dropout_EXP)\n",
    "model.summary()\n",
    "#optimizer = keras.optimizers.SGD(lr=LEARNING_RATE, nesterov=True, momentum=MOMENTUM)\n",
    "optimizer = keras.optimizers.Adam(lr=LEARNING_RATE,)\n",
    "model.compile(loss=\"categorical_crossentropy\", metrics=[\"accuracy\"], optimizer=optimizer)\n",
    "\n",
    "model.fit(x_train, y_train, \n",
    "          epochs=EPOCHS, \n",
    "          batch_size=BATCH_SIZE, \n",
    "          validation_data=(x_test, y_test), \n",
    "          shuffle=True)"
   ]
  },
  {
   "cell_type": "code",
   "execution_count": 8,
   "metadata": {
    "scrolled": true
   },
   "outputs": [],
   "source": [
    "results = {}\n",
    "\"\"\"Code Here\n",
    "撰寫你的訓練流程並將結果用 dictionary 紀錄\n",
    "\"\"\"\n",
    "results['train_loss'] = model.history.history[\"loss\"]\n",
    "results['valid_loss'] = model.history.history[\"val_loss\"]\n",
    "results['train_acc']  = model.history.history[\"accuracy\"]\n",
    "results['valid_acc']  = model.history.history[\"val_accuracy\"]"
   ]
  },
  {
   "cell_type": "code",
   "execution_count": 13,
   "metadata": {},
   "outputs": [
    {
     "data": {
      "image/png": "[encoded data removed]",
      "text/plain": [
       "<Figure size 432x288 with 1 Axes>"
      ]
     },
     "metadata": {
      "needs_background": "light"
     },
     "output_type": "display_data"
    },
    {
     "data": {
      "image/png": "[encoded data removed]",
      "text/plain": [
       "<Figure size 432x288 with 1 Axes>"
      ]
     },
     "metadata": {
      "needs_background": "light"
     },
     "output_type": "display_data"
    }
   ],
   "source": [
    "import matplotlib.pyplot as plt\n",
    "%matplotlib inline\n",
    "\"\"\"Code Here\n",
    "將結果繪出\n",
    "\"\"\"\n",
    "\n",
    "plt.plot(range(len(results['train_loss'])), results['train_loss'], label=\"train loss\")\n",
    "plt.plot(range(len(results['valid_loss'])), results['valid_loss'], label=\"valid loss\")\n",
    "plt.legend()\n",
    "plt.title(\"Loss\")\n",
    "plt.show()\n",
    "\n",
    "plt.plot(range(len(results['train_acc'])), results['train_acc'], label=\"train accuracy\")\n",
    "plt.plot(range(len(results['valid_acc'])), results['valid_acc'], label=\"valid accuracy\")\n",
    "plt.legend()\n",
    "plt.title(\"Accuracy\")\n",
    "plt.show()"
   ]
  },
  {
   "cell_type": "code",
   "execution_count": null,
   "metadata": {},
   "outputs": [],
   "source": []
  }
 ],
 "metadata": {
  "kernelspec": {
   "display_name": "Python 3",
   "language": "python",
   "name": "python3"
  },
  "language_info": {
   "codemirror_mode": {
    "name": "ipython",
    "version": 3
   },
   "file_extension": ".py",
   "mimetype": "text/x-python",
   "name": "python",
   "nbconvert_exporter": "python",
   "pygments_lexer": "ipython3",
   "version": "3.7.3"
  }
 },
 "nbformat": 4,
 "nbformat_minor": 2
}
