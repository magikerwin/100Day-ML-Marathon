{
 "cells": [
  {
   "cell_type": "markdown",
   "metadata": {},
   "source": [
    "## 範例重點\n",
    "* 學習如何在 keras 中加入 BatchNorm\n",
    "* 知道有無 BN 對訓練的影響\n",
    "* 比較 BN 在不同 batch size 下的效果"
   ]
  },
  {
   "cell_type": "code",
   "execution_count": 1,
   "metadata": {},
   "outputs": [],
   "source": [
    "import os\n",
    "from tensorflow import keras\n",
    "\n",
    "# 本範例不需使用 GPU, 將 GPU 設定為 \"無\"\n",
    "os.environ[\"CUDA_VISIBLE_DEVICES\"] = \"0\""
   ]
  },
  {
   "cell_type": "code",
   "execution_count": 2,
   "metadata": {},
   "outputs": [],
   "source": [
    "train, test = keras.datasets.cifar10.load_data()"
   ]
  },
  {
   "cell_type": "code",
   "execution_count": 3,
   "metadata": {},
   "outputs": [],
   "source": [
    "## 資料前處理\n",
    "def preproc_x(x, flatten=True):\n",
    "    x = x / 255.\n",
    "    if flatten:\n",
    "        x = x.reshape((len(x), -1))\n",
    "    return x\n",
    "\n",
    "def preproc_y(y, num_classes=10):\n",
    "    if y.shape[-1] == 1:\n",
    "        y = keras.utils.to_categorical(y, num_classes)\n",
    "    return y    "
   ]
  },
  {
   "cell_type": "code",
   "execution_count": 4,
   "metadata": {},
   "outputs": [],
   "source": [
    "x_train, y_train = train\n",
    "x_test, y_test = test\n",
    "\n",
    "# 資料前處理 - X 標準化\n",
    "x_train = preproc_x(x_train)\n",
    "x_test = preproc_x(x_test)\n",
    "\n",
    "# 資料前處理 -Y 轉成 onehot\n",
    "y_train = preproc_y(y_train)\n",
    "y_test = preproc_y(y_test)"
   ]
  },
  {
   "cell_type": "code",
   "execution_count": 5,
   "metadata": {},
   "outputs": [],
   "source": [
    "from tensorflow.keras.layers import BatchNormalization\n",
    "\n",
    "\"\"\"\n",
    "建立神經網路，並加入 BN layer\n",
    "\"\"\"\n",
    "#def build_mlp(input_shape, output_units=10, num_neurons=[512, 256, 128]):\n",
    "def build_mlp(input_shape, output_units=10, num_neurons=[256, 128, 64]):\n",
    "    input_layer = keras.layers.Input(input_shape)\n",
    "    \n",
    "    for i, n_units in enumerate(num_neurons):\n",
    "        if i == 0:\n",
    "            x = keras.layers.Dense(units=n_units, \n",
    "                                   activation=\"relu\", \n",
    "                                   name=\"hidden_layer\"+str(i+1))(input_layer)\n",
    "            x = BatchNormalization()(x)\n",
    "        else:\n",
    "            x = keras.layers.Dense(units=n_units, \n",
    "                                   activation=\"relu\", \n",
    "                                   name=\"hidden_layer\"+str(i+1))(x)\n",
    "            x = BatchNormalization()(x)\n",
    "    \n",
    "    out = keras.layers.Dense(units=output_units, activation=\"softmax\", name=\"output\")(x)\n",
    "    \n",
    "    model = keras.models.Model(inputs=[input_layer], outputs=[out])\n",
    "    return model"
   ]
  },
  {
   "cell_type": "code",
   "execution_count": 6,
   "metadata": {},
   "outputs": [],
   "source": [
    "## 超參數設定\n",
    "LEARNING_RATE = 1e-3\n",
    "EPOCHS = 30 # 50\n",
    "BATCH_SIZE = 1024\n",
    "MOMENTUM = 0.95"
   ]
  },
  {
   "cell_type": "code",
   "execution_count": 7,
   "metadata": {
    "scrolled": false
   },
   "outputs": [
    {
     "name": "stderr",
     "output_type": "stream",
     "text": [
      "WARNING: Logging before flag parsing goes to stderr.\n",
      "W0720 16:01:30.488174  4976 deprecation.py:323] From c:\\users\\qwerz\\miniconda3\\envs\\ml100\\lib\\site-packages\\tensorflow\\python\\ops\\math_grad.py:1250: add_dispatch_support.<locals>.wrapper (from tensorflow.python.ops.array_ops) is deprecated and will be removed in a future version.\n",
      "Instructions for updating:\n",
      "Use tf.where in 2.0, which has the same broadcast rule as np.where\n"
     ]
    },
    {
     "name": "stdout",
     "output_type": "stream",
     "text": [
      "Model: \"model\"\n",
      "_________________________________________________________________\n",
      "Layer (type)                 Output Shape              Param #   \n",
      "=================================================================\n",
      "input_1 (InputLayer)         [(None, 3072)]            0         \n",
      "_________________________________________________________________\n",
      "hidden_layer1 (Dense)        (None, 256)               786688    \n",
      "_________________________________________________________________\n",
      "batch_normalization (BatchNo (None, 256)               1024      \n",
      "_________________________________________________________________\n",
      "hidden_layer2 (Dense)        (None, 128)               32896     \n",
      "_________________________________________________________________\n",
      "batch_normalization_1 (Batch (None, 128)               512       \n",
      "_________________________________________________________________\n",
      "hidden_layer3 (Dense)        (None, 64)                8256      \n",
      "_________________________________________________________________\n",
      "batch_normalization_2 (Batch (None, 64)                256       \n",
      "_________________________________________________________________\n",
      "output (Dense)               (None, 10)                650       \n",
      "=================================================================\n",
      "Total params: 830,282\n",
      "Trainable params: 829,386\n",
      "Non-trainable params: 896\n",
      "_________________________________________________________________\n",
      "Train on 50000 samples, validate on 10000 samples\n",
      "Epoch 1/30\n",
      "50000/50000 [==============================] - 3s 66us/sample - loss: 2.2532 - accuracy: 0.2478 - val_loss: 2.2061 - val_accuracy: 0.2081\n",
      "Epoch 2/30\n",
      "50000/50000 [==============================] - 2s 44us/sample - loss: 1.8179 - accuracy: 0.3596 - val_loss: 2.0039 - val_accuracy: 0.2875\n",
      "Epoch 3/30\n",
      "50000/50000 [==============================] - 2s 43us/sample - loss: 1.7037 - accuracy: 0.4000 - val_loss: 1.8779 - val_accuracy: 0.3406\n",
      "Epoch 4/30\n",
      "50000/50000 [==============================] - 2s 43us/sample - loss: 1.6376 - accuracy: 0.4238 - val_loss: 1.7609 - val_accuracy: 0.3852\n",
      "Epoch 5/30\n",
      "50000/50000 [==============================] - 2s 44us/sample - loss: 1.5906 - accuracy: 0.4394 - val_loss: 1.7049 - val_accuracy: 0.3954\n",
      "Epoch 6/30\n",
      "50000/50000 [==============================] - 2s 43us/sample - loss: 1.5519 - accuracy: 0.4551 - val_loss: 1.6357 - val_accuracy: 0.4246\n",
      "Epoch 7/30\n",
      "50000/50000 [==============================] - 2s 45us/sample - loss: 1.5192 - accuracy: 0.4667 - val_loss: 1.5936 - val_accuracy: 0.4331\n",
      "Epoch 8/30\n",
      "50000/50000 [==============================] - 2s 47us/sample - loss: 1.4897 - accuracy: 0.4774 - val_loss: 1.5754 - val_accuracy: 0.4378\n",
      "Epoch 9/30\n",
      "50000/50000 [==============================] - 2s 43us/sample - loss: 1.4650 - accuracy: 0.4861 - val_loss: 1.5429 - val_accuracy: 0.4488\n",
      "Epoch 10/30\n",
      "50000/50000 [==============================] - 2s 43us/sample - loss: 1.4418 - accuracy: 0.4943 - val_loss: 1.5299 - val_accuracy: 0.4551\n",
      "Epoch 11/30\n",
      "50000/50000 [==============================] - 2s 43us/sample - loss: 1.4187 - accuracy: 0.5021 - val_loss: 1.5216 - val_accuracy: 0.4586\n",
      "Epoch 12/30\n",
      "50000/50000 [==============================] - 2s 43us/sample - loss: 1.3980 - accuracy: 0.5103 - val_loss: 1.5033 - val_accuracy: 0.4640\n",
      "Epoch 13/30\n",
      "50000/50000 [==============================] - 2s 44us/sample - loss: 1.3785 - accuracy: 0.5174 - val_loss: 1.4995 - val_accuracy: 0.4641\n",
      "Epoch 14/30\n",
      "50000/50000 [==============================] - 2s 45us/sample - loss: 1.3602 - accuracy: 0.5227 - val_loss: 1.4896 - val_accuracy: 0.4707\n",
      "Epoch 15/30\n",
      "50000/50000 [==============================] - 2s 44us/sample - loss: 1.3410 - accuracy: 0.5297 - val_loss: 1.4815 - val_accuracy: 0.4714\n",
      "Epoch 16/30\n",
      "50000/50000 [==============================] - 2s 45us/sample - loss: 1.3243 - accuracy: 0.5379 - val_loss: 1.4792 - val_accuracy: 0.4723\n",
      "Epoch 17/30\n",
      "50000/50000 [==============================] - 2s 44us/sample - loss: 1.3074 - accuracy: 0.5418 - val_loss: 1.4775 - val_accuracy: 0.4765\n",
      "Epoch 18/30\n",
      "50000/50000 [==============================] - 2s 44us/sample - loss: 1.2916 - accuracy: 0.5473 - val_loss: 1.4722 - val_accuracy: 0.4752\n",
      "Epoch 19/30\n",
      "50000/50000 [==============================] - 2s 43us/sample - loss: 1.2765 - accuracy: 0.5536 - val_loss: 1.4645 - val_accuracy: 0.4830\n",
      "Epoch 20/30\n",
      "50000/50000 [==============================] - 2s 43us/sample - loss: 1.2605 - accuracy: 0.5602 - val_loss: 1.4660 - val_accuracy: 0.4798\n",
      "Epoch 21/30\n",
      "50000/50000 [==============================] - 2s 43us/sample - loss: 1.2455 - accuracy: 0.5646 - val_loss: 1.4653 - val_accuracy: 0.4780\n",
      "Epoch 22/30\n",
      "50000/50000 [==============================] - 2s 43us/sample - loss: 1.2305 - accuracy: 0.5709 - val_loss: 1.4589 - val_accuracy: 0.4855\n",
      "Epoch 23/30\n",
      "50000/50000 [==============================] - 2s 43us/sample - loss: 1.2154 - accuracy: 0.5746 - val_loss: 1.4674 - val_accuracy: 0.4820\n",
      "Epoch 24/30\n",
      "50000/50000 [==============================] - 2s 43us/sample - loss: 1.2023 - accuracy: 0.5804 - val_loss: 1.4700 - val_accuracy: 0.4829\n",
      "Epoch 25/30\n",
      "50000/50000 [==============================] - 2s 42us/sample - loss: 1.1877 - accuracy: 0.5865 - val_loss: 1.4584 - val_accuracy: 0.4833\n",
      "Epoch 26/30\n",
      "50000/50000 [==============================] - 2s 45us/sample - loss: 1.1734 - accuracy: 0.5922 - val_loss: 1.4664 - val_accuracy: 0.4848\n",
      "Epoch 27/30\n",
      "50000/50000 [==============================] - 2s 44us/sample - loss: 1.1605 - accuracy: 0.5973 - val_loss: 1.4581 - val_accuracy: 0.4914\n",
      "Epoch 28/30\n",
      "50000/50000 [==============================] - 2s 43us/sample - loss: 1.1480 - accuracy: 0.6018 - val_loss: 1.4581 - val_accuracy: 0.4882\n",
      "Epoch 29/30\n",
      "50000/50000 [==============================] - 2s 43us/sample - loss: 1.1337 - accuracy: 0.6068 - val_loss: 1.4570 - val_accuracy: 0.4905\n",
      "Epoch 30/30\n",
      "50000/50000 [==============================] - 2s 44us/sample - loss: 1.1197 - accuracy: 0.6107 - val_loss: 1.4516 - val_accuracy: 0.4917\n"
     ]
    },
    {
     "data": {
      "text/plain": [
       "<tensorflow.python.keras.callbacks.History at 0x24404bb32e8>"
      ]
     },
     "execution_count": 7,
     "metadata": {},
     "output_type": "execute_result"
    }
   ],
   "source": [
    "model = build_mlp(input_shape=x_train.shape[1:])\n",
    "model.summary()\n",
    "optimizer = keras.optimizers.SGD(lr=LEARNING_RATE, nesterov=True, momentum=MOMENTUM)\n",
    "model.compile(loss=\"categorical_crossentropy\", metrics=[\"accuracy\"], optimizer=optimizer)\n",
    "\n",
    "model.fit(x_train, y_train, \n",
    "          epochs=EPOCHS, \n",
    "          batch_size=BATCH_SIZE, \n",
    "          validation_data=(x_test, y_test), \n",
    "          shuffle=True)"
   ]
  },
  {
   "cell_type": "code",
   "execution_count": 8,
   "metadata": {},
   "outputs": [],
   "source": [
    "# Collect results\n",
    "train_loss = model.history.history[\"loss\"]\n",
    "valid_loss = model.history.history[\"val_loss\"]\n",
    "train_acc = model.history.history[\"accuracy\"]\n",
    "valid_acc = model.history.history[\"val_accuracy\"]"
   ]
  },
  {
   "cell_type": "code",
   "execution_count": 9,
   "metadata": {},
   "outputs": [
    {
     "data": {
      "image/png": "[encoded data removed]",
      "text/plain": [
       "<Figure size 432x288 with 1 Axes>"
      ]
     },
     "metadata": {
      "needs_background": "light"
     },
     "output_type": "display_data"
    },
    {
     "data": {
      "image/png": "[encoded data removed]",
      "text/plain": [
       "<Figure size 432x288 with 1 Axes>"
      ]
     },
     "metadata": {
      "needs_background": "light"
     },
     "output_type": "display_data"
    }
   ],
   "source": [
    "import matplotlib.pyplot as plt\n",
    "%matplotlib inline\n",
    "\n",
    "plt.plot(range(len(train_loss)), train_loss, label=\"train loss\")\n",
    "plt.plot(range(len(valid_loss)), valid_loss, label=\"valid loss\")\n",
    "plt.legend()\n",
    "plt.title(\"Loss\")\n",
    "plt.show()\n",
    "\n",
    "plt.plot(range(len(train_acc)), train_acc, label=\"train accuracy\")\n",
    "plt.plot(range(len(valid_acc)), valid_acc, label=\"valid accuracy\")\n",
    "plt.legend()\n",
    "plt.title(\"Accuracy\")\n",
    "plt.show()"
   ]
  },
  {
   "cell_type": "markdown",
   "metadata": {},
   "source": [
    "## Work\n",
    "1. 試比較有 BN 在 Batch_size = 2, 16, 32, 128, 256 下的差異\n",
    "2. 請嘗試將 BN 放在 Activation 之前，並比較訓練結果\n",
    "3. 請於 BN 放在 Input Layer 後，並比較結果"
   ]
  }
 ],
 "metadata": {
  "kernelspec": {
   "display_name": "Python 3",
   "language": "python",
   "name": "python3"
  },
  "language_info": {
   "codemirror_mode": {
    "name": "ipython",
    "version": 3
   },
   "file_extension": ".py",
   "mimetype": "text/x-python",
   "name": "python",
   "nbconvert_exporter": "python",
   "pygments_lexer": "ipython3",
   "version": "3.7.3"
  }
 },
 "nbformat": 4,
 "nbformat_minor": 2
}
