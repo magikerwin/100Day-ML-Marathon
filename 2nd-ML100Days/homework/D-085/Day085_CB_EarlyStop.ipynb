{
 "cells": [
  {
   "cell_type": "markdown",
   "metadata": {},
   "source": [
    "## 範例重點\n",
    "* 學習如何在 keras 中加入 EarlyStop\n",
    "* 知道如何設定監控目標\n",
    "* 比較有無 earlystopping 對 validation 的影響"
   ]
  },
  {
   "cell_type": "code",
   "execution_count": 1,
   "metadata": {},
   "outputs": [],
   "source": [
    "import os\n",
    "from tensorflow import keras\n",
    "\n",
    "# 本範例不需使用 GPU, 將 GPU 設定為 \"無\"\n",
    "os.environ[\"CUDA_VISIBLE_DEVICES\"] = \"0\""
   ]
  },
  {
   "cell_type": "code",
   "execution_count": 2,
   "metadata": {},
   "outputs": [],
   "source": [
    "train, test = keras.datasets.cifar10.load_data()"
   ]
  },
  {
   "cell_type": "code",
   "execution_count": 3,
   "metadata": {},
   "outputs": [],
   "source": [
    "## 資料前處理\n",
    "def preproc_x(x, flatten=True):\n",
    "    x = x / 255.\n",
    "    if flatten:\n",
    "        x = x.reshape((len(x), -1))\n",
    "    return x\n",
    "\n",
    "def preproc_y(y, num_classes=10):\n",
    "    if y.shape[-1] == 1:\n",
    "        y = keras.utils.to_categorical(y, num_classes)\n",
    "    return y    "
   ]
  },
  {
   "cell_type": "code",
   "execution_count": 4,
   "metadata": {},
   "outputs": [],
   "source": [
    "x_train, y_train = train\n",
    "x_test, y_test = test\n",
    "\n",
    "# 資料前處理 - X 標準化\n",
    "x_train = preproc_x(x_train)\n",
    "x_test = preproc_x(x_test)\n",
    "\n",
    "# 資料前處理 -Y 轉成 onehot\n",
    "y_train = preproc_y(y_train)\n",
    "y_test = preproc_y(y_test)"
   ]
  },
  {
   "cell_type": "code",
   "execution_count": 5,
   "metadata": {},
   "outputs": [],
   "source": [
    "from tensorflow.keras.layers import BatchNormalization\n",
    "\n",
    "\"\"\"\n",
    "建立神經網路，並加入 BN layer\n",
    "\"\"\"\n",
    "def build_mlp(input_shape, output_units=10, num_neurons=[256, 128, 64]):\n",
    "    input_layer = keras.layers.Input(input_shape)\n",
    "    \n",
    "    for i, n_units in enumerate(num_neurons):\n",
    "        if i == 0:\n",
    "            x = keras.layers.Dense(units=n_units, \n",
    "                                   activation=\"relu\", \n",
    "                                   name=\"hidden_layer\"+str(i+1))(input_layer)\n",
    "            x = BatchNormalization()(x)\n",
    "        else:\n",
    "            x = keras.layers.Dense(units=n_units, \n",
    "                                   activation=\"relu\", \n",
    "                                   name=\"hidden_layer\"+str(i+1))(x)\n",
    "            x = BatchNormalization()(x)\n",
    "    \n",
    "    out = keras.layers.Dense(units=output_units, activation=\"softmax\", name=\"output\")(x)\n",
    "    \n",
    "    model = keras.models.Model(inputs=[input_layer], outputs=[out])\n",
    "    return model"
   ]
  },
  {
   "cell_type": "code",
   "execution_count": 7,
   "metadata": {},
   "outputs": [],
   "source": [
    "## 超參數設定\n",
    "LEARNING_RATE = 1e-3\n",
    "EPOCHS = 50\n",
    "BATCH_SIZE = 1024\n",
    "MOMENTUM = 0.95"
   ]
  },
  {
   "cell_type": "code",
   "execution_count": 9,
   "metadata": {},
   "outputs": [],
   "source": [
    "\"\"\"\n",
    "# 載入 Callbacks, 並將 monitor 設定為監控 validation loss\n",
    "\"\"\"\n",
    "from tensorflow.keras.callbacks import EarlyStopping\n",
    "\n",
    "earlystop = EarlyStopping(monitor=\"val_loss\", \n",
    "                          patience=5, \n",
    "                          verbose=1\n",
    "                          )"
   ]
  },
  {
   "cell_type": "code",
   "execution_count": 10,
   "metadata": {
    "scrolled": true
   },
   "outputs": [
    {
     "name": "stderr",
     "output_type": "stream",
     "text": [
      "WARNING: Logging before flag parsing goes to stderr.\n",
      "W0720 17:57:39.040111 10944 deprecation.py:323] From c:\\users\\qwerz\\miniconda3\\envs\\ml100\\lib\\site-packages\\tensorflow\\python\\ops\\math_grad.py:1250: add_dispatch_support.<locals>.wrapper (from tensorflow.python.ops.array_ops) is deprecated and will be removed in a future version.\n",
      "Instructions for updating:\n",
      "Use tf.where in 2.0, which has the same broadcast rule as np.where\n"
     ]
    },
    {
     "name": "stdout",
     "output_type": "stream",
     "text": [
      "Model: \"model\"\n",
      "_________________________________________________________________\n",
      "Layer (type)                 Output Shape              Param #   \n",
      "=================================================================\n",
      "input_1 (InputLayer)         [(None, 3072)]            0         \n",
      "_________________________________________________________________\n",
      "hidden_layer1 (Dense)        (None, 256)               786688    \n",
      "_________________________________________________________________\n",
      "batch_normalization (BatchNo (None, 256)               1024      \n",
      "_________________________________________________________________\n",
      "hidden_layer2 (Dense)        (None, 128)               32896     \n",
      "_________________________________________________________________\n",
      "batch_normalization_1 (Batch (None, 128)               512       \n",
      "_________________________________________________________________\n",
      "hidden_layer3 (Dense)        (None, 64)                8256      \n",
      "_________________________________________________________________\n",
      "batch_normalization_2 (Batch (None, 64)                256       \n",
      "_________________________________________________________________\n",
      "output (Dense)               (None, 10)                650       \n",
      "=================================================================\n",
      "Total params: 830,282\n",
      "Trainable params: 829,386\n",
      "Non-trainable params: 896\n",
      "_________________________________________________________________\n",
      "Train on 50000 samples, validate on 10000 samples\n",
      "Epoch 1/50\n",
      "50000/50000 [==============================] - 3s 65us/sample - loss: 2.2453 - accuracy: 0.2584 - val_loss: 2.1265 - val_accuracy: 0.2135\n",
      "Epoch 2/50\n",
      "50000/50000 [==============================] - 2s 43us/sample - loss: 1.8131 - accuracy: 0.3694 - val_loss: 1.9691 - val_accuracy: 0.3019\n",
      "Epoch 3/50\n",
      "50000/50000 [==============================] - 2s 43us/sample - loss: 1.6927 - accuracy: 0.4076 - val_loss: 1.8180 - val_accuracy: 0.3665\n",
      "Epoch 4/50\n",
      "50000/50000 [==============================] - 2s 43us/sample - loss: 1.6255 - accuracy: 0.4307 - val_loss: 1.7206 - val_accuracy: 0.4085\n",
      "Epoch 5/50\n",
      "50000/50000 [==============================] - 2s 44us/sample - loss: 1.5745 - accuracy: 0.4488 - val_loss: 1.6559 - val_accuracy: 0.4265\n",
      "Epoch 6/50\n",
      "50000/50000 [==============================] - 2s 43us/sample - loss: 1.5341 - accuracy: 0.4630 - val_loss: 1.6108 - val_accuracy: 0.4419\n",
      "Epoch 7/50\n",
      "50000/50000 [==============================] - 2s 44us/sample - loss: 1.5000 - accuracy: 0.4744 - val_loss: 1.5819 - val_accuracy: 0.4507\n",
      "Epoch 8/50\n",
      "50000/50000 [==============================] - 2s 45us/sample - loss: 1.4689 - accuracy: 0.4865 - val_loss: 1.5549 - val_accuracy: 0.4578\n",
      "Epoch 9/50\n",
      "50000/50000 [==============================] - 2s 49us/sample - loss: 1.4435 - accuracy: 0.4948 - val_loss: 1.5588 - val_accuracy: 0.4505\n",
      "Epoch 10/50\n",
      "50000/50000 [==============================] - 2s 44us/sample - loss: 1.4176 - accuracy: 0.5030 - val_loss: 1.5287 - val_accuracy: 0.4639\n",
      "Epoch 11/50\n",
      "50000/50000 [==============================] - 2s 45us/sample - loss: 1.3951 - accuracy: 0.5111 - val_loss: 1.5185 - val_accuracy: 0.4613\n",
      "Epoch 12/50\n",
      "50000/50000 [==============================] - 2s 45us/sample - loss: 1.3744 - accuracy: 0.5173 - val_loss: 1.5068 - val_accuracy: 0.4711\n",
      "Epoch 13/50\n",
      "50000/50000 [==============================] - 2s 48us/sample - loss: 1.3528 - accuracy: 0.5281 - val_loss: 1.4972 - val_accuracy: 0.4724\n",
      "Epoch 14/50\n",
      "50000/50000 [==============================] - 2s 45us/sample - loss: 1.3345 - accuracy: 0.5326 - val_loss: 1.4945 - val_accuracy: 0.4753\n",
      "Epoch 15/50\n",
      "50000/50000 [==============================] - 2s 44us/sample - loss: 1.3167 - accuracy: 0.5397 - val_loss: 1.4886 - val_accuracy: 0.4777\n",
      "Epoch 16/50\n",
      "50000/50000 [==============================] - 2s 44us/sample - loss: 1.2973 - accuracy: 0.5483 - val_loss: 1.4780 - val_accuracy: 0.4853\n",
      "Epoch 17/50\n",
      "50000/50000 [==============================] - 2s 44us/sample - loss: 1.2799 - accuracy: 0.5525 - val_loss: 1.4702 - val_accuracy: 0.4861\n",
      "Epoch 18/50\n",
      "50000/50000 [==============================] - 2s 43us/sample - loss: 1.2641 - accuracy: 0.5577 - val_loss: 1.4699 - val_accuracy: 0.4829\n",
      "Epoch 19/50\n",
      "50000/50000 [==============================] - 2s 43us/sample - loss: 1.2493 - accuracy: 0.5628 - val_loss: 1.4682 - val_accuracy: 0.4862\n",
      "Epoch 20/50\n",
      "50000/50000 [==============================] - 2s 43us/sample - loss: 1.2330 - accuracy: 0.5692 - val_loss: 1.4746 - val_accuracy: 0.4778\n",
      "Epoch 21/50\n",
      "50000/50000 [==============================] - 2s 43us/sample - loss: 1.2172 - accuracy: 0.5770 - val_loss: 1.4669 - val_accuracy: 0.4856\n",
      "Epoch 22/50\n",
      "50000/50000 [==============================] - 2s 44us/sample - loss: 1.2028 - accuracy: 0.5810 - val_loss: 1.4596 - val_accuracy: 0.4896\n",
      "Epoch 23/50\n",
      "50000/50000 [==============================] - 2s 43us/sample - loss: 1.1888 - accuracy: 0.5855 - val_loss: 1.4561 - val_accuracy: 0.4903\n",
      "Epoch 24/50\n",
      "50000/50000 [==============================] - 2s 43us/sample - loss: 1.1765 - accuracy: 0.5915 - val_loss: 1.4698 - val_accuracy: 0.4827\n",
      "Epoch 25/50\n",
      "50000/50000 [==============================] - 2s 43us/sample - loss: 1.1607 - accuracy: 0.5980 - val_loss: 1.4624 - val_accuracy: 0.4915\n",
      "Epoch 26/50\n",
      "50000/50000 [==============================] - 2s 45us/sample - loss: 1.1462 - accuracy: 0.6016 - val_loss: 1.4766 - val_accuracy: 0.4896\n",
      "Epoch 27/50\n",
      "50000/50000 [==============================] - 2s 43us/sample - loss: 1.1325 - accuracy: 0.6069 - val_loss: 1.4580 - val_accuracy: 0.4921\n",
      "Epoch 28/50\n",
      "50000/50000 [==============================] - 2s 43us/sample - loss: 1.1206 - accuracy: 0.6110 - val_loss: 1.4698 - val_accuracy: 0.4896\n",
      "Epoch 00028: early stopping\n"
     ]
    },
    {
     "ename": "KeyError",
     "evalue": "'acc'",
     "output_type": "error",
     "traceback": [
      "\u001b[1;31m---------------------------------------------------------------------------\u001b[0m",
      "\u001b[1;31mKeyError\u001b[0m                                  Traceback (most recent call last)",
      "\u001b[1;32m<ipython-input-10-e9c4c8d44106>\u001b[0m in \u001b[0;36m<module>\u001b[1;34m\u001b[0m\n\u001b[0;32m     15\u001b[0m \u001b[0mtrain_loss\u001b[0m \u001b[1;33m=\u001b[0m \u001b[0mmodel\u001b[0m\u001b[1;33m.\u001b[0m\u001b[0mhistory\u001b[0m\u001b[1;33m.\u001b[0m\u001b[0mhistory\u001b[0m\u001b[1;33m[\u001b[0m\u001b[1;34m\"loss\"\u001b[0m\u001b[1;33m]\u001b[0m\u001b[1;33m\u001b[0m\u001b[1;33m\u001b[0m\u001b[0m\n\u001b[0;32m     16\u001b[0m \u001b[0mvalid_loss\u001b[0m \u001b[1;33m=\u001b[0m \u001b[0mmodel\u001b[0m\u001b[1;33m.\u001b[0m\u001b[0mhistory\u001b[0m\u001b[1;33m.\u001b[0m\u001b[0mhistory\u001b[0m\u001b[1;33m[\u001b[0m\u001b[1;34m\"val_loss\"\u001b[0m\u001b[1;33m]\u001b[0m\u001b[1;33m\u001b[0m\u001b[1;33m\u001b[0m\u001b[0m\n\u001b[1;32m---> 17\u001b[1;33m \u001b[0mtrain_acc\u001b[0m \u001b[1;33m=\u001b[0m \u001b[0mmodel\u001b[0m\u001b[1;33m.\u001b[0m\u001b[0mhistory\u001b[0m\u001b[1;33m.\u001b[0m\u001b[0mhistory\u001b[0m\u001b[1;33m[\u001b[0m\u001b[1;34m\"acc\"\u001b[0m\u001b[1;33m]\u001b[0m\u001b[1;33m\u001b[0m\u001b[1;33m\u001b[0m\u001b[0m\n\u001b[0m\u001b[0;32m     18\u001b[0m \u001b[0mvalid_acc\u001b[0m \u001b[1;33m=\u001b[0m \u001b[0mmodel\u001b[0m\u001b[1;33m.\u001b[0m\u001b[0mhistory\u001b[0m\u001b[1;33m.\u001b[0m\u001b[0mhistory\u001b[0m\u001b[1;33m[\u001b[0m\u001b[1;34m\"val_acc\"\u001b[0m\u001b[1;33m]\u001b[0m\u001b[1;33m\u001b[0m\u001b[1;33m\u001b[0m\u001b[0m\n",
      "\u001b[1;31mKeyError\u001b[0m: 'acc'"
     ]
    }
   ],
   "source": [
    "model = build_mlp(input_shape=x_train.shape[1:])\n",
    "model.summary()\n",
    "optimizer = keras.optimizers.SGD(lr=LEARNING_RATE, nesterov=True, momentum=MOMENTUM)\n",
    "model.compile(loss=\"categorical_crossentropy\", metrics=[\"accuracy\"], optimizer=optimizer)\n",
    "\n",
    "model.fit(x_train, y_train, \n",
    "          epochs=EPOCHS, \n",
    "          batch_size=BATCH_SIZE, \n",
    "          validation_data=(x_test, y_test), \n",
    "          shuffle=True,\n",
    "          callbacks=[earlystop]\n",
    "         )"
   ]
  },
  {
   "cell_type": "code",
   "execution_count": 11,
   "metadata": {},
   "outputs": [],
   "source": [
    "# Collect results\n",
    "train_loss = model.history.history[\"loss\"]\n",
    "valid_loss = model.history.history[\"val_loss\"]\n",
    "train_acc = model.history.history[\"accuracy\"]\n",
    "valid_acc = model.history.history[\"val_accuracy\"]"
   ]
  },
  {
   "cell_type": "code",
   "execution_count": 12,
   "metadata": {},
   "outputs": [
    {
     "data": {
      "image/png": "[encoded data removed]",
      "text/plain": [
       "<Figure size 432x288 with 1 Axes>"
      ]
     },
     "metadata": {
      "needs_background": "light"
     },
     "output_type": "display_data"
    },
    {
     "data": {
      "image/png": "[encoded data removed]",
      "text/plain": [
       "<Figure size 432x288 with 1 Axes>"
      ]
     },
     "metadata": {
      "needs_background": "light"
     },
     "output_type": "display_data"
    }
   ],
   "source": [
    "import matplotlib.pyplot as plt\n",
    "%matplotlib inline\n",
    "\n",
    "plt.plot(range(len(train_loss)), train_loss, label=\"train loss\")\n",
    "plt.plot(range(len(valid_loss)), valid_loss, label=\"valid loss\")\n",
    "plt.legend()\n",
    "plt.title(\"Loss\")\n",
    "plt.show()\n",
    "\n",
    "plt.plot(range(len(train_acc)), train_acc, label=\"train accuracy\")\n",
    "plt.plot(range(len(valid_acc)), valid_acc, label=\"valid accuracy\")\n",
    "plt.legend()\n",
    "plt.title(\"Accuracy\")\n",
    "plt.show()"
   ]
  },
  {
   "cell_type": "markdown",
   "metadata": {},
   "source": [
    "## Work\n",
    "1. 試改變 monitor \"Validation Accuracy\" 並比較結果\n",
    "2. 調整 earlystop 的等待次數至 10, 25 並比較結果"
   ]
  }
 ],
 "metadata": {
  "kernelspec": {
   "display_name": "Python 3",
   "language": "python",
   "name": "python3"
  },
  "language_info": {
   "codemirror_mode": {
    "name": "ipython",
    "version": 3
   },
   "file_extension": ".py",
   "mimetype": "text/x-python",
   "name": "python",
   "nbconvert_exporter": "python",
   "pygments_lexer": "ipython3",
   "version": "3.7.3"
  }
 },
 "nbformat": 4,
 "nbformat_minor": 2
}
