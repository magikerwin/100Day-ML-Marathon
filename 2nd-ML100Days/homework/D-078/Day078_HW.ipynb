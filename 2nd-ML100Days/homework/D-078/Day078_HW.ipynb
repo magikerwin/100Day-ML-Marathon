{
 "cells": [
  {
   "cell_type": "markdown",
   "metadata": {},
   "source": [
    "## Work\n",
    "1. 請嘗試將 preproc_x 替換成以每筆資料的 min/max 進行標準化至 -1 ~ 1 間，再進行訓練\n",
    "2. 請嘗試將 mlp 疊更深 (e.g 5~10 層)，進行訓練後觀察 learning curve 的走勢\n",
    "3. (optional) 請改用 GPU 進行訓練 (如果你有 GPU 的話)，比較使用 CPU 與 GPU 的訓練速度"
   ]
  },
  {
   "cell_type": "code",
   "execution_count": 1,
   "metadata": {},
   "outputs": [
    {
     "data": {
      "text/plain": [
       "'\\nYour code here (optional)\\n確認硬體資源\\n'"
      ]
     },
     "execution_count": 1,
     "metadata": {},
     "output_type": "execute_result"
    }
   ],
   "source": [
    "## \n",
    "\"\"\"\n",
    "Your code here (optional)\n",
    "確認硬體資源\n",
    "\"\"\"\n"
   ]
  },
  {
   "cell_type": "code",
   "execution_count": 2,
   "metadata": {},
   "outputs": [],
   "source": [
    "import os\n",
    "from tensorflow import keras\n",
    "\n",
    "# 請嘗試設定 GPU：os.environ\n",
    "os.environ[\"CUDA_VISIBLE_DEVICES\"] = \"0\""
   ]
  },
  {
   "cell_type": "code",
   "execution_count": 3,
   "metadata": {},
   "outputs": [],
   "source": [
    "train, test = keras.datasets.cifar10.load_data()"
   ]
  },
  {
   "cell_type": "code",
   "execution_count": 4,
   "metadata": {},
   "outputs": [],
   "source": [
    "## 資料前處理\n",
    "\"\"\"\n",
    "Your code here\n",
    "\"\"\"\n",
    "def preproc_x(x, flatten=True):\n",
    "    x = 2*(x / 255.) - 1\n",
    "    if flatten:\n",
    "        x = x.reshape((len(x), -1))\n",
    "    return x\n",
    "\n",
    "def preproc_y(y, num_classes=10):\n",
    "    if y.shape[-1] == 1:\n",
    "        y = keras.utils.to_categorical(y, num_classes)\n",
    "    return y  "
   ]
  },
  {
   "cell_type": "code",
   "execution_count": 5,
   "metadata": {},
   "outputs": [],
   "source": [
    "x_train, y_train = train\n",
    "x_test, y_test = test\n",
    "\n",
    "# Preproc the inputs\n",
    "x_train = preproc_x(x_train)\n",
    "x_test = preproc_x(x_test)\n",
    "\n",
    "# Preprc the outputs\n",
    "y_train = preproc_y(y_train)\n",
    "y_test = preproc_y(y_test)"
   ]
  },
  {
   "cell_type": "code",
   "execution_count": 6,
   "metadata": {},
   "outputs": [
    {
     "name": "stdout",
     "output_type": "stream",
     "text": [
      "Model: \"model\"\n",
      "_________________________________________________________________\n",
      "Layer (type)                 Output Shape              Param #   \n",
      "=================================================================\n",
      "input_1 (InputLayer)         [(None, 3072)]            0         \n",
      "_________________________________________________________________\n",
      "hidden_layer1 (Dense)        (None, 256)               786688    \n",
      "_________________________________________________________________\n",
      "hidden_layer2 (Dense)        (None, 128)               32896     \n",
      "_________________________________________________________________\n",
      "hidden_layer3 (Dense)        (None, 64)                8256      \n",
      "_________________________________________________________________\n",
      "hidden_layer4 (Dense)        (None, 32)                2080      \n",
      "_________________________________________________________________\n",
      "hidden_layer5 (Dense)        (None, 16)                528       \n",
      "_________________________________________________________________\n",
      "output (Dense)               (None, 10)                170       \n",
      "=================================================================\n",
      "Total params: 830,618\n",
      "Trainable params: 830,618\n",
      "Non-trainable params: 0\n",
      "_________________________________________________________________\n"
     ]
    }
   ],
   "source": [
    "\"\"\"Code Here\n",
    "建立你的神經網路\n",
    "\"\"\"\n",
    "def build_mlp(input_shape, output_units=10, num_neurons=[256, 128, 64, 32, 16]):\n",
    "    input_layer = keras.layers.Input(input_shape)\n",
    "    \n",
    "    for i, n_units in enumerate(num_neurons):\n",
    "        if i == 0:\n",
    "            x = keras.layers.Dense(units=n_units, activation=\"relu\", name=\"hidden_layer\"+str(i+1))(input_layer)\n",
    "        else:\n",
    "            x = keras.layers.Dense(units=n_units, activation=\"relu\", name=\"hidden_layer\"+str(i+1))(x)\n",
    "    \n",
    "    out = keras.layers.Dense(units=output_units, activation=\"softmax\", name=\"output\")(x)\n",
    "    \n",
    "    model = keras.models.Model(inputs=[input_layer], outputs=[out])\n",
    "    return model\n",
    "model = build_mlp(input_shape=x_train.shape[1:])\n",
    "model.summary()"
   ]
  },
  {
   "cell_type": "code",
   "execution_count": 7,
   "metadata": {},
   "outputs": [],
   "source": [
    "## 超參數設定\n",
    "LEARNING_RATE = 0.001\n",
    "EPOCHS = 100\n",
    "BATCH_SIZE = 256"
   ]
  },
  {
   "cell_type": "code",
   "execution_count": 8,
   "metadata": {},
   "outputs": [],
   "source": [
    "optimizer = keras.optimizers.Adam(lr=LEARNING_RATE)\n",
    "model.compile(loss=\"categorical_crossentropy\", metrics=[\"accuracy\"], optimizer=optimizer)"
   ]
  },
  {
   "cell_type": "code",
   "execution_count": 9,
   "metadata": {},
   "outputs": [
    {
     "name": "stderr",
     "output_type": "stream",
     "text": [
      "WARNING: Logging before flag parsing goes to stderr.\n",
      "W0714 21:48:20.097329  8484 deprecation.py:323] From C:\\Users\\qwerz\\Miniconda3\\envs\\ML100\\lib\\site-packages\\tensorflow\\python\\ops\\math_grad.py:1250: add_dispatch_support.<locals>.wrapper (from tensorflow.python.ops.array_ops) is deprecated and will be removed in a future version.\n",
      "Instructions for updating:\n",
      "Use tf.where in 2.0, which has the same broadcast rule as np.where\n"
     ]
    },
    {
     "name": "stdout",
     "output_type": "stream",
     "text": [
      "Train on 50000 samples, validate on 10000 samples\n",
      "Epoch 1/100\n",
      "50000/50000 [==============================] - 3s 66us/sample - loss: 1.7896 - accuracy: 0.3706 - val_loss: 1.5741 - val_accuracy: 0.4475\n",
      "Epoch 2/100\n",
      "50000/50000 [==============================] - 3s 55us/sample - loss: 1.5143 - accuracy: 0.4663 - val_loss: 1.4799 - val_accuracy: 0.4697\n",
      "Epoch 3/100\n",
      "50000/50000 [==============================] - 3s 53us/sample - loss: 1.4010 - accuracy: 0.5082 - val_loss: 1.4440 - val_accuracy: 0.4866\n",
      "Epoch 4/100\n",
      "50000/50000 [==============================] - 3s 54us/sample - loss: 1.3138 - accuracy: 0.5360 - val_loss: 1.4232 - val_accuracy: 0.4968\n",
      "Epoch 5/100\n",
      "50000/50000 [==============================] - 3s 54us/sample - loss: 1.2402 - accuracy: 0.5651 - val_loss: 1.3981 - val_accuracy: 0.5107\n",
      "Epoch 6/100\n",
      "50000/50000 [==============================] - 3s 56us/sample - loss: 1.1799 - accuracy: 0.5843 - val_loss: 1.3989 - val_accuracy: 0.5153\n",
      "Epoch 7/100\n",
      "50000/50000 [==============================] - 3s 57us/sample - loss: 1.1149 - accuracy: 0.6061 - val_loss: 1.4034 - val_accuracy: 0.5169\n",
      "Epoch 8/100\n",
      "50000/50000 [==============================] - 3s 56us/sample - loss: 1.0598 - accuracy: 0.6273 - val_loss: 1.4012 - val_accuracy: 0.5257\n",
      "Epoch 9/100\n",
      "50000/50000 [==============================] - 3s 55us/sample - loss: 1.0074 - accuracy: 0.6418 - val_loss: 1.4213 - val_accuracy: 0.5221\n",
      "Epoch 10/100\n",
      "50000/50000 [==============================] - 3s 53us/sample - loss: 0.9583 - accuracy: 0.6599 - val_loss: 1.4518 - val_accuracy: 0.5173\n",
      "Epoch 11/100\n",
      "50000/50000 [==============================] - 3s 54us/sample - loss: 0.9125 - accuracy: 0.6766 - val_loss: 1.4460 - val_accuracy: 0.5265\n",
      "Epoch 12/100\n",
      "50000/50000 [==============================] - 3s 58us/sample - loss: 0.8645 - accuracy: 0.6937 - val_loss: 1.4928 - val_accuracy: 0.5218\n",
      "Epoch 13/100\n",
      "50000/50000 [==============================] - 3s 54us/sample - loss: 0.8135 - accuracy: 0.7102 - val_loss: 1.5299 - val_accuracy: 0.5252\n",
      "Epoch 14/100\n",
      "50000/50000 [==============================] - 3s 54us/sample - loss: 0.7759 - accuracy: 0.7270 - val_loss: 1.5664 - val_accuracy: 0.5246\n",
      "Epoch 15/100\n",
      "50000/50000 [==============================] - 3s 54us/sample - loss: 0.7373 - accuracy: 0.7380 - val_loss: 1.6123 - val_accuracy: 0.5223\n",
      "Epoch 16/100\n",
      "50000/50000 [==============================] - 3s 53us/sample - loss: 0.6905 - accuracy: 0.7558 - val_loss: 1.6775 - val_accuracy: 0.5210\n",
      "Epoch 17/100\n",
      "50000/50000 [==============================] - 3s 53us/sample - loss: 0.6705 - accuracy: 0.7619 - val_loss: 1.7002 - val_accuracy: 0.5218\n",
      "Epoch 18/100\n",
      "50000/50000 [==============================] - 3s 53us/sample - loss: 0.6231 - accuracy: 0.7791 - val_loss: 1.7328 - val_accuracy: 0.5269\n",
      "Epoch 19/100\n",
      "50000/50000 [==============================] - 3s 54us/sample - loss: 0.5908 - accuracy: 0.7918 - val_loss: 1.8380 - val_accuracy: 0.5193\n",
      "Epoch 20/100\n",
      "50000/50000 [==============================] - 3s 55us/sample - loss: 0.5676 - accuracy: 0.8004 - val_loss: 1.8683 - val_accuracy: 0.5116\n",
      "Epoch 21/100\n",
      "50000/50000 [==============================] - 3s 53us/sample - loss: 0.5334 - accuracy: 0.8106 - val_loss: 1.9510 - val_accuracy: 0.5214\n",
      "Epoch 22/100\n",
      "50000/50000 [==============================] - 3s 54us/sample - loss: 0.4978 - accuracy: 0.8232 - val_loss: 2.0201 - val_accuracy: 0.5188\n",
      "Epoch 23/100\n",
      "50000/50000 [==============================] - 3s 54us/sample - loss: 0.4814 - accuracy: 0.8303 - val_loss: 2.0718 - val_accuracy: 0.5168\n",
      "Epoch 24/100\n",
      "50000/50000 [==============================] - 3s 56us/sample - loss: 0.4525 - accuracy: 0.8401 - val_loss: 2.1420 - val_accuracy: 0.5185\n",
      "Epoch 25/100\n",
      "50000/50000 [==============================] - 3s 55us/sample - loss: 0.4330 - accuracy: 0.8473 - val_loss: 2.2118 - val_accuracy: 0.5118\n",
      "Epoch 26/100\n",
      "50000/50000 [==============================] - 3s 54us/sample - loss: 0.4225 - accuracy: 0.8497 - val_loss: 2.2009 - val_accuracy: 0.5117\n",
      "Epoch 27/100\n",
      "50000/50000 [==============================] - 3s 55us/sample - loss: 0.3913 - accuracy: 0.8608 - val_loss: 2.2784 - val_accuracy: 0.5199\n",
      "Epoch 28/100\n",
      "50000/50000 [==============================] - 3s 55us/sample - loss: 0.3775 - accuracy: 0.8677 - val_loss: 2.3527 - val_accuracy: 0.5125\n",
      "Epoch 29/100\n",
      "50000/50000 [==============================] - 3s 54us/sample - loss: 0.3662 - accuracy: 0.8711 - val_loss: 2.4146 - val_accuracy: 0.5093\n",
      "Epoch 30/100\n",
      "50000/50000 [==============================] - 3s 55us/sample - loss: 0.3364 - accuracy: 0.8814 - val_loss: 2.4851 - val_accuracy: 0.5109\n",
      "Epoch 31/100\n",
      "50000/50000 [==============================] - 3s 54us/sample - loss: 0.3344 - accuracy: 0.8820 - val_loss: 2.5661 - val_accuracy: 0.5082\n",
      "Epoch 32/100\n",
      "50000/50000 [==============================] - 3s 55us/sample - loss: 0.3234 - accuracy: 0.8847 - val_loss: 2.6070 - val_accuracy: 0.5153\n",
      "Epoch 33/100\n",
      "50000/50000 [==============================] - 3s 54us/sample - loss: 0.3027 - accuracy: 0.8934 - val_loss: 2.7056 - val_accuracy: 0.5118\n",
      "Epoch 34/100\n",
      "50000/50000 [==============================] - 3s 53us/sample - loss: 0.2862 - accuracy: 0.8989 - val_loss: 2.7588 - val_accuracy: 0.5050\n",
      "Epoch 35/100\n",
      "50000/50000 [==============================] - 3s 55us/sample - loss: 0.2894 - accuracy: 0.8986 - val_loss: 2.8110 - val_accuracy: 0.5113\n",
      "Epoch 36/100\n",
      "50000/50000 [==============================] - 3s 55us/sample - loss: 0.2728 - accuracy: 0.9035 - val_loss: 2.8160 - val_accuracy: 0.5064\n",
      "Epoch 37/100\n",
      "50000/50000 [==============================] - 3s 54us/sample - loss: 0.2523 - accuracy: 0.9118 - val_loss: 2.9105 - val_accuracy: 0.5006\n",
      "Epoch 38/100\n",
      "50000/50000 [==============================] - 3s 55us/sample - loss: 0.2506 - accuracy: 0.9119 - val_loss: 2.9306 - val_accuracy: 0.5057\n",
      "Epoch 39/100\n",
      "50000/50000 [==============================] - 3s 55us/sample - loss: 0.2443 - accuracy: 0.9152 - val_loss: 3.0220 - val_accuracy: 0.5061\n",
      "Epoch 40/100\n",
      "50000/50000 [==============================] - 3s 54us/sample - loss: 0.2321 - accuracy: 0.9197 - val_loss: 2.9960 - val_accuracy: 0.5111\n",
      "Epoch 41/100\n",
      "50000/50000 [==============================] - 3s 55us/sample - loss: 0.2261 - accuracy: 0.9205 - val_loss: 3.1327 - val_accuracy: 0.5053\n",
      "Epoch 42/100\n",
      "50000/50000 [==============================] - 3s 55us/sample - loss: 0.2509 - accuracy: 0.9120 - val_loss: 3.0989 - val_accuracy: 0.5104\n",
      "Epoch 43/100\n",
      "50000/50000 [==============================] - 3s 54us/sample - loss: 0.2169 - accuracy: 0.9231 - val_loss: 3.2120 - val_accuracy: 0.5066\n",
      "Epoch 44/100\n",
      "50000/50000 [==============================] - 3s 55us/sample - loss: 0.1934 - accuracy: 0.9319 - val_loss: 3.1493 - val_accuracy: 0.5123\n",
      "Epoch 45/100\n",
      "50000/50000 [==============================] - 3s 54us/sample - loss: 0.2154 - accuracy: 0.9254 - val_loss: 3.1879 - val_accuracy: 0.5076\n",
      "Epoch 46/100\n",
      "50000/50000 [==============================] - 3s 54us/sample - loss: 0.2148 - accuracy: 0.9243 - val_loss: 3.2746 - val_accuracy: 0.5131\n",
      "Epoch 47/100\n",
      "50000/50000 [==============================] - 3s 56us/sample - loss: 0.1986 - accuracy: 0.9321 - val_loss: 3.3586 - val_accuracy: 0.5098\n",
      "Epoch 48/100\n",
      "50000/50000 [==============================] - 3s 55us/sample - loss: 0.1927 - accuracy: 0.9328 - val_loss: 3.3089 - val_accuracy: 0.5094\n",
      "Epoch 49/100\n",
      "50000/50000 [==============================] - 3s 55us/sample - loss: 0.1764 - accuracy: 0.9390 - val_loss: 3.3399 - val_accuracy: 0.5077\n",
      "Epoch 50/100\n",
      "50000/50000 [==============================] - 3s 54us/sample - loss: 0.1824 - accuracy: 0.9374 - val_loss: 3.5213 - val_accuracy: 0.5013\n",
      "Epoch 51/100\n",
      "50000/50000 [==============================] - 3s 55us/sample - loss: 0.2135 - accuracy: 0.9267 - val_loss: 3.4476 - val_accuracy: 0.5015\n",
      "Epoch 52/100\n",
      "50000/50000 [==============================] - 3s 55us/sample - loss: 0.1675 - accuracy: 0.9414 - val_loss: 3.5218 - val_accuracy: 0.5067\n",
      "Epoch 53/100\n",
      "50000/50000 [==============================] - 3s 54us/sample - loss: 0.1573 - accuracy: 0.9452 - val_loss: 3.5164 - val_accuracy: 0.5031\n",
      "Epoch 54/100\n",
      "50000/50000 [==============================] - 3s 55us/sample - loss: 0.1720 - accuracy: 0.9404 - val_loss: 3.5473 - val_accuracy: 0.4947\n"
     ]
    },
    {
     "name": "stdout",
     "output_type": "stream",
     "text": [
      "Epoch 55/100\n",
      "50000/50000 [==============================] - 3s 55us/sample - loss: 0.1814 - accuracy: 0.9371 - val_loss: 3.6038 - val_accuracy: 0.5017\n",
      "Epoch 56/100\n",
      "50000/50000 [==============================] - 3s 54us/sample - loss: 0.1569 - accuracy: 0.9455 - val_loss: 3.6073 - val_accuracy: 0.5021\n",
      "Epoch 57/100\n",
      "50000/50000 [==============================] - 3s 53us/sample - loss: 0.1732 - accuracy: 0.9386 - val_loss: 3.6296 - val_accuracy: 0.5033\n",
      "Epoch 58/100\n",
      "50000/50000 [==============================] - 3s 53us/sample - loss: 0.1438 - accuracy: 0.9504 - val_loss: 3.6717 - val_accuracy: 0.5066\n",
      "Epoch 59/100\n",
      "50000/50000 [==============================] - 3s 54us/sample - loss: 0.1371 - accuracy: 0.9535 - val_loss: 3.6683 - val_accuracy: 0.5004\n",
      "Epoch 60/100\n",
      "50000/50000 [==============================] - 3s 53us/sample - loss: 0.1725 - accuracy: 0.9406 - val_loss: 3.6713 - val_accuracy: 0.5007\n",
      "Epoch 61/100\n",
      "50000/50000 [==============================] - 3s 53us/sample - loss: 0.1745 - accuracy: 0.9413 - val_loss: 3.7037 - val_accuracy: 0.5071\n",
      "Epoch 62/100\n",
      "50000/50000 [==============================] - 3s 53us/sample - loss: 0.1529 - accuracy: 0.9477 - val_loss: 3.7262 - val_accuracy: 0.5058\n",
      "Epoch 63/100\n",
      "50000/50000 [==============================] - 3s 54us/sample - loss: 0.1065 - accuracy: 0.9642 - val_loss: 3.8170 - val_accuracy: 0.5058\n",
      "Epoch 64/100\n",
      "50000/50000 [==============================] - 3s 53us/sample - loss: 0.1177 - accuracy: 0.9595 - val_loss: 3.9045 - val_accuracy: 0.4987\n",
      "Epoch 65/100\n",
      "50000/50000 [==============================] - 3s 53us/sample - loss: 0.1828 - accuracy: 0.9379 - val_loss: 3.7563 - val_accuracy: 0.5136\n",
      "Epoch 66/100\n",
      "50000/50000 [==============================] - 3s 53us/sample - loss: 0.1473 - accuracy: 0.9493 - val_loss: 3.7884 - val_accuracy: 0.5011\n",
      "Epoch 67/100\n",
      "50000/50000 [==============================] - 3s 54us/sample - loss: 0.1123 - accuracy: 0.9621 - val_loss: 3.8241 - val_accuracy: 0.5005\n",
      "Epoch 68/100\n",
      "50000/50000 [==============================] - 3s 54us/sample - loss: 0.1255 - accuracy: 0.9576 - val_loss: 3.9444 - val_accuracy: 0.4995\n",
      "Epoch 69/100\n",
      "50000/50000 [==============================] - 3s 53us/sample - loss: 0.1449 - accuracy: 0.9512 - val_loss: 3.8192 - val_accuracy: 0.5030\n",
      "Epoch 70/100\n",
      "50000/50000 [==============================] - 3s 53us/sample - loss: 0.1314 - accuracy: 0.9551 - val_loss: 3.9178 - val_accuracy: 0.5071\n",
      "Epoch 71/100\n",
      "50000/50000 [==============================] - 3s 54us/sample - loss: 0.1335 - accuracy: 0.9544 - val_loss: 3.9033 - val_accuracy: 0.5091\n",
      "Epoch 72/100\n",
      "50000/50000 [==============================] - 3s 53us/sample - loss: 0.1143 - accuracy: 0.9613 - val_loss: 3.9892 - val_accuracy: 0.5007\n",
      "Epoch 73/100\n",
      "50000/50000 [==============================] - 3s 54us/sample - loss: 0.1295 - accuracy: 0.9552 - val_loss: 3.8968 - val_accuracy: 0.5112\n",
      "Epoch 74/100\n",
      "50000/50000 [==============================] - 3s 54us/sample - loss: 0.1547 - accuracy: 0.9477 - val_loss: 3.8539 - val_accuracy: 0.5053\n",
      "Epoch 75/100\n",
      "50000/50000 [==============================] - 3s 54us/sample - loss: 0.1249 - accuracy: 0.9579 - val_loss: 3.9800 - val_accuracy: 0.5063\n",
      "Epoch 76/100\n",
      "50000/50000 [==============================] - 3s 53us/sample - loss: 0.0988 - accuracy: 0.9673 - val_loss: 4.0727 - val_accuracy: 0.5053\n",
      "Epoch 77/100\n",
      "50000/50000 [==============================] - 3s 53us/sample - loss: 0.1176 - accuracy: 0.9596 - val_loss: 3.9789 - val_accuracy: 0.5099\n",
      "Epoch 78/100\n",
      "50000/50000 [==============================] - 3s 53us/sample - loss: 0.1021 - accuracy: 0.9651 - val_loss: 4.0342 - val_accuracy: 0.5016\n",
      "Epoch 79/100\n",
      "50000/50000 [==============================] - 3s 53us/sample - loss: 0.1149 - accuracy: 0.9611 - val_loss: 4.1728 - val_accuracy: 0.4985\n",
      "Epoch 80/100\n",
      "50000/50000 [==============================] - 3s 53us/sample - loss: 0.1276 - accuracy: 0.9577 - val_loss: 4.0464 - val_accuracy: 0.5088\n",
      "Epoch 81/100\n",
      "50000/50000 [==============================] - 3s 53us/sample - loss: 0.1260 - accuracy: 0.9572 - val_loss: 4.1169 - val_accuracy: 0.5069\n",
      "Epoch 82/100\n",
      "50000/50000 [==============================] - 3s 54us/sample - loss: 0.1102 - accuracy: 0.9636 - val_loss: 4.0496 - val_accuracy: 0.5062\n",
      "Epoch 83/100\n",
      "50000/50000 [==============================] - 3s 53us/sample - loss: 0.1011 - accuracy: 0.9666 - val_loss: 4.0313 - val_accuracy: 0.5084\n",
      "Epoch 84/100\n",
      "50000/50000 [==============================] - 3s 54us/sample - loss: 0.1441 - accuracy: 0.9526 - val_loss: 4.0945 - val_accuracy: 0.5044\n",
      "Epoch 85/100\n",
      "50000/50000 [==============================] - 3s 53us/sample - loss: 0.0922 - accuracy: 0.9687 - val_loss: 4.1129 - val_accuracy: 0.5067\n",
      "Epoch 86/100\n",
      "50000/50000 [==============================] - 3s 54us/sample - loss: 0.1043 - accuracy: 0.9659 - val_loss: 4.1354 - val_accuracy: 0.5084\n",
      "Epoch 87/100\n",
      "50000/50000 [==============================] - 3s 53us/sample - loss: 0.1128 - accuracy: 0.9618 - val_loss: 4.0341 - val_accuracy: 0.5014\n",
      "Epoch 88/100\n",
      "50000/50000 [==============================] - 3s 53us/sample - loss: 0.1259 - accuracy: 0.9573 - val_loss: 4.1840 - val_accuracy: 0.5122\n",
      "Epoch 89/100\n",
      "50000/50000 [==============================] - 3s 53us/sample - loss: 0.0800 - accuracy: 0.9741 - val_loss: 4.2630 - val_accuracy: 0.5056\n",
      "Epoch 90/100\n",
      "50000/50000 [==============================] - 3s 53us/sample - loss: 0.0862 - accuracy: 0.9710 - val_loss: 4.2692 - val_accuracy: 0.5039\n",
      "Epoch 91/100\n",
      "50000/50000 [==============================] - 3s 54us/sample - loss: 0.1265 - accuracy: 0.9579 - val_loss: 4.1755 - val_accuracy: 0.5039\n",
      "Epoch 92/100\n",
      "50000/50000 [==============================] - 3s 53us/sample - loss: 0.1090 - accuracy: 0.9633 - val_loss: 4.1816 - val_accuracy: 0.5094\n",
      "Epoch 93/100\n",
      "50000/50000 [==============================] - 3s 54us/sample - loss: 0.0949 - accuracy: 0.9684 - val_loss: 4.2580 - val_accuracy: 0.5055\n",
      "Epoch 94/100\n",
      "50000/50000 [==============================] - 3s 54us/sample - loss: 0.0930 - accuracy: 0.9689 - val_loss: 4.2978 - val_accuracy: 0.5064\n",
      "Epoch 95/100\n",
      "50000/50000 [==============================] - 3s 55us/sample - loss: 0.1081 - accuracy: 0.9630 - val_loss: 4.2962 - val_accuracy: 0.5039\n",
      "Epoch 96/100\n",
      "50000/50000 [==============================] - 3s 55us/sample - loss: 0.0914 - accuracy: 0.9697 - val_loss: 4.2220 - val_accuracy: 0.5105\n",
      "Epoch 97/100\n",
      "50000/50000 [==============================] - 3s 54us/sample - loss: 0.0920 - accuracy: 0.9699 - val_loss: 4.2400 - val_accuracy: 0.5045\n",
      "Epoch 98/100\n",
      "50000/50000 [==============================] - 3s 54us/sample - loss: 0.0938 - accuracy: 0.9682 - val_loss: 4.3185 - val_accuracy: 0.5042\n",
      "Epoch 99/100\n",
      "50000/50000 [==============================] - 3s 54us/sample - loss: 0.0970 - accuracy: 0.9680 - val_loss: 4.2716 - val_accuracy: 0.4979\n",
      "Epoch 100/100\n",
      "50000/50000 [==============================] - 3s 54us/sample - loss: 0.1102 - accuracy: 0.9637 - val_loss: 4.3601 - val_accuracy: 0.5007\n"
     ]
    },
    {
     "data": {
      "text/plain": [
       "<tensorflow.python.keras.callbacks.History at 0x126ae9262b0>"
      ]
     },
     "execution_count": 9,
     "metadata": {},
     "output_type": "execute_result"
    }
   ],
   "source": [
    "model.fit(x_train, y_train, \n",
    "          epochs=EPOCHS, \n",
    "          batch_size=BATCH_SIZE, \n",
    "          validation_data=(x_test, y_test), \n",
    "          shuffle=True)"
   ]
  },
  {
   "cell_type": "code",
   "execution_count": 11,
   "metadata": {},
   "outputs": [
    {
     "data": {
      "image/png": "[encoded data removed]",
      "text/plain": [
       "<Figure size 432x288 with 1 Axes>"
      ]
     },
     "metadata": {
      "needs_background": "light"
     },
     "output_type": "display_data"
    },
    {
     "data": {
      "image/png": "[encoded data removed]",
      "text/plain": [
       "<Figure size 432x288 with 1 Axes>"
      ]
     },
     "metadata": {
      "needs_background": "light"
     },
     "output_type": "display_data"
    }
   ],
   "source": [
    "import matplotlib.pyplot as plt\n",
    "\n",
    "\n",
    "train_loss = model.history.history[\"loss\"]\n",
    "valid_loss = model.history.history[\"val_loss\"]\n",
    "\n",
    "train_acc = model.history.history[\"accuracy\"]\n",
    "valid_acc = model.history.history[\"val_accuracy\"]\n",
    "\n",
    "plt.plot(range(len(train_loss)), train_loss, label=\"train loss\")\n",
    "plt.plot(range(len(valid_loss)), valid_loss, label=\"valid loss\")\n",
    "plt.legend()\n",
    "plt.title(\"Loss\")\n",
    "plt.show()\n",
    "\n",
    "plt.plot(range(len(train_acc)), train_acc, label=\"train accuracy\")\n",
    "plt.plot(range(len(valid_acc)), valid_acc, label=\"valid accuracy\")\n",
    "plt.legend()\n",
    "plt.title(\"Accuracy\")\n",
    "plt.show()"
   ]
  },
  {
   "cell_type": "code",
   "execution_count": null,
   "metadata": {},
   "outputs": [],
   "source": []
  }
 ],
 "metadata": {
  "kernelspec": {
   "display_name": "ML100",
   "language": "python",
   "name": "ml100"
  },
  "language_info": {
   "codemirror_mode": {
    "name": "ipython",
    "version": 3
   },
   "file_extension": ".py",
   "mimetype": "text/x-python",
   "name": "python",
   "nbconvert_exporter": "python",
   "pygments_lexer": "ipython3",
   "version": "3.7.3"
  }
 },
 "nbformat": 4,
 "nbformat_minor": 2
}
