{
 "cells": [
  {
   "cell_type": "markdown",
   "metadata": {},
   "source": [
    "## 範例重點\n",
    "* 學習如何在 keras 中加入 reduce learning rate\n",
    "* 知道如何設定 reduce_lr 的監控目標\n",
    "* 比較使用有無使用 reduce_lr 時的 performance"
   ]
  },
  {
   "cell_type": "code",
   "execution_count": 1,
   "metadata": {},
   "outputs": [],
   "source": [
    "import os\n",
    "from tensorflow import keras\n",
    "\n",
    "# 本範例不需使用 GPU, 將 GPU 設定為 \"無\"\n",
    "os.environ[\"CUDA_VISIBLE_DEVICES\"] = \"0\""
   ]
  },
  {
   "cell_type": "code",
   "execution_count": 2,
   "metadata": {},
   "outputs": [],
   "source": [
    "train, test = keras.datasets.cifar10.load_data()"
   ]
  },
  {
   "cell_type": "code",
   "execution_count": 3,
   "metadata": {},
   "outputs": [],
   "source": [
    "## 資料前處理\n",
    "def preproc_x(x, flatten=True):\n",
    "    x = x / 255.\n",
    "    if flatten:\n",
    "        x = x.reshape((len(x), -1))\n",
    "    return x\n",
    "\n",
    "def preproc_y(y, num_classes=10):\n",
    "    if y.shape[-1] == 1:\n",
    "        y = keras.utils.to_categorical(y, num_classes)\n",
    "    return y    "
   ]
  },
  {
   "cell_type": "code",
   "execution_count": 4,
   "metadata": {},
   "outputs": [],
   "source": [
    "x_train, y_train = train\n",
    "x_test, y_test = test\n",
    "\n",
    "# 資料前處理 - X 標準化\n",
    "x_train = preproc_x(x_train)\n",
    "x_test = preproc_x(x_test)\n",
    "\n",
    "# 資料前處理 -Y 轉成 onehot\n",
    "y_train = preproc_y(y_train)\n",
    "y_test = preproc_y(y_test)"
   ]
  },
  {
   "cell_type": "code",
   "execution_count": 5,
   "metadata": {},
   "outputs": [],
   "source": [
    "from tensorflow.keras.layers import BatchNormalization\n",
    "\n",
    "\"\"\"\n",
    "建立神經網路，並加入 BN layer\n",
    "\"\"\"\n",
    "def build_mlp(input_shape, output_units=10, num_neurons=[512, 256, 128]):\n",
    "    input_layer = keras.layers.Input(input_shape)\n",
    "    \n",
    "    for i, n_units in enumerate(num_neurons):\n",
    "        if i == 0:\n",
    "            x = keras.layers.Dense(units=n_units, \n",
    "                                   activation=\"relu\", \n",
    "                                   name=\"hidden_layer\"+str(i+1))(input_layer)\n",
    "            x = BatchNormalization()(x)\n",
    "        else:\n",
    "            x = keras.layers.Dense(units=n_units, \n",
    "                                   activation=\"relu\", \n",
    "                                   name=\"hidden_layer\"+str(i+1))(x)\n",
    "            x = BatchNormalization()(x)\n",
    "    \n",
    "    out = keras.layers.Dense(units=output_units, activation=\"softmax\", name=\"output\")(x)\n",
    "    \n",
    "    model = keras.models.Model(inputs=[input_layer], outputs=[out])\n",
    "    return model"
   ]
  },
  {
   "cell_type": "code",
   "execution_count": 6,
   "metadata": {},
   "outputs": [],
   "source": [
    "## 超參數設定\n",
    "LEARNING_RATE = 1e-3\n",
    "EPOCHS = 50\n",
    "BATCH_SIZE = 1024\n",
    "MOMENTUM = 0.95"
   ]
  },
  {
   "cell_type": "code",
   "execution_count": 7,
   "metadata": {},
   "outputs": [],
   "source": [
    "\"\"\"\n",
    "# 載入 Callbacks, 並設定監控目標為 validation loss\n",
    "\"\"\"\n",
    "from tensorflow.keras.callbacks import ReduceLROnPlateau\n",
    "\n",
    "reduce_lr = ReduceLROnPlateau(factor=0.5,\n",
    "                              min_lr=1e-12,\n",
    "                              monitor='val_loss',\n",
    "                              patience=5,\n",
    "                              verbose=1)"
   ]
  },
  {
   "cell_type": "code",
   "execution_count": 8,
   "metadata": {
    "scrolled": true
   },
   "outputs": [
    {
     "name": "stderr",
     "output_type": "stream",
     "text": [
      "WARNING: Logging before flag parsing goes to stderr.\n",
      "W0722 21:24:40.186674 11388 deprecation.py:323] From c:\\users\\qwerz\\miniconda3\\envs\\ml100\\lib\\site-packages\\tensorflow\\python\\ops\\math_grad.py:1250: add_dispatch_support.<locals>.wrapper (from tensorflow.python.ops.array_ops) is deprecated and will be removed in a future version.\n",
      "Instructions for updating:\n",
      "Use tf.where in 2.0, which has the same broadcast rule as np.where\n"
     ]
    },
    {
     "name": "stdout",
     "output_type": "stream",
     "text": [
      "Model: \"model\"\n",
      "_________________________________________________________________\n",
      "Layer (type)                 Output Shape              Param #   \n",
      "=================================================================\n",
      "input_1 (InputLayer)         [(None, 3072)]            0         \n",
      "_________________________________________________________________\n",
      "hidden_layer1 (Dense)        (None, 512)               1573376   \n",
      "_________________________________________________________________\n",
      "batch_normalization (BatchNo (None, 512)               2048      \n",
      "_________________________________________________________________\n",
      "hidden_layer2 (Dense)        (None, 256)               131328    \n",
      "_________________________________________________________________\n",
      "batch_normalization_1 (Batch (None, 256)               1024      \n",
      "_________________________________________________________________\n",
      "hidden_layer3 (Dense)        (None, 128)               32896     \n",
      "_________________________________________________________________\n",
      "batch_normalization_2 (Batch (None, 128)               512       \n",
      "_________________________________________________________________\n",
      "output (Dense)               (None, 10)                1290      \n",
      "=================================================================\n",
      "Total params: 1,742,474\n",
      "Trainable params: 1,740,682\n",
      "Non-trainable params: 1,792\n",
      "_________________________________________________________________\n",
      "Train on 50000 samples, validate on 10000 samples\n",
      "Epoch 1/50\n",
      "50000/50000 [==============================] - 3s 67us/sample - loss: 2.2287 - accuracy: 0.2666 - val_loss: 2.1134 - val_accuracy: 0.2121\n",
      "Epoch 2/50\n",
      "50000/50000 [==============================] - 2s 46us/sample - loss: 1.7471 - accuracy: 0.3943 - val_loss: 1.9777 - val_accuracy: 0.2868\n",
      "Epoch 3/50\n",
      "50000/50000 [==============================] - 2s 45us/sample - loss: 1.6240 - accuracy: 0.4337 - val_loss: 1.8458 - val_accuracy: 0.3494\n",
      "Epoch 4/50\n",
      "50000/50000 [==============================] - 2s 45us/sample - loss: 1.5515 - accuracy: 0.4598 - val_loss: 1.7528 - val_accuracy: 0.3837\n",
      "Epoch 5/50\n",
      "50000/50000 [==============================] - 2s 45us/sample - loss: 1.4977 - accuracy: 0.4779 - val_loss: 1.6612 - val_accuracy: 0.4124\n",
      "Epoch 6/50\n",
      "50000/50000 [==============================] - 2s 45us/sample - loss: 1.4526 - accuracy: 0.4933 - val_loss: 1.6010 - val_accuracy: 0.4392\n",
      "Epoch 7/50\n",
      "50000/50000 [==============================] - 2s 45us/sample - loss: 1.4133 - accuracy: 0.5091 - val_loss: 1.5671 - val_accuracy: 0.4479\n",
      "Epoch 8/50\n",
      "50000/50000 [==============================] - 2s 45us/sample - loss: 1.3790 - accuracy: 0.5208 - val_loss: 1.5320 - val_accuracy: 0.4577\n",
      "Epoch 9/50\n",
      "50000/50000 [==============================] - 2s 45us/sample - loss: 1.3437 - accuracy: 0.5346 - val_loss: 1.5180 - val_accuracy: 0.4644\n",
      "Epoch 10/50\n",
      "50000/50000 [==============================] - 2s 44us/sample - loss: 1.3161 - accuracy: 0.5436 - val_loss: 1.4990 - val_accuracy: 0.4726\n",
      "Epoch 11/50\n",
      "50000/50000 [==============================] - 2s 44us/sample - loss: 1.2873 - accuracy: 0.5548 - val_loss: 1.4946 - val_accuracy: 0.4755\n",
      "Epoch 12/50\n",
      "50000/50000 [==============================] - 2s 44us/sample - loss: 1.2622 - accuracy: 0.5650 - val_loss: 1.4838 - val_accuracy: 0.4724\n",
      "Epoch 13/50\n",
      "50000/50000 [==============================] - 2s 44us/sample - loss: 1.2356 - accuracy: 0.5729 - val_loss: 1.4792 - val_accuracy: 0.4789\n",
      "Epoch 14/50\n",
      "50000/50000 [==============================] - 2s 44us/sample - loss: 1.2096 - accuracy: 0.5838 - val_loss: 1.4661 - val_accuracy: 0.4862\n",
      "Epoch 15/50\n",
      "50000/50000 [==============================] - 2s 45us/sample - loss: 1.1857 - accuracy: 0.5912 - val_loss: 1.4756 - val_accuracy: 0.4816\n",
      "Epoch 16/50\n",
      "50000/50000 [==============================] - 2s 46us/sample - loss: 1.1630 - accuracy: 0.6001 - val_loss: 1.4664 - val_accuracy: 0.4817\n",
      "Epoch 17/50\n",
      "50000/50000 [==============================] - 2s 49us/sample - loss: 1.1408 - accuracy: 0.6090 - val_loss: 1.4708 - val_accuracy: 0.4866\n",
      "Epoch 18/50\n",
      "50000/50000 [==============================] - 2s 48us/sample - loss: 1.1191 - accuracy: 0.6164 - val_loss: 1.4573 - val_accuracy: 0.4896\n",
      "Epoch 19/50\n",
      "50000/50000 [==============================] - 2s 45us/sample - loss: 1.0963 - accuracy: 0.6258 - val_loss: 1.4580 - val_accuracy: 0.4874\n",
      "Epoch 20/50\n",
      "50000/50000 [==============================] - 2s 45us/sample - loss: 1.0742 - accuracy: 0.6334 - val_loss: 1.4622 - val_accuracy: 0.4875\n",
      "Epoch 21/50\n",
      "50000/50000 [==============================] - 3s 52us/sample - loss: 1.0520 - accuracy: 0.6424 - val_loss: 1.4671 - val_accuracy: 0.4921\n",
      "Epoch 22/50\n",
      "50000/50000 [==============================] - 2s 45us/sample - loss: 1.0317 - accuracy: 0.6501 - val_loss: 1.4557 - val_accuracy: 0.4955\n",
      "Epoch 23/50\n",
      "50000/50000 [==============================] - 2s 45us/sample - loss: 1.0104 - accuracy: 0.6598 - val_loss: 1.4613 - val_accuracy: 0.4945\n",
      "Epoch 24/50\n",
      "50000/50000 [==============================] - 2s 45us/sample - loss: 0.9898 - accuracy: 0.6682 - val_loss: 1.4706 - val_accuracy: 0.4852\n",
      "Epoch 25/50\n",
      "50000/50000 [==============================] - 2s 46us/sample - loss: 0.9676 - accuracy: 0.6763 - val_loss: 1.4702 - val_accuracy: 0.4941\n",
      "Epoch 26/50\n",
      "50000/50000 [==============================] - 2s 45us/sample - loss: 0.9497 - accuracy: 0.6810 - val_loss: 1.4712 - val_accuracy: 0.4899\n",
      "Epoch 27/50\n",
      "48128/50000 [===========================>..] - ETA: 0s - loss: 0.9267 - accuracy: 0.6910\n",
      "Epoch 00027: ReduceLROnPlateau reducing learning rate to 0.0005000000237487257.\n",
      "50000/50000 [==============================] - 2s 45us/sample - loss: 0.9273 - accuracy: 0.6907 - val_loss: 1.4735 - val_accuracy: 0.4906\n",
      "Epoch 28/50\n",
      "50000/50000 [==============================] - 2s 45us/sample - loss: 0.8999 - accuracy: 0.7022 - val_loss: 1.4737 - val_accuracy: 0.4950\n",
      "Epoch 29/50\n",
      "50000/50000 [==============================] - 2s 45us/sample - loss: 0.8808 - accuracy: 0.7104 - val_loss: 1.4705 - val_accuracy: 0.4980\n",
      "Epoch 30/50\n",
      "50000/50000 [==============================] - 2s 45us/sample - loss: 0.8688 - accuracy: 0.7170 - val_loss: 1.4663 - val_accuracy: 0.5020\n",
      "Epoch 31/50\n",
      "50000/50000 [==============================] - 2s 46us/sample - loss: 0.8595 - accuracy: 0.7196 - val_loss: 1.4736 - val_accuracy: 0.4966\n",
      "Epoch 32/50\n",
      "48128/50000 [===========================>..] - ETA: 0s - loss: 0.8473 - accuracy: 0.7236\n",
      "Epoch 00032: ReduceLROnPlateau reducing learning rate to 0.0002500000118743628.\n",
      "50000/50000 [==============================] - 2s 46us/sample - loss: 0.8474 - accuracy: 0.7237 - val_loss: 1.4764 - val_accuracy: 0.4970\n",
      "Epoch 33/50\n",
      "50000/50000 [==============================] - 2s 45us/sample - loss: 0.8326 - accuracy: 0.7307 - val_loss: 1.4761 - val_accuracy: 0.5009\n",
      "Epoch 34/50\n",
      "50000/50000 [==============================] - 2s 45us/sample - loss: 0.8225 - accuracy: 0.7339 - val_loss: 1.4722 - val_accuracy: 0.4995\n",
      "Epoch 35/50\n",
      "50000/50000 [==============================] - 2s 45us/sample - loss: 0.8166 - accuracy: 0.7368 - val_loss: 1.4781 - val_accuracy: 0.4976\n",
      "Epoch 36/50\n",
      "50000/50000 [==============================] - 2s 45us/sample - loss: 0.8116 - accuracy: 0.7394 - val_loss: 1.4853 - val_accuracy: 0.4983\n",
      "Epoch 37/50\n",
      "48128/50000 [===========================>..] - ETA: 0s - loss: 0.8037 - accuracy: 0.7422\n",
      "Epoch 00037: ReduceLROnPlateau reducing learning rate to 0.0001250000059371814.\n",
      "50000/50000 [==============================] - 2s 45us/sample - loss: 0.8053 - accuracy: 0.7416 - val_loss: 1.4814 - val_accuracy: 0.5002\n",
      "Epoch 38/50\n",
      "50000/50000 [==============================] - 2s 45us/sample - loss: 0.7972 - accuracy: 0.7460 - val_loss: 1.4810 - val_accuracy: 0.5004\n",
      "Epoch 39/50\n",
      "50000/50000 [==============================] - 2s 45us/sample - loss: 0.7928 - accuracy: 0.7478 - val_loss: 1.4808 - val_accuracy: 0.5007\n",
      "Epoch 40/50\n",
      "50000/50000 [==============================] - 2s 45us/sample - loss: 0.7895 - accuracy: 0.7485 - val_loss: 1.4817 - val_accuracy: 0.5014\n",
      "Epoch 41/50\n",
      "50000/50000 [==============================] - 2s 46us/sample - loss: 0.7866 - accuracy: 0.7503 - val_loss: 1.4850 - val_accuracy: 0.5006\n",
      "Epoch 42/50\n"
     ]
    },
    {
     "name": "stdout",
     "output_type": "stream",
     "text": [
      "48128/50000 [===========================>..] - ETA: 0s - loss: 0.7859 - accuracy: 0.7501\n",
      "Epoch 00042: ReduceLROnPlateau reducing learning rate to 6.25000029685907e-05.\n",
      "50000/50000 [==============================] - 2s 45us/sample - loss: 0.7849 - accuracy: 0.7504 - val_loss: 1.4872 - val_accuracy: 0.5020\n",
      "Epoch 43/50\n",
      "50000/50000 [==============================] - 2s 45us/sample - loss: 0.7794 - accuracy: 0.7523 - val_loss: 1.4864 - val_accuracy: 0.5012\n",
      "Epoch 44/50\n",
      "50000/50000 [==============================] - 2s 46us/sample - loss: 0.7779 - accuracy: 0.7548 - val_loss: 1.4851 - val_accuracy: 0.5036\n",
      "Epoch 45/50\n",
      "50000/50000 [==============================] - 2s 45us/sample - loss: 0.7759 - accuracy: 0.7562 - val_loss: 1.4852 - val_accuracy: 0.5024\n",
      "Epoch 46/50\n",
      "50000/50000 [==============================] - 2s 45us/sample - loss: 0.7743 - accuracy: 0.7556 - val_loss: 1.4877 - val_accuracy: 0.5031\n",
      "Epoch 47/50\n",
      "48128/50000 [===========================>..] - ETA: 0s - loss: 0.7736 - accuracy: 0.7557\n",
      "Epoch 00047: ReduceLROnPlateau reducing learning rate to 3.125000148429535e-05.\n",
      "50000/50000 [==============================] - 2s 45us/sample - loss: 0.7730 - accuracy: 0.7557 - val_loss: 1.4880 - val_accuracy: 0.5030\n",
      "Epoch 48/50\n",
      "50000/50000 [==============================] - 2s 45us/sample - loss: 0.7703 - accuracy: 0.7579 - val_loss: 1.4869 - val_accuracy: 0.5035\n",
      "Epoch 49/50\n",
      "50000/50000 [==============================] - 2s 45us/sample - loss: 0.7686 - accuracy: 0.7579 - val_loss: 1.4881 - val_accuracy: 0.5032\n",
      "Epoch 50/50\n",
      "50000/50000 [==============================] - 2s 45us/sample - loss: 0.7680 - accuracy: 0.7586 - val_loss: 1.4876 - val_accuracy: 0.5034\n"
     ]
    }
   ],
   "source": [
    "model = build_mlp(input_shape=x_train.shape[1:])\n",
    "model.summary()\n",
    "optimizer = keras.optimizers.SGD(lr=LEARNING_RATE, nesterov=True, momentum=MOMENTUM)\n",
    "model.compile(loss=\"categorical_crossentropy\", metrics=[\"accuracy\"], optimizer=optimizer)\n",
    "\n",
    "model.fit(x_train, y_train, \n",
    "          epochs=EPOCHS, \n",
    "          batch_size=BATCH_SIZE, \n",
    "          validation_data=(x_test, y_test), \n",
    "          shuffle=True,\n",
    "          callbacks=[reduce_lr]\n",
    "         )\n",
    "\n",
    "# Collect results\n",
    "train_loss = model.history.history[\"loss\"]\n",
    "valid_loss = model.history.history[\"val_loss\"]\n",
    "train_acc = model.history.history[\"accuracy\"]\n",
    "valid_acc = model.history.history[\"val_accuracy\"]"
   ]
  },
  {
   "cell_type": "code",
   "execution_count": 9,
   "metadata": {},
   "outputs": [
    {
     "data": {
      "image/png": "[encoded data removed]",
      "text/plain": [
       "<Figure size 432x288 with 1 Axes>"
      ]
     },
     "metadata": {
      "needs_background": "light"
     },
     "output_type": "display_data"
    },
    {
     "data": {
      "image/png": "[encoded data removed]",
      "text/plain": [
       "<Figure size 432x288 with 1 Axes>"
      ]
     },
     "metadata": {
      "needs_background": "light"
     },
     "output_type": "display_data"
    }
   ],
   "source": [
    "import matplotlib.pyplot as plt\n",
    "%matplotlib inline\n",
    "\n",
    "plt.plot(range(len(train_loss)), train_loss, label=\"train loss\")\n",
    "plt.plot(range(len(valid_loss)), valid_loss, label=\"valid loss\")\n",
    "plt.legend()\n",
    "plt.title(\"Loss\")\n",
    "plt.show()\n",
    "\n",
    "plt.plot(range(len(train_acc)), train_acc, label=\"train accuracy\")\n",
    "plt.plot(range(len(valid_acc)), valid_acc, label=\"valid accuracy\")\n",
    "plt.legend()\n",
    "plt.title(\"Accuracy\")\n",
    "plt.show()"
   ]
  },
  {
   "cell_type": "markdown",
   "metadata": {},
   "source": [
    "## Work\n",
    "1. 請改變 reduce_lr 的 patience 和 factor 並比較不同設定下，對訓練/驗證集的影響\n",
    "2. 請將 optimizer 換成 Adam、RMSprop 搭配 reduce_lr 並比較訓練結果"
   ]
  }
 ],
 "metadata": {
  "kernelspec": {
   "display_name": "Python 3",
   "language": "python",
   "name": "python3"
  },
  "language_info": {
   "codemirror_mode": {
    "name": "ipython",
    "version": 3
   },
   "file_extension": ".py",
   "mimetype": "text/x-python",
   "name": "python",
   "nbconvert_exporter": "python",
   "pygments_lexer": "ipython3",
   "version": "3.7.3"
  }
 },
 "nbformat": 4,
 "nbformat_minor": 2
}
